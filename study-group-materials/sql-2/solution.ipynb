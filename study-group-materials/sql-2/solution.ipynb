{
 "cells": [
  {
   "cell_type": "markdown",
   "metadata": {
    "heading_collapsed": true
   },
   "source": [
    "# SQL Practice\n",
    "This notebook contains exercises for SQL fundamentals. \n",
    "\n",
    "The `Chinook_Sqlite.sqlite` and `Northwind.sqlite` databases are stored in the `data` folder of this repository. "
   ]
  },
  {
   "cell_type": "markdown",
   "metadata": {
    "heading_collapsed": true,
    "hidden": true
   },
   "source": [
    "### Entity Relationship Diagrams"
   ]
  },
  {
   "cell_type": "markdown",
   "metadata": {
    "heading_collapsed": true,
    "hidden": true
   },
   "source": [
    "#### Northwind ERD"
   ]
  },
  {
   "cell_type": "markdown",
   "metadata": {
    "hidden": true
   },
   "source": [
    "![](../../static/Northwind_ERD.png)    "
   ]
  },
  {
   "cell_type": "markdown",
   "metadata": {
    "heading_collapsed": true,
    "hidden": true
   },
   "source": [
    "#### Chinook ERD"
   ]
  },
  {
   "cell_type": "markdown",
   "metadata": {
    "hidden": true
   },
   "source": [
    "![](../../static/Chinook_ERD.jpg)"
   ]
  },
  {
   "cell_type": "markdown",
   "metadata": {
    "heading_collapsed": true,
    "hidden": true
   },
   "source": [
    "#### Note\n",
    ">The table names in the ERD do not perfectly match the table names in the database. You can use the sql query `SELECT name FROM sqlite_master WHERE type='table';` to see the names of the tables.\n",
    "\n",
    "Below we open up a connection to each database."
   ]
  },
  {
   "cell_type": "markdown",
   "metadata": {
    "hidden": true
   },
   "source": [
    "Now we create a cursor for each database."
   ]
  },
  {
   "cell_type": "markdown",
   "metadata": {
    "heading_collapsed": true,
    "hidden": true
   },
   "source": [
    "## Let's first review some fundamental commands."
   ]
  },
  {
   "cell_type": "markdown",
   "metadata": {
    "ExecuteTime": {
     "end_time": "2020-12-10T17:05:58.778715Z",
     "start_time": "2020-12-10T17:05:58.775088Z"
    },
    "heading_collapsed": true,
    "hidden": true
   },
   "source": [
    "### `SELECT`\n",
    "\n",
    "In the cell below, use the `SELECT` command to select all records from the northwind `product` table."
   ]
  },
  {
   "cell_type": "markdown",
   "metadata": {
    "heading_collapsed": true,
    "hidden": true
   },
   "source": [
    "#### Selecting one column\n",
    "\n",
    "Next let's only collect the product names from the `product` table."
   ]
  },
  {
   "cell_type": "markdown",
   "metadata": {
    "heading_collapsed": true,
    "hidden": true
   },
   "source": [
    "#### Selecting more than one column\n",
    "\n",
    "In the cell below we will collect the product names, unit price, and units in stock columns from the `product` table."
   ]
  },
  {
   "cell_type": "markdown",
   "metadata": {
    "heading_collapsed": true,
    "hidden": true
   },
   "source": [
    "### `WHERE`\n",
    "\n",
    "In the cell below, use the `WHERE` command to select all records from the `product` table that have a unit price that is greater than $100."
   ]
  },
  {
   "cell_type": "markdown",
   "metadata": {
    "heading_collapsed": true,
    "hidden": true
   },
   "source": [
    "### `AND`\n",
    "In the cell below collect the name of of products with a unit price > 100 with less than 10 units in stock. "
   ]
  },
  {
   "cell_type": "markdown",
   "metadata": {
    "heading_collapsed": true,
    "hidden": true
   },
   "source": [
    "### `JOIN`\n",
    "\n",
    "In the cell below we use the `JOIN` command to return the unit price and the name of the supplier."
   ]
  },
  {
   "cell_type": "markdown",
   "metadata": {
    "heading_collapsed": true,
    "hidden": true
   },
   "source": [
    "### `DISTINCT`\n",
    "\n",
    "In the cell below, use the `DISTINCT` command to collect all unique discount values from the orderdetail table."
   ]
  },
  {
   "cell_type": "markdown",
   "metadata": {
    "heading_collapsed": true,
    "hidden": true
   },
   "source": [
    "### Column broadcasting\n",
    "\n",
    "In the cell below we calculate the total amount spent by multiplying the unit price times the quantity and subtracking the discount."
   ]
  },
  {
   "cell_type": "markdown",
   "metadata": {
    "heading_collapsed": true,
    "hidden": true
   },
   "source": [
    "### `GROUPBY`\n",
    "In the cell below, use the `GROUPBY` command to collect the total amount spent on an order."
   ]
  },
  {
   "cell_type": "markdown",
   "metadata": {
    "heading_collapsed": true,
    "hidden": true
   },
   "source": [
    "### `ORDER BY` and `ASC/DESC`\n",
    "In the cell below, we collect all product names and unit prices and sort by unitprice in descending order."
   ]
  },
  {
   "cell_type": "markdown",
   "metadata": {
    "heading_collapsed": true,
    "hidden": true
   },
   "source": [
    "### Selecting all from both tables\n",
    "\n",
    "In the cell below we use the `JOIN` command to return all product and supplier information from the `product` and `supplier` tables."
   ]
  },
  {
   "cell_type": "markdown",
   "metadata": {
    "heading_collapsed": true
   },
   "source": [
    "# Pair Programming\n",
    "\n",
    "Five SQL tasks have been provided for each of the two databases. \n",
    "\n",
    "For each database, one students should share their screen and write the code. The other student should navigate. Once students have completed the questions for the first database, students should switch roles for the second database. "
   ]
  },
  {
   "cell_type": "markdown",
   "metadata": {
    "hidden": true
   },
   "source": [
    "## Northwind Practice"
   ]
  },
  {
   "cell_type": "markdown",
   "metadata": {
    "heading_collapsed": true,
    "hidden": true
   },
   "source": [
    "### Task 1\n",
    "\n",
    "Select all observations from the `orderdetail` table."
   ]
  },
  {
   "cell_type": "code",
   "execution_count": 52,
   "metadata": {
    "ExecuteTime": {
     "end_time": "2020-12-10T18:08:54.901293Z",
     "start_time": "2020-12-10T18:08:54.896867Z"
    },
    "hidden": true
   },
   "outputs": [
    {
     "data": {
      "text/plain": [
       "[('10248/11', 10248, 11, 14, 12, 0.0),\n",
       " ('10248/42', 10248, 42, 9.8, 10, 0.0),\n",
       " ('10248/72', 10248, 72, 34.8, 5, 0.0)]"
      ]
     },
     "execution_count": 52,
     "metadata": {},
     "output_type": "execute_result"
    }
   ],
   "source": [
    "query = '''SELECT * from orderdetail;'''\n",
    "northwind.execute(query)\n",
    "northwind.fetchmany(3)"
   ]
  },
  {
   "cell_type": "markdown",
   "metadata": {
    "heading_collapsed": true,
    "hidden": true
   },
   "source": [
    "### Task 2\n",
    "Select the product name and quantity per unit columns from the `product` table."
   ]
  },
  {
   "cell_type": "code",
   "execution_count": 53,
   "metadata": {
    "ExecuteTime": {
     "end_time": "2020-12-10T18:10:08.844206Z",
     "start_time": "2020-12-10T18:10:08.839750Z"
    },
    "hidden": true
   },
   "outputs": [
    {
     "data": {
      "text/plain": [
       "[('Chai', '10 boxes x 20 bags'),\n",
       " ('Chang', '24 - 12 oz bottles'),\n",
       " ('Aniseed Syrup', '12 - 550 ml bottles')]"
      ]
     },
     "execution_count": 53,
     "metadata": {},
     "output_type": "execute_result"
    }
   ],
   "source": [
    "query = '''SELECT productname, quantityperunit FROM product;'''\n",
    "northwind.execute(query)\n",
    "northwind.fetchmany(3)"
   ]
  },
  {
   "cell_type": "markdown",
   "metadata": {
    "heading_collapsed": true,
    "hidden": true
   },
   "source": [
    "### Task 3\n",
    "Select all columns from the `order detail` table and the product name and quanitity per unit columns from the `product`"
   ]
  },
  {
   "cell_type": "code",
   "execution_count": 58,
   "metadata": {
    "ExecuteTime": {
     "end_time": "2020-12-10T18:14:10.951383Z",
     "start_time": "2020-12-10T18:14:10.946752Z"
    },
    "hidden": true
   },
   "outputs": [
    {
     "data": {
      "text/plain": [
       "('10248/11', 10248, 11, 14, 12, 0.0, 'Queso Cabrales', '1 kg pkg.')"
      ]
     },
     "execution_count": 58,
     "metadata": {},
     "output_type": "execute_result"
    }
   ],
   "source": [
    "query = '''SELECT od.*, p.productname, p.quantityperunit\n",
    "            FROM orderdetail od\n",
    "            INNER JOIN product p\n",
    "            ON p.id = od.productid;'''\n",
    "northwind.execute(query)\n",
    "northwind.fetchone()"
   ]
  },
  {
   "cell_type": "markdown",
   "metadata": {
    "heading_collapsed": true,
    "hidden": true
   },
   "source": [
    "### Task 4\n",
    "Select all columns from the `order detail` and `order` table, and the product name and quanitity per unit columns from the `product` table"
   ]
  },
  {
   "cell_type": "code",
   "execution_count": 62,
   "metadata": {
    "ExecuteTime": {
     "end_time": "2020-12-10T18:18:42.902055Z",
     "start_time": "2020-12-10T18:18:42.897639Z"
    },
    "hidden": true
   },
   "outputs": [
    {
     "data": {
      "text/plain": [
       "(10248,\n",
       " 'VINET',\n",
       " 5,\n",
       " '2012-07-04',\n",
       " '2012-08-01',\n",
       " '2012-07-16',\n",
       " 3,\n",
       " 32.38,\n",
       " 'Vins et alcools Chevalier',\n",
       " \"59 rue de l'Abbaye\",\n",
       " 'Reims',\n",
       " 'Western Europe',\n",
       " '51100',\n",
       " 'France',\n",
       " '10248/11',\n",
       " 10248,\n",
       " 11,\n",
       " 14,\n",
       " 12,\n",
       " 0.0,\n",
       " 'Queso Cabrales',\n",
       " '1 kg pkg.')"
      ]
     },
     "execution_count": 62,
     "metadata": {},
     "output_type": "execute_result"
    }
   ],
   "source": [
    "query = '''SELECT o.*, od.*, p.productname, p.quantityperunit\n",
    "            FROM \"order\" o INNER JOIN orderdetail od\n",
    "            on od.orderid = o.id\n",
    "            INNER JOIN product p\n",
    "            ON od.productid = p.id;'''\n",
    "northwind.execute(query)\n",
    "northwind.fetchone()"
   ]
  },
  {
   "cell_type": "markdown",
   "metadata": {
    "heading_collapsed": true,
    "hidden": true
   },
   "source": [
    "### Task 5"
   ]
  },
  {
   "cell_type": "markdown",
   "metadata": {
    "hidden": true
   },
   "source": [
    "Select the unique company names and phone number from the `shipper` table for orders with a freight cost that is larger than $100"
   ]
  },
  {
   "cell_type": "code",
   "execution_count": 66,
   "metadata": {
    "ExecuteTime": {
     "end_time": "2020-12-10T18:25:28.607751Z",
     "start_time": "2020-12-10T18:25:28.602433Z"
    },
    "hidden": true
   },
   "outputs": [
    {
     "data": {
      "text/plain": [
       "[('Federal Shipping', '(503) 555-9931'),\n",
       " ('Speedy Express', '(503) 555-9831'),\n",
       " ('United Package', '(503) 555-3199')]"
      ]
     },
     "execution_count": 66,
     "metadata": {},
     "output_type": "execute_result"
    }
   ],
   "source": [
    "query = '''SELECT DISTINCT companyname, phone FROM shipper s\n",
    "            INNER JOIN \"order\" o\n",
    "            ON s.id = o.shipvia\n",
    "            WHERE o.freight > 100\n",
    "            '''\n",
    "northwind.execute(query)\n",
    "northwind.fetchmany(3)"
   ]
  },
  {
   "cell_type": "markdown",
   "metadata": {
    "heading_collapsed": true,
    "hidden": true
   },
   "source": [
    "## Chinook Practice"
   ]
  },
  {
   "cell_type": "markdown",
   "metadata": {
    "heading_collapsed": true,
    "hidden": true
   },
   "source": [
    "### Task 1\n",
    "Collect all oberservations from the genres table."
   ]
  },
  {
   "cell_type": "code",
   "execution_count": 71,
   "metadata": {
    "ExecuteTime": {
     "end_time": "2020-12-10T18:29:38.511650Z",
     "start_time": "2020-12-10T18:29:38.507399Z"
    },
    "hidden": true
   },
   "outputs": [
    {
     "data": {
      "text/plain": [
       "[(1, 'Rock'), (2, 'Jazz'), (3, 'Metal')]"
      ]
     },
     "execution_count": 71,
     "metadata": {},
     "output_type": "execute_result"
    }
   ],
   "source": [
    "query = '''SELECT * FROM genre'''\n",
    "chinook.execute(query)\n",
    "chinook.fetchmany(3)"
   ]
  },
  {
   "cell_type": "markdown",
   "metadata": {
    "heading_collapsed": true,
    "hidden": true
   },
   "source": [
    "### Task 2\n",
    "Collect the first name, last name, and email for all customers."
   ]
  },
  {
   "cell_type": "code",
   "execution_count": 68,
   "metadata": {
    "ExecuteTime": {
     "end_time": "2020-12-10T18:27:33.289411Z",
     "start_time": "2020-12-10T18:27:33.284338Z"
    },
    "hidden": true
   },
   "outputs": [
    {
     "data": {
      "text/plain": [
       "[('Luís', 'Gonçalves', 'luisg@embraer.com.br'),\n",
       " ('Leonie', 'Köhler', 'leonekohler@surfeu.de'),\n",
       " ('François', 'Tremblay', 'ftremblay@gmail.com')]"
      ]
     },
     "execution_count": 68,
     "metadata": {},
     "output_type": "execute_result"
    }
   ],
   "source": [
    "query = '''SELECT firstname, lastname, email FROM customer;'''\n",
    "chinook.execute(query)\n",
    "chinook.fetchmany(3)"
   ]
  },
  {
   "cell_type": "markdown",
   "metadata": {
    "heading_collapsed": true,
    "hidden": true
   },
   "source": [
    "### Task 3\n",
    "Collect all track names with a blues genre."
   ]
  },
  {
   "cell_type": "code",
   "execution_count": 85,
   "metadata": {
    "ExecuteTime": {
     "end_time": "2020-12-10T18:33:40.220194Z",
     "start_time": "2020-12-10T18:33:40.215661Z"
    },
    "hidden": true
   },
   "outputs": [
    {
     "data": {
      "text/plain": [
       "[('First Time I Met The Blues',), ('Let Me Love You Baby',), ('Stone Crazy',)]"
      ]
     },
     "execution_count": 85,
     "metadata": {},
     "output_type": "execute_result"
    }
   ],
   "source": [
    "query = '''SELECT t.name FROM track t\n",
    "            INNER JOIN genre g\n",
    "            ON g.genreid = t.genreid\n",
    "            WHERE g.Name = \"Blues\"'''\n",
    "chinook.execute(query)\n",
    "chinook.fetchmany(3)"
   ]
  },
  {
   "cell_type": "markdown",
   "metadata": {
    "heading_collapsed": true,
    "hidden": true
   },
   "source": [
    "### Task 4\n",
    "Collect the genre names, track names, and album names."
   ]
  },
  {
   "cell_type": "code",
   "execution_count": 91,
   "metadata": {
    "ExecuteTime": {
     "end_time": "2020-12-10T18:39:33.174624Z",
     "start_time": "2020-12-10T18:39:33.170395Z"
    },
    "hidden": true
   },
   "outputs": [
    {
     "data": {
      "text/plain": [
       "[('Rock',\n",
       "  'For Those About To Rock (We Salute You)',\n",
       "  'For Those About To Rock We Salute You'),\n",
       " ('Rock', 'Balls to the Wall', 'Balls to the Wall'),\n",
       " ('Rock', 'Fast As a Shark', 'Restless and Wild')]"
      ]
     },
     "execution_count": 91,
     "metadata": {},
     "output_type": "execute_result"
    }
   ],
   "source": [
    "query = '''SELECT g.name, t.name, a.title\n",
    "            FROM genre g\n",
    "            INNER JOIN track t\n",
    "            on g.genreid = t.genreid\n",
    "            INNER JOIN album a\n",
    "            on t.albumid = a.albumid;'''\n",
    "chinook.execute(query)\n",
    "chinook.fetchmany(3)"
   ]
  },
  {
   "cell_type": "markdown",
   "metadata": {
    "heading_collapsed": true,
    "hidden": true
   },
   "source": [
    "### Task 5\n",
    "Collect the unique first name, last name, and email for all customers who purchase blues music. "
   ]
  },
  {
   "cell_type": "code",
   "execution_count": 97,
   "metadata": {
    "ExecuteTime": {
     "end_time": "2020-12-10T18:45:36.465913Z",
     "start_time": "2020-12-10T18:45:36.461056Z"
    },
    "hidden": true
   },
   "outputs": [
    {
     "data": {
      "text/plain": [
       "[('John', 'Gordon', 'johngordon22@yahoo.com'),\n",
       " ('Tim', 'Goyer', 'tgoyer@apple.com'),\n",
       " ('Hannah', 'Schneider', 'hannah.schneider@yahoo.de')]"
      ]
     },
     "execution_count": 97,
     "metadata": {},
     "output_type": "execute_result"
    }
   ],
   "source": [
    "query = '''SELECT DISTINCT c.firstname, c.lastname, c.email \n",
    "            FROM customer c\n",
    "            INNER JOIN invoice i\n",
    "            ON c.customerid = i.customerid\n",
    "            INNER JOIN invoiceline il\n",
    "            ON i.invoiceid = il.invoiceid\n",
    "            INNER JOIN track t\n",
    "            ON il.trackid = t.trackid\n",
    "            INNER JOIN genre g\n",
    "            ON t.genreid = g.genreid\n",
    "            WHERE g.name = \"Blues\";'''\n",
    "chinook.execute(query)\n",
    "chinook.fetchmany(3)"
   ]
  }
 ],
 "metadata": {
  "kernelspec": {
   "display_name": "Python 3",
   "language": "python",
   "name": "python3"
  },
  "language_info": {
   "codemirror_mode": {
    "name": "ipython",
    "version": 3
   },
   "file_extension": ".py",
   "mimetype": "text/x-python",
   "name": "python",
   "nbconvert_exporter": "python",
   "pygments_lexer": "ipython3",
   "version": "3.7.4"
  },
  "toc": {
   "base_numbering": 1,
   "nav_menu": {},
   "number_sections": false,
   "sideBar": true,
   "skip_h1_title": false,
   "title_cell": "Table of Contents",
   "title_sidebar": "Contents",
   "toc_cell": false,
   "toc_position": {},
   "toc_section_display": true,
   "toc_window_display": false
  }
 },
 "nbformat": 4,
 "nbformat_minor": 2
}
