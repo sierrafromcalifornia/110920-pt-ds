{
 "cells": [
  {
   "cell_type": "markdown",
   "metadata": {},
   "source": [
    "# Pandas Practice - Pt 1"
   ]
  },
  {
   "cell_type": "code",
   "execution_count": 1,
   "metadata": {
    "ExecuteTime": {
     "end_time": "2020-11-24T17:53:08.097626Z",
     "start_time": "2020-11-24T17:53:07.795416Z"
    }
   },
   "outputs": [],
   "source": [
    "# Run this cell unchanged\n",
    "\n",
    "import pandas as pd\n",
    "import os\n",
    "import sys\n",
    "import numpy as np\n",
    "import matplotlib.pyplot as plt\n",
    "sys.path.append(os.path.join(os.pardir, os.pardir))\n",
    "\n",
    "#used for tests\n",
    "#testing\n",
    "from src.test_class import Test\n",
    "\n",
    "testing = Test()"
   ]
  },
  {
   "cell_type": "markdown",
   "metadata": {},
   "source": [
    "## Importing data with relative paths."
   ]
  },
  {
   "cell_type": "markdown",
   "metadata": {},
   "source": [
    "The file structure of this repository looks like this:\n",
    "\n",
    "\n",
    "- `data`\n",
    "\n",
    "    - 2019-il-vgambling.csv\n",
    "\n",
    "- `src`\n",
    "    - test_class.py\n",
    "\n",
    "- `study-group-materials`\n",
    "    - `functions`\n",
    "        - `data`\n",
    "            - example-dataset-3.csv\n",
    "    - `pandas-1`\n",
    "        - **Our current location**\n",
    "        - example-dataset.csv\n",
    "    - example-dataset-2.csv\n",
    "\n",
    "- `README.md`\n",
    "\n",
    "> `code block indicates a folder`."
   ]
  },
  {
   "cell_type": "markdown",
   "metadata": {},
   "source": [
    "### Task 1\n",
    "- Please create a variable `example_path_1` that points to the `example-dataset-1.csv` file.\n",
    "- Import the `example-dataset-1.csv` file using pandas and save the dataframe to the variable `example_1`."
   ]
  },
  {
   "cell_type": "code",
   "execution_count": 2,
   "metadata": {},
   "outputs": [
    {
     "data": {
      "text/plain": [
       "pandas.core.frame.DataFrame"
      ]
     },
     "execution_count": 2,
     "metadata": {},
     "output_type": "execute_result"
    }
   ],
   "source": [
    "# your code here\n",
    "example_path_1 = 'example-dataset-1.csv'\n",
    "example_1 = pd.read_csv(example_path_1)\n",
    "type(example_1)"
   ]
  },
  {
   "cell_type": "markdown",
   "metadata": {},
   "source": [
    "### Task 2\n",
    "- Please create a variable `example_path_2` that points to the `example-dataset-2.csv` file.\n",
    "- Import the `example-dataset-2.csv` file using pandas and save the dataframe to the variable `example_2`."
   ]
  },
  {
   "cell_type": "markdown",
   "metadata": {},
   "source": [
    "> **Sierra's Addition:** `os` allows us to create paths without hardcoding the separators so that our code works across operating systems aka a portable way of using operating system dependent functionality."
   ]
  },
  {
   "cell_type": "code",
   "execution_count": 9,
   "metadata": {},
   "outputs": [],
   "source": [
    "# your code here\n",
    "example_path_2 = '../example-dataset-2.csv'\n",
    "example_2 = pd.read_csv(example_path_2)"
   ]
  },
  {
   "cell_type": "markdown",
   "metadata": {},
   "source": [
    "### Task 3\n",
    "- Create a variable `example_path_3` that points to the `example-dataset-3.xls` file.\n",
    "- Import the `example-dataset-3.xls` file using pandas and save the dataframe to the variable `example_3`."
   ]
  },
  {
   "cell_type": "code",
   "execution_count": 10,
   "metadata": {
    "ExecuteTime": {
     "end_time": "2020-11-24T17:40:09.591225Z",
     "start_time": "2020-11-24T17:40:09.588950Z"
    }
   },
   "outputs": [],
   "source": [
    "# your code here\n",
    "\n",
    "example_path_3 = '../functions/data/example-dataset-3.xls'\n",
    "example_3 = pd.read_excel(example_path_3)"
   ]
  },
  {
   "cell_type": "markdown",
   "metadata": {},
   "source": [
    ">**Note:** Different operating systems use different seperators for file paths. To ensure code works on different operating systems, a standard solution is to generate file paths using the `os` library. [Documentation here](https://docs.python.org/3.4/library/os.html?highlight=os)\n",
    "\n",
    "**Let's create the `example_path_3` using `os`**"
   ]
  },
  {
   "cell_type": "code",
   "execution_count": 11,
   "metadata": {},
   "outputs": [
    {
     "data": {
      "text/plain": [
       "'../functions/data/example-dataset-3.xls'"
      ]
     },
     "execution_count": 11,
     "metadata": {},
     "output_type": "execute_result"
    }
   ],
   "source": [
    "# Your code here\n",
    "os.path.join(os.pardir, 'functions', 'data', 'example-dataset-3.xls')"
   ]
  },
  {
   "cell_type": "markdown",
   "metadata": {},
   "source": [
    "> **Sierra's Addition:** remember using relative paths is helpful over an absolute path so code will accurately run on another user's machine."
   ]
  },
  {
   "cell_type": "markdown",
   "metadata": {},
   "source": [
    "# Video Gambling Data and Pandas 🧐\n",
    "<img src=\"https://media.tegna-media.com/assets/WQAD/images/01c4abef-ca79-4b9b-b3f7-2ad2e856b34b/01c4abef-ca79-4b9b-b3f7-2ad2e856b34b_750x422.jpg\" width=\"460\"/>\n",
    "\n",
    "### *Video gambling, in Illinois, was legalized in 2012.*\n",
    "\n",
    ">Since then, it has become a boon for local bars, restaurants, and communities with declining tax revenue, but comes with public health concerns of gambling addition.\n",
    "Because of this Video Gambling is a frequent issue voted on by municipal governments in Illinois. \n",
    "\n",
    ">Video Gambling is closely monitored by the [Illinois Gaming Board](https://www.igb.illinois.gov/) and has been the subject of much reporting by local news agencies.\n",
    "\n",
    "**Let's use our skills with Pandas to investigate this topic.**"
   ]
  },
  {
   "cell_type": "markdown",
   "metadata": {},
   "source": [
    "### Task 4\n",
    "\n",
    "**Our data is located** within the top level ```data``` folder of this repo.\n",
    "\n",
    "It is titled ```2019-il-vgambling.csv```\n",
    "\n",
    "<u>In the cell below:</u> \n",
    "1. Set the ```path``` variable to the path ```2019-il-vgambling.csv```. \n",
    "2. Import the video gambling data and save the dataframe to the variable `df`."
   ]
  },
  {
   "cell_type": "code",
   "execution_count": 12,
   "metadata": {
    "ExecuteTime": {
     "end_time": "2020-05-17T00:29:34.172779Z",
     "start_time": "2020-05-17T00:29:34.159864Z"
    }
   },
   "outputs": [],
   "source": [
    "# Your code here\n",
    "path = '../../data/2019-il-vgambling.csv'\n",
    "df = pd.read_csv(path)"
   ]
  },
  {
   "cell_type": "markdown",
   "metadata": {},
   "source": [
    "**Ok,** let's print out the first 5 rows."
   ]
  },
  {
   "cell_type": "code",
   "execution_count": 14,
   "metadata": {
    "ExecuteTime": {
     "end_time": "2020-11-24T17:44:14.655668Z",
     "start_time": "2020-11-24T17:44:14.653475Z"
    }
   },
   "outputs": [
    {
     "data": {
      "text/html": [
       "<div>\n",
       "<style scoped>\n",
       "    .dataframe tbody tr th:only-of-type {\n",
       "        vertical-align: middle;\n",
       "    }\n",
       "\n",
       "    .dataframe tbody tr th {\n",
       "        vertical-align: top;\n",
       "    }\n",
       "\n",
       "    .dataframe thead th {\n",
       "        text-align: right;\n",
       "    }\n",
       "</style>\n",
       "<table border=\"1\" class=\"dataframe\">\n",
       "  <thead>\n",
       "    <tr style=\"text-align: right;\">\n",
       "      <th></th>\n",
       "      <th>Municipality</th>\n",
       "      <th>Establishment Count</th>\n",
       "      <th>Terminal Count</th>\n",
       "      <th>Amount Played</th>\n",
       "      <th>Amount Won</th>\n",
       "      <th>Nti Tax</th>\n",
       "      <th>State Share</th>\n",
       "      <th>Municipality Share</th>\n",
       "      <th>Population</th>\n",
       "    </tr>\n",
       "  </thead>\n",
       "  <tbody>\n",
       "    <tr>\n",
       "      <th>0</th>\n",
       "      <td>Oregon</td>\n",
       "      <td>13</td>\n",
       "      <td>58</td>\n",
       "      <td>30182428.57</td>\n",
       "      <td>27583763.32</td>\n",
       "      <td>818444.23</td>\n",
       "      <td>688505.69</td>\n",
       "      <td>129938.54</td>\n",
       "      <td>3,683</td>\n",
       "    </tr>\n",
       "    <tr>\n",
       "      <th>1</th>\n",
       "      <td>Oakwood Hills</td>\n",
       "      <td>1</td>\n",
       "      <td>4</td>\n",
       "      <td>216669.74</td>\n",
       "      <td>199790.23</td>\n",
       "      <td>5281.38</td>\n",
       "      <td>4433.69</td>\n",
       "      <td>847.69</td>\n",
       "      <td>2,245</td>\n",
       "    </tr>\n",
       "    <tr>\n",
       "      <th>2</th>\n",
       "      <td>Merrionette Park</td>\n",
       "      <td>4</td>\n",
       "      <td>17</td>\n",
       "      <td>26567816.26</td>\n",
       "      <td>24324921.75</td>\n",
       "      <td>706616.85</td>\n",
       "      <td>594470.85</td>\n",
       "      <td>112146.00</td>\n",
       "      <td>2,163</td>\n",
       "    </tr>\n",
       "    <tr>\n",
       "      <th>3</th>\n",
       "      <td>Ashkum</td>\n",
       "      <td>2</td>\n",
       "      <td>8</td>\n",
       "      <td>2289711.66</td>\n",
       "      <td>2113123.06</td>\n",
       "      <td>55674.55</td>\n",
       "      <td>46845.11</td>\n",
       "      <td>8829.44</td>\n",
       "      <td>800</td>\n",
       "    </tr>\n",
       "    <tr>\n",
       "      <th>4</th>\n",
       "      <td>Grandview</td>\n",
       "      <td>5</td>\n",
       "      <td>25</td>\n",
       "      <td>13713301.51</td>\n",
       "      <td>12475853.83</td>\n",
       "      <td>390048.01</td>\n",
       "      <td>328175.50</td>\n",
       "      <td>61872.51</td>\n",
       "      <td>1,453</td>\n",
       "    </tr>\n",
       "  </tbody>\n",
       "</table>\n",
       "</div>"
      ],
      "text/plain": [
       "       Municipality  Establishment Count  Terminal Count  Amount Played  \\\n",
       "0            Oregon                   13              58    30182428.57   \n",
       "1     Oakwood Hills                    1               4      216669.74   \n",
       "2  Merrionette Park                    4              17    26567816.26   \n",
       "3            Ashkum                    2               8     2289711.66   \n",
       "4         Grandview                    5              25    13713301.51   \n",
       "\n",
       "    Amount Won    Nti Tax  State Share  Municipality Share Population  \n",
       "0  27583763.32  818444.23    688505.69           129938.54      3,683  \n",
       "1    199790.23    5281.38      4433.69              847.69      2,245  \n",
       "2  24324921.75  706616.85    594470.85           112146.00      2,163  \n",
       "3   2113123.06   55674.55     46845.11             8829.44        800  \n",
       "4  12475853.83  390048.01    328175.50            61872.51      1,453  "
      ]
     },
     "execution_count": 14,
     "metadata": {},
     "output_type": "execute_result"
    }
   ],
   "source": [
    "# Your code here\n",
    "df.head()"
   ]
  },
  {
   "cell_type": "markdown",
   "metadata": {},
   "source": [
    "<center><u><h3>Column Descriptions</h3><u></center>\n",
    "\n",
    "\n",
    "| Column Name         \t| Description                                                                                                                                                               \t|\n",
    "|:---------------------\t|:---------------------------------------------------------------------------------------------------------------------------------------------------------------------------\t|\n",
    "| Municipality        \t| The community's name                                                                                                                                                      \t|\n",
    "| Establishment Count \t| Number of businesses with video gambling licenses                                                                                                                         \t|\n",
    "| Terminal Count      \t| Number of video gambling machines in the community.                                                                                                                       \t|\n",
    "| Amount Played       \t| Total amount spent on video gambling by players.                                                                                                                          \t|\n",
    "| Amount Won          \t| Total amount won by players                                                                                                                                               \t|\n",
    "| Nti Tax             \t| The Net Terminal Income Tax Rate <br>is 30% of the Net Terminal Income. <br>The funds are divided between<br>the State of Illinois and local <br>governmental organizations. \t|\n",
    "| State Share         \t| Total revenue received by the State Government                                                                                                                            \t|\n",
    "| Municipality Share  \t| Total revenue received by the Municipality                   |\n",
    "| Population            | 2019 Municipal Population                                    |"
   ]
  },
  {
   "cell_type": "markdown",
   "metadata": {},
   "source": [
    "### Task 5"
   ]
  },
  {
   "cell_type": "markdown",
   "metadata": {
    "ExecuteTime": {
     "end_time": "2020-05-17T00:17:37.266328Z",
     "start_time": "2020-05-17T00:17:37.255213Z"
    }
   },
   "source": [
    "In the cell below, set the Municipality column as the index using the ```.set_index()``` method."
   ]
  },
  {
   "cell_type": "code",
   "execution_count": 16,
   "metadata": {},
   "outputs": [],
   "source": [
    "# Your code here\n",
    "df.set_index('Municipality', inplace=True)\n",
    "# another way to save the view to memory - df = df.set_index('Municipality')"
   ]
  },
  {
   "cell_type": "code",
   "execution_count": 17,
   "metadata": {
    "scrolled": true
   },
   "outputs": [
    {
     "data": {
      "text/html": [
       "<div>\n",
       "<style scoped>\n",
       "    .dataframe tbody tr th:only-of-type {\n",
       "        vertical-align: middle;\n",
       "    }\n",
       "\n",
       "    .dataframe tbody tr th {\n",
       "        vertical-align: top;\n",
       "    }\n",
       "\n",
       "    .dataframe thead th {\n",
       "        text-align: right;\n",
       "    }\n",
       "</style>\n",
       "<table border=\"1\" class=\"dataframe\">\n",
       "  <thead>\n",
       "    <tr style=\"text-align: right;\">\n",
       "      <th></th>\n",
       "      <th>Establishment Count</th>\n",
       "      <th>Terminal Count</th>\n",
       "      <th>Amount Played</th>\n",
       "      <th>Amount Won</th>\n",
       "      <th>Nti Tax</th>\n",
       "      <th>State Share</th>\n",
       "      <th>Municipality Share</th>\n",
       "      <th>Population</th>\n",
       "    </tr>\n",
       "    <tr>\n",
       "      <th>Municipality</th>\n",
       "      <th></th>\n",
       "      <th></th>\n",
       "      <th></th>\n",
       "      <th></th>\n",
       "      <th></th>\n",
       "      <th></th>\n",
       "      <th></th>\n",
       "      <th></th>\n",
       "    </tr>\n",
       "  </thead>\n",
       "  <tbody>\n",
       "    <tr>\n",
       "      <th>Oregon</th>\n",
       "      <td>13</td>\n",
       "      <td>58</td>\n",
       "      <td>30182428.57</td>\n",
       "      <td>27583763.32</td>\n",
       "      <td>818444.23</td>\n",
       "      <td>688505.69</td>\n",
       "      <td>129938.54</td>\n",
       "      <td>3,683</td>\n",
       "    </tr>\n",
       "    <tr>\n",
       "      <th>Oakwood Hills</th>\n",
       "      <td>1</td>\n",
       "      <td>4</td>\n",
       "      <td>216669.74</td>\n",
       "      <td>199790.23</td>\n",
       "      <td>5281.38</td>\n",
       "      <td>4433.69</td>\n",
       "      <td>847.69</td>\n",
       "      <td>2,245</td>\n",
       "    </tr>\n",
       "    <tr>\n",
       "      <th>Merrionette Park</th>\n",
       "      <td>4</td>\n",
       "      <td>17</td>\n",
       "      <td>26567816.26</td>\n",
       "      <td>24324921.75</td>\n",
       "      <td>706616.85</td>\n",
       "      <td>594470.85</td>\n",
       "      <td>112146.00</td>\n",
       "      <td>2,163</td>\n",
       "    </tr>\n",
       "    <tr>\n",
       "      <th>Ashkum</th>\n",
       "      <td>2</td>\n",
       "      <td>8</td>\n",
       "      <td>2289711.66</td>\n",
       "      <td>2113123.06</td>\n",
       "      <td>55674.55</td>\n",
       "      <td>46845.11</td>\n",
       "      <td>8829.44</td>\n",
       "      <td>800</td>\n",
       "    </tr>\n",
       "    <tr>\n",
       "      <th>Grandview</th>\n",
       "      <td>5</td>\n",
       "      <td>25</td>\n",
       "      <td>13713301.51</td>\n",
       "      <td>12475853.83</td>\n",
       "      <td>390048.01</td>\n",
       "      <td>328175.50</td>\n",
       "      <td>61872.51</td>\n",
       "      <td>1,453</td>\n",
       "    </tr>\n",
       "    <tr>\n",
       "      <th>...</th>\n",
       "      <td>...</td>\n",
       "      <td>...</td>\n",
       "      <td>...</td>\n",
       "      <td>...</td>\n",
       "      <td>...</td>\n",
       "      <td>...</td>\n",
       "      <td>...</td>\n",
       "      <td>...</td>\n",
       "    </tr>\n",
       "    <tr>\n",
       "      <th>East Peoria</th>\n",
       "      <td>26</td>\n",
       "      <td>111</td>\n",
       "      <td>52001103.85</td>\n",
       "      <td>47625215.85</td>\n",
       "      <td>1377742.74</td>\n",
       "      <td>1158937.72</td>\n",
       "      <td>218805.02</td>\n",
       "      <td>22,876</td>\n",
       "    </tr>\n",
       "    <tr>\n",
       "      <th>Hillcrest</th>\n",
       "      <td>1</td>\n",
       "      <td>5</td>\n",
       "      <td>8276176.37</td>\n",
       "      <td>7653443.96</td>\n",
       "      <td>195544.11</td>\n",
       "      <td>164402.41</td>\n",
       "      <td>31141.70</td>\n",
       "      <td>1,265</td>\n",
       "    </tr>\n",
       "    <tr>\n",
       "      <th>Cuba</th>\n",
       "      <td>3</td>\n",
       "      <td>14</td>\n",
       "      <td>3864705.96</td>\n",
       "      <td>3571459.67</td>\n",
       "      <td>91808.82</td>\n",
       "      <td>77145.44</td>\n",
       "      <td>14663.38</td>\n",
       "      <td>1,285</td>\n",
       "    </tr>\n",
       "    <tr>\n",
       "      <th>Germantown</th>\n",
       "      <td>5</td>\n",
       "      <td>25</td>\n",
       "      <td>8102693.72</td>\n",
       "      <td>7477390.69</td>\n",
       "      <td>197199.12</td>\n",
       "      <td>165933.70</td>\n",
       "      <td>31265.42</td>\n",
       "      <td>1,180</td>\n",
       "    </tr>\n",
       "    <tr>\n",
       "      <th>Minier</th>\n",
       "      <td>3</td>\n",
       "      <td>13</td>\n",
       "      <td>3562932.38</td>\n",
       "      <td>3269056.04</td>\n",
       "      <td>92357.41</td>\n",
       "      <td>77663.41</td>\n",
       "      <td>14694.00</td>\n",
       "      <td>1,200</td>\n",
       "    </tr>\n",
       "  </tbody>\n",
       "</table>\n",
       "<p>835 rows × 8 columns</p>\n",
       "</div>"
      ],
      "text/plain": [
       "                  Establishment Count  Terminal Count  Amount Played  \\\n",
       "Municipality                                                           \n",
       "Oregon                             13              58    30182428.57   \n",
       "Oakwood Hills                       1               4      216669.74   \n",
       "Merrionette Park                    4              17    26567816.26   \n",
       "Ashkum                              2               8     2289711.66   \n",
       "Grandview                           5              25    13713301.51   \n",
       "...                               ...             ...            ...   \n",
       "East Peoria                        26             111    52001103.85   \n",
       "Hillcrest                           1               5     8276176.37   \n",
       "Cuba                                3              14     3864705.96   \n",
       "Germantown                          5              25     8102693.72   \n",
       "Minier                              3              13     3562932.38   \n",
       "\n",
       "                   Amount Won     Nti Tax  State Share  Municipality Share  \\\n",
       "Municipality                                                                 \n",
       "Oregon            27583763.32   818444.23    688505.69           129938.54   \n",
       "Oakwood Hills       199790.23     5281.38      4433.69              847.69   \n",
       "Merrionette Park  24324921.75   706616.85    594470.85           112146.00   \n",
       "Ashkum             2113123.06    55674.55     46845.11             8829.44   \n",
       "Grandview         12475853.83   390048.01    328175.50            61872.51   \n",
       "...                       ...         ...          ...                 ...   \n",
       "East Peoria       47625215.85  1377742.74   1158937.72           218805.02   \n",
       "Hillcrest          7653443.96   195544.11    164402.41            31141.70   \n",
       "Cuba               3571459.67    91808.82     77145.44            14663.38   \n",
       "Germantown         7477390.69   197199.12    165933.70            31265.42   \n",
       "Minier             3269056.04    92357.41     77663.41            14694.00   \n",
       "\n",
       "                 Population  \n",
       "Municipality                 \n",
       "Oregon                3,683  \n",
       "Oakwood Hills         2,245  \n",
       "Merrionette Park      2,163  \n",
       "Ashkum                  800  \n",
       "Grandview             1,453  \n",
       "...                     ...  \n",
       "East Peoria          22,876  \n",
       "Hillcrest             1,265  \n",
       "Cuba                  1,285  \n",
       "Germantown            1,180  \n",
       "Minier                1,200  \n",
       "\n",
       "[835 rows x 8 columns]"
      ]
     },
     "execution_count": 17,
     "metadata": {},
     "output_type": "execute_result"
    }
   ],
   "source": [
    "df"
   ]
  },
  {
   "cell_type": "markdown",
   "metadata": {},
   "source": [
    "## loc vs iloc"
   ]
  },
  {
   "cell_type": "markdown",
   "metadata": {},
   "source": [
    "> **Sierra's Addition:** these are super similar, but iloc expects you to use the integer index while loc expects you to use whatever value is at that index."
   ]
  },
  {
   "cell_type": "code",
   "execution_count": 18,
   "metadata": {
    "scrolled": true
   },
   "outputs": [
    {
     "data": {
      "text/plain": [
       "Establishment Count              3\n",
       "Terminal Count                  14\n",
       "Amount Played          3.86471e+06\n",
       "Amount Won             3.57146e+06\n",
       "Nti Tax                    91808.8\n",
       "State Share                77145.4\n",
       "Municipality Share         14663.4\n",
       "Population                   1,285\n",
       "Name: Cuba, dtype: object"
      ]
     },
     "execution_count": 18,
     "metadata": {},
     "output_type": "execute_result"
    }
   ],
   "source": [
    "df.loc['Cuba']"
   ]
  },
  {
   "cell_type": "code",
   "execution_count": 19,
   "metadata": {},
   "outputs": [
    {
     "data": {
      "text/plain": [
       "Establishment Count             13\n",
       "Terminal Count                  58\n",
       "Amount Played          3.01824e+07\n",
       "Amount Won             2.75838e+07\n",
       "Nti Tax                     818444\n",
       "State Share                 688506\n",
       "Municipality Share          129939\n",
       "Population                   3,683\n",
       "Name: Oregon, dtype: object"
      ]
     },
     "execution_count": 19,
     "metadata": {},
     "output_type": "execute_result"
    }
   ],
   "source": [
    "df.iloc[0] #Oregon's integer, iloc especially handy when worried about human error or looking for automated process"
   ]
  },
  {
   "cell_type": "markdown",
   "metadata": {},
   "source": [
    "### Task 6"
   ]
  },
  {
   "cell_type": "markdown",
   "metadata": {
    "ExecuteTime": {
     "end_time": "2020-05-17T00:19:20.848464Z",
     "start_time": "2020-05-17T00:19:20.811798Z"
    }
   },
   "source": [
    "Let's sort our index alphabetically using [this](https://pandas.pydata.org/pandas-docs/stable/reference/api/pandas.DataFrame.sort_index.html) method."
   ]
  },
  {
   "cell_type": "code",
   "execution_count": 21,
   "metadata": {},
   "outputs": [],
   "source": [
    "# Your code here\n",
    "df = df.sort_index()"
   ]
  },
  {
   "cell_type": "code",
   "execution_count": 22,
   "metadata": {},
   "outputs": [
    {
     "data": {
      "text/html": [
       "<div>\n",
       "<style scoped>\n",
       "    .dataframe tbody tr th:only-of-type {\n",
       "        vertical-align: middle;\n",
       "    }\n",
       "\n",
       "    .dataframe tbody tr th {\n",
       "        vertical-align: top;\n",
       "    }\n",
       "\n",
       "    .dataframe thead th {\n",
       "        text-align: right;\n",
       "    }\n",
       "</style>\n",
       "<table border=\"1\" class=\"dataframe\">\n",
       "  <thead>\n",
       "    <tr style=\"text-align: right;\">\n",
       "      <th></th>\n",
       "      <th>Establishment Count</th>\n",
       "      <th>Terminal Count</th>\n",
       "      <th>Amount Played</th>\n",
       "      <th>Amount Won</th>\n",
       "      <th>Nti Tax</th>\n",
       "      <th>State Share</th>\n",
       "      <th>Municipality Share</th>\n",
       "      <th>Population</th>\n",
       "    </tr>\n",
       "    <tr>\n",
       "      <th>Municipality</th>\n",
       "      <th></th>\n",
       "      <th></th>\n",
       "      <th></th>\n",
       "      <th></th>\n",
       "      <th></th>\n",
       "      <th></th>\n",
       "      <th></th>\n",
       "      <th></th>\n",
       "    </tr>\n",
       "  </thead>\n",
       "  <tbody>\n",
       "    <tr>\n",
       "      <th>Abingdon</th>\n",
       "      <td>4</td>\n",
       "      <td>16</td>\n",
       "      <td>6492446.76</td>\n",
       "      <td>5968296.97</td>\n",
       "      <td>165040.02</td>\n",
       "      <td>138832.38</td>\n",
       "      <td>26207.64</td>\n",
       "      <td>3,452</td>\n",
       "    </tr>\n",
       "    <tr>\n",
       "      <th>Addieville</th>\n",
       "      <td>1</td>\n",
       "      <td>5</td>\n",
       "      <td>939917.34</td>\n",
       "      <td>860520.60</td>\n",
       "      <td>25020.09</td>\n",
       "      <td>21050.20</td>\n",
       "      <td>3969.89</td>\n",
       "      <td>344</td>\n",
       "    </tr>\n",
       "    <tr>\n",
       "      <th>Addison</th>\n",
       "      <td>23</td>\n",
       "      <td>111</td>\n",
       "      <td>88623932.26</td>\n",
       "      <td>80762581.15</td>\n",
       "      <td>2476573.63</td>\n",
       "      <td>2083474.53</td>\n",
       "      <td>393099.10</td>\n",
       "      <td>37,089</td>\n",
       "    </tr>\n",
       "    <tr>\n",
       "      <th>Albany</th>\n",
       "      <td>2</td>\n",
       "      <td>7</td>\n",
       "      <td>2030709.60</td>\n",
       "      <td>1855397.39</td>\n",
       "      <td>55473.53</td>\n",
       "      <td>46707.84</td>\n",
       "      <td>8765.69</td>\n",
       "      <td>979</td>\n",
       "    </tr>\n",
       "    <tr>\n",
       "      <th>Albers</th>\n",
       "      <td>1</td>\n",
       "      <td>4</td>\n",
       "      <td>1546280.29</td>\n",
       "      <td>1419896.70</td>\n",
       "      <td>39710.50</td>\n",
       "      <td>33391.29</td>\n",
       "      <td>6319.21</td>\n",
       "      <td>1,184</td>\n",
       "    </tr>\n",
       "  </tbody>\n",
       "</table>\n",
       "</div>"
      ],
      "text/plain": [
       "              Establishment Count  Terminal Count  Amount Played   Amount Won  \\\n",
       "Municipality                                                                    \n",
       "Abingdon                        4              16     6492446.76   5968296.97   \n",
       "Addieville                      1               5      939917.34    860520.60   \n",
       "Addison                        23             111    88623932.26  80762581.15   \n",
       "Albany                          2               7     2030709.60   1855397.39   \n",
       "Albers                          1               4     1546280.29   1419896.70   \n",
       "\n",
       "                 Nti Tax  State Share  Municipality Share Population  \n",
       "Municipality                                                          \n",
       "Abingdon       165040.02    138832.38            26207.64      3,452  \n",
       "Addieville      25020.09     21050.20             3969.89        344  \n",
       "Addison       2476573.63   2083474.53           393099.10     37,089  \n",
       "Albany          55473.53     46707.84             8765.69        979  \n",
       "Albers          39710.50     33391.29             6319.21      1,184  "
      ]
     },
     "execution_count": 22,
     "metadata": {},
     "output_type": "execute_result"
    }
   ],
   "source": [
    "df.head()"
   ]
  },
  {
   "cell_type": "markdown",
   "metadata": {},
   "source": [
    "### Task 7"
   ]
  },
  {
   "cell_type": "markdown",
   "metadata": {
    "ExecuteTime": {
     "end_time": "2020-05-17T00:21:15.301914Z",
     "start_time": "2020-05-17T00:21:15.268592Z"
    }
   },
   "source": [
    "To make things easier on ourselves let's reformat our column names.\n",
    "\n",
    "<u>In the cell below:</u>\n",
    "1. Replace spaces with underscores for each column name\n",
    "2. Lower each column name\n",
    ">Bonus points if you do this via list comphrension 😃"
   ]
  },
  {
   "cell_type": "code",
   "execution_count": 25,
   "metadata": {},
   "outputs": [
    {
     "data": {
      "text/plain": [
       "Index(['Establishment Count', 'Terminal Count', 'Amount Played', 'Amount Won',\n",
       "       'Nti Tax', 'State Share', 'Municipality Share', 'Population'],\n",
       "      dtype='object')"
      ]
     },
     "execution_count": 25,
     "metadata": {},
     "output_type": "execute_result"
    }
   ],
   "source": [
    "df.columns"
   ]
  },
  {
   "cell_type": "code",
   "execution_count": 26,
   "metadata": {
    "scrolled": true
   },
   "outputs": [],
   "source": [
    "# Your code here\n",
    "df.columns = [column.strip().lower().replace(' ', '_') for column in df.columns]"
   ]
  },
  {
   "cell_type": "code",
   "execution_count": 27,
   "metadata": {},
   "outputs": [
    {
     "data": {
      "text/html": [
       "<div>\n",
       "<style scoped>\n",
       "    .dataframe tbody tr th:only-of-type {\n",
       "        vertical-align: middle;\n",
       "    }\n",
       "\n",
       "    .dataframe tbody tr th {\n",
       "        vertical-align: top;\n",
       "    }\n",
       "\n",
       "    .dataframe thead th {\n",
       "        text-align: right;\n",
       "    }\n",
       "</style>\n",
       "<table border=\"1\" class=\"dataframe\">\n",
       "  <thead>\n",
       "    <tr style=\"text-align: right;\">\n",
       "      <th></th>\n",
       "      <th>establishment_count</th>\n",
       "      <th>terminal_count</th>\n",
       "      <th>amount_played</th>\n",
       "      <th>amount_won</th>\n",
       "      <th>nti_tax</th>\n",
       "      <th>state_share</th>\n",
       "      <th>municipality_share</th>\n",
       "      <th>population</th>\n",
       "    </tr>\n",
       "    <tr>\n",
       "      <th>Municipality</th>\n",
       "      <th></th>\n",
       "      <th></th>\n",
       "      <th></th>\n",
       "      <th></th>\n",
       "      <th></th>\n",
       "      <th></th>\n",
       "      <th></th>\n",
       "      <th></th>\n",
       "    </tr>\n",
       "  </thead>\n",
       "  <tbody>\n",
       "    <tr>\n",
       "      <th>Abingdon</th>\n",
       "      <td>4</td>\n",
       "      <td>16</td>\n",
       "      <td>6492446.76</td>\n",
       "      <td>5968296.97</td>\n",
       "      <td>165040.02</td>\n",
       "      <td>138832.38</td>\n",
       "      <td>26207.64</td>\n",
       "      <td>3,452</td>\n",
       "    </tr>\n",
       "    <tr>\n",
       "      <th>Addieville</th>\n",
       "      <td>1</td>\n",
       "      <td>5</td>\n",
       "      <td>939917.34</td>\n",
       "      <td>860520.60</td>\n",
       "      <td>25020.09</td>\n",
       "      <td>21050.20</td>\n",
       "      <td>3969.89</td>\n",
       "      <td>344</td>\n",
       "    </tr>\n",
       "    <tr>\n",
       "      <th>Addison</th>\n",
       "      <td>23</td>\n",
       "      <td>111</td>\n",
       "      <td>88623932.26</td>\n",
       "      <td>80762581.15</td>\n",
       "      <td>2476573.63</td>\n",
       "      <td>2083474.53</td>\n",
       "      <td>393099.10</td>\n",
       "      <td>37,089</td>\n",
       "    </tr>\n",
       "    <tr>\n",
       "      <th>Albany</th>\n",
       "      <td>2</td>\n",
       "      <td>7</td>\n",
       "      <td>2030709.60</td>\n",
       "      <td>1855397.39</td>\n",
       "      <td>55473.53</td>\n",
       "      <td>46707.84</td>\n",
       "      <td>8765.69</td>\n",
       "      <td>979</td>\n",
       "    </tr>\n",
       "    <tr>\n",
       "      <th>Albers</th>\n",
       "      <td>1</td>\n",
       "      <td>4</td>\n",
       "      <td>1546280.29</td>\n",
       "      <td>1419896.70</td>\n",
       "      <td>39710.50</td>\n",
       "      <td>33391.29</td>\n",
       "      <td>6319.21</td>\n",
       "      <td>1,184</td>\n",
       "    </tr>\n",
       "  </tbody>\n",
       "</table>\n",
       "</div>"
      ],
      "text/plain": [
       "              establishment_count  terminal_count  amount_played   amount_won  \\\n",
       "Municipality                                                                    \n",
       "Abingdon                        4              16     6492446.76   5968296.97   \n",
       "Addieville                      1               5      939917.34    860520.60   \n",
       "Addison                        23             111    88623932.26  80762581.15   \n",
       "Albany                          2               7     2030709.60   1855397.39   \n",
       "Albers                          1               4     1546280.29   1419896.70   \n",
       "\n",
       "                 nti_tax  state_share  municipality_share population  \n",
       "Municipality                                                          \n",
       "Abingdon       165040.02    138832.38            26207.64      3,452  \n",
       "Addieville      25020.09     21050.20             3969.89        344  \n",
       "Addison       2476573.63   2083474.53           393099.10     37,089  \n",
       "Albany          55473.53     46707.84             8765.69        979  \n",
       "Albers          39710.50     33391.29             6319.21      1,184  "
      ]
     },
     "execution_count": 27,
     "metadata": {},
     "output_type": "execute_result"
    }
   ],
   "source": [
    "df.head()"
   ]
  },
  {
   "cell_type": "markdown",
   "metadata": {},
   "source": [
    "> **Sierra's Addition:** this process above allows us to more easily call upon the data from a column. i.e. `df.amount_won`"
   ]
  },
  {
   "cell_type": "code",
   "execution_count": 28,
   "metadata": {},
   "outputs": [],
   "source": [
    "df['Example Column'] = [1 for x in range(len(df))]"
   ]
  },
  {
   "cell_type": "code",
   "execution_count": 29,
   "metadata": {},
   "outputs": [
    {
     "data": {
      "text/html": [
       "<div>\n",
       "<style scoped>\n",
       "    .dataframe tbody tr th:only-of-type {\n",
       "        vertical-align: middle;\n",
       "    }\n",
       "\n",
       "    .dataframe tbody tr th {\n",
       "        vertical-align: top;\n",
       "    }\n",
       "\n",
       "    .dataframe thead th {\n",
       "        text-align: right;\n",
       "    }\n",
       "</style>\n",
       "<table border=\"1\" class=\"dataframe\">\n",
       "  <thead>\n",
       "    <tr style=\"text-align: right;\">\n",
       "      <th></th>\n",
       "      <th>establishment_count</th>\n",
       "      <th>terminal_count</th>\n",
       "      <th>amount_played</th>\n",
       "      <th>amount_won</th>\n",
       "      <th>nti_tax</th>\n",
       "      <th>state_share</th>\n",
       "      <th>municipality_share</th>\n",
       "      <th>population</th>\n",
       "      <th>Example Column</th>\n",
       "    </tr>\n",
       "    <tr>\n",
       "      <th>Municipality</th>\n",
       "      <th></th>\n",
       "      <th></th>\n",
       "      <th></th>\n",
       "      <th></th>\n",
       "      <th></th>\n",
       "      <th></th>\n",
       "      <th></th>\n",
       "      <th></th>\n",
       "      <th></th>\n",
       "    </tr>\n",
       "  </thead>\n",
       "  <tbody>\n",
       "    <tr>\n",
       "      <th>Abingdon</th>\n",
       "      <td>4</td>\n",
       "      <td>16</td>\n",
       "      <td>6492446.76</td>\n",
       "      <td>5968296.97</td>\n",
       "      <td>165040.02</td>\n",
       "      <td>138832.38</td>\n",
       "      <td>26207.64</td>\n",
       "      <td>3,452</td>\n",
       "      <td>1</td>\n",
       "    </tr>\n",
       "    <tr>\n",
       "      <th>Addieville</th>\n",
       "      <td>1</td>\n",
       "      <td>5</td>\n",
       "      <td>939917.34</td>\n",
       "      <td>860520.60</td>\n",
       "      <td>25020.09</td>\n",
       "      <td>21050.20</td>\n",
       "      <td>3969.89</td>\n",
       "      <td>344</td>\n",
       "      <td>1</td>\n",
       "    </tr>\n",
       "    <tr>\n",
       "      <th>Addison</th>\n",
       "      <td>23</td>\n",
       "      <td>111</td>\n",
       "      <td>88623932.26</td>\n",
       "      <td>80762581.15</td>\n",
       "      <td>2476573.63</td>\n",
       "      <td>2083474.53</td>\n",
       "      <td>393099.10</td>\n",
       "      <td>37,089</td>\n",
       "      <td>1</td>\n",
       "    </tr>\n",
       "    <tr>\n",
       "      <th>Albany</th>\n",
       "      <td>2</td>\n",
       "      <td>7</td>\n",
       "      <td>2030709.60</td>\n",
       "      <td>1855397.39</td>\n",
       "      <td>55473.53</td>\n",
       "      <td>46707.84</td>\n",
       "      <td>8765.69</td>\n",
       "      <td>979</td>\n",
       "      <td>1</td>\n",
       "    </tr>\n",
       "    <tr>\n",
       "      <th>Albers</th>\n",
       "      <td>1</td>\n",
       "      <td>4</td>\n",
       "      <td>1546280.29</td>\n",
       "      <td>1419896.70</td>\n",
       "      <td>39710.50</td>\n",
       "      <td>33391.29</td>\n",
       "      <td>6319.21</td>\n",
       "      <td>1,184</td>\n",
       "      <td>1</td>\n",
       "    </tr>\n",
       "  </tbody>\n",
       "</table>\n",
       "</div>"
      ],
      "text/plain": [
       "              establishment_count  terminal_count  amount_played   amount_won  \\\n",
       "Municipality                                                                    \n",
       "Abingdon                        4              16     6492446.76   5968296.97   \n",
       "Addieville                      1               5      939917.34    860520.60   \n",
       "Addison                        23             111    88623932.26  80762581.15   \n",
       "Albany                          2               7     2030709.60   1855397.39   \n",
       "Albers                          1               4     1546280.29   1419896.70   \n",
       "\n",
       "                 nti_tax  state_share  municipality_share population  \\\n",
       "Municipality                                                           \n",
       "Abingdon       165040.02    138832.38            26207.64      3,452   \n",
       "Addieville      25020.09     21050.20             3969.89        344   \n",
       "Addison       2476573.63   2083474.53           393099.10     37,089   \n",
       "Albany          55473.53     46707.84             8765.69        979   \n",
       "Albers          39710.50     33391.29             6319.21      1,184   \n",
       "\n",
       "              Example Column  \n",
       "Municipality                  \n",
       "Abingdon                   1  \n",
       "Addieville                 1  \n",
       "Addison                    1  \n",
       "Albany                     1  \n",
       "Albers                     1  "
      ]
     },
     "execution_count": 29,
     "metadata": {},
     "output_type": "execute_result"
    }
   ],
   "source": [
    "df.head()"
   ]
  },
  {
   "cell_type": "markdown",
   "metadata": {
    "ExecuteTime": {
     "end_time": "2020-05-17T00:31:27.767106Z",
     "start_time": "2020-05-17T00:31:27.740575Z"
    }
   },
   "source": [
    "<center><i><h1>So much cleaning</h1></i></center>\n",
    "\n",
    "\n",
    "![](https://media.giphy.com/media/3o7WIE14z2d66BJWJa/giphy.gif)\n",
    "\n",
    "--------\n",
    "\n",
    "Ok Ok, we're almost done formatting our data.\n",
    "\n",
    "<u>In the cell below:</u> \n",
    "1. Print out the datatypes for each of our columns using the ```.info()``` method.\n"
   ]
  },
  {
   "cell_type": "code",
   "execution_count": 30,
   "metadata": {},
   "outputs": [
    {
     "name": "stdout",
     "output_type": "stream",
     "text": [
      "<class 'pandas.core.frame.DataFrame'>\n",
      "Index: 835 entries, Abingdon to Zion\n",
      "Data columns (total 9 columns):\n",
      "establishment_count    835 non-null int64\n",
      "terminal_count         835 non-null int64\n",
      "amount_played          835 non-null float64\n",
      "amount_won             835 non-null float64\n",
      "nti_tax                835 non-null float64\n",
      "state_share            835 non-null float64\n",
      "municipality_share     835 non-null float64\n",
      "population             835 non-null object\n",
      "Example Column         835 non-null int64\n",
      "dtypes: float64(5), int64(3), object(1)\n",
      "memory usage: 65.2+ KB\n"
     ]
    }
   ],
   "source": [
    "# Your code here\n",
    "df.info()"
   ]
  },
  {
   "cell_type": "markdown",
   "metadata": {},
   "source": [
    "### Task 8"
   ]
  },
  {
   "cell_type": "markdown",
   "metadata": {},
   "source": [
    "Our ```population``` column contains commas which is causing the computer to interpret the column as a string.\n",
    "\n",
    "<u>In the cell below:</u>\n",
    "1. Remove the commas from the `population` column using the ```.apply``` method\n",
    ">**If you're confused:** Find the answer relating to ```.apply()``` in this [Stack Overflow](https://stackoverflow.com/questions/56947333/how-to-remove-commas-from-all-the-column-in-pandas-at-once/56947424#56947424?newreg=3c19aff3bd5146a19f7787afedc243a2) thread.\n",
    "2. Convert the column datatype to integer\n",
    "\n",
    "    - Bonus points if you can do steps 1 & 2 with 1️⃣ line of code! 😻"
   ]
  },
  {
   "cell_type": "code",
   "execution_count": 33,
   "metadata": {
    "scrolled": false
   },
   "outputs": [],
   "source": [
    "# Your code here\n",
    "df.population = df.population.apply(lambda x: int(x.replace(',', '')))"
   ]
  },
  {
   "cell_type": "code",
   "execution_count": 34,
   "metadata": {},
   "outputs": [
    {
     "name": "stdout",
     "output_type": "stream",
     "text": [
      "<class 'pandas.core.frame.DataFrame'>\n",
      "Index: 835 entries, Abingdon to Zion\n",
      "Data columns (total 9 columns):\n",
      "establishment_count    835 non-null int64\n",
      "terminal_count         835 non-null int64\n",
      "amount_played          835 non-null float64\n",
      "amount_won             835 non-null float64\n",
      "nti_tax                835 non-null float64\n",
      "state_share            835 non-null float64\n",
      "municipality_share     835 non-null float64\n",
      "population             835 non-null int64\n",
      "Example Column         835 non-null int64\n",
      "dtypes: float64(5), int64(4)\n",
      "memory usage: 105.2+ KB\n"
     ]
    }
   ],
   "source": [
    "df.info()"
   ]
  },
  {
   "cell_type": "markdown",
   "metadata": {
    "ExecuteTime": {
     "end_time": "2020-05-17T00:51:29.636765Z",
     "start_time": "2020-05-17T00:51:29.423590Z"
    }
   },
   "source": [
    "# Cleaning Complete!\n",
    "\n",
    "<img src=\"https://media.giphy.com/media/hEZIaecxpR78I/giphy.gif\" width=400/>"
   ]
  },
  {
   "cell_type": "markdown",
   "metadata": {},
   "source": [
    "### Task 9\n",
    "\n",
    "**When examining data at the municipal level,** it is common to <i><u>scale</u></i> our data according to the municipality's population. \n",
    ">This is known as *per capita* scaling.\n",
    "\n",
    "Let's create a column that shows the number of gambling terminals per capita!\n",
    "\n",
    "<u>In the cell below:</u>\n",
    "1. Create a new column called ```terminals_percapita``` by dividing ```terminal_count``` by ```population```"
   ]
  },
  {
   "cell_type": "code",
   "execution_count": 37,
   "metadata": {},
   "outputs": [
    {
     "data": {
      "text/html": [
       "<div>\n",
       "<style scoped>\n",
       "    .dataframe tbody tr th:only-of-type {\n",
       "        vertical-align: middle;\n",
       "    }\n",
       "\n",
       "    .dataframe tbody tr th {\n",
       "        vertical-align: top;\n",
       "    }\n",
       "\n",
       "    .dataframe thead th {\n",
       "        text-align: right;\n",
       "    }\n",
       "</style>\n",
       "<table border=\"1\" class=\"dataframe\">\n",
       "  <thead>\n",
       "    <tr style=\"text-align: right;\">\n",
       "      <th></th>\n",
       "      <th>establishment_count</th>\n",
       "      <th>terminal_count</th>\n",
       "      <th>amount_played</th>\n",
       "      <th>amount_won</th>\n",
       "      <th>nti_tax</th>\n",
       "      <th>state_share</th>\n",
       "      <th>municipality_share</th>\n",
       "      <th>population</th>\n",
       "      <th>Example Column</th>\n",
       "      <th>terminals_percapita</th>\n",
       "    </tr>\n",
       "    <tr>\n",
       "      <th>Municipality</th>\n",
       "      <th></th>\n",
       "      <th></th>\n",
       "      <th></th>\n",
       "      <th></th>\n",
       "      <th></th>\n",
       "      <th></th>\n",
       "      <th></th>\n",
       "      <th></th>\n",
       "      <th></th>\n",
       "      <th></th>\n",
       "    </tr>\n",
       "  </thead>\n",
       "  <tbody>\n",
       "    <tr>\n",
       "      <th>Abingdon</th>\n",
       "      <td>4</td>\n",
       "      <td>16</td>\n",
       "      <td>6492446.76</td>\n",
       "      <td>5968296.97</td>\n",
       "      <td>165040.02</td>\n",
       "      <td>138832.38</td>\n",
       "      <td>26207.64</td>\n",
       "      <td>3452</td>\n",
       "      <td>1</td>\n",
       "      <td>0.004635</td>\n",
       "    </tr>\n",
       "    <tr>\n",
       "      <th>Addieville</th>\n",
       "      <td>1</td>\n",
       "      <td>5</td>\n",
       "      <td>939917.34</td>\n",
       "      <td>860520.60</td>\n",
       "      <td>25020.09</td>\n",
       "      <td>21050.20</td>\n",
       "      <td>3969.89</td>\n",
       "      <td>344</td>\n",
       "      <td>1</td>\n",
       "      <td>0.014535</td>\n",
       "    </tr>\n",
       "    <tr>\n",
       "      <th>Addison</th>\n",
       "      <td>23</td>\n",
       "      <td>111</td>\n",
       "      <td>88623932.26</td>\n",
       "      <td>80762581.15</td>\n",
       "      <td>2476573.63</td>\n",
       "      <td>2083474.53</td>\n",
       "      <td>393099.10</td>\n",
       "      <td>37089</td>\n",
       "      <td>1</td>\n",
       "      <td>0.002993</td>\n",
       "    </tr>\n",
       "    <tr>\n",
       "      <th>Albany</th>\n",
       "      <td>2</td>\n",
       "      <td>7</td>\n",
       "      <td>2030709.60</td>\n",
       "      <td>1855397.39</td>\n",
       "      <td>55473.53</td>\n",
       "      <td>46707.84</td>\n",
       "      <td>8765.69</td>\n",
       "      <td>979</td>\n",
       "      <td>1</td>\n",
       "      <td>0.007150</td>\n",
       "    </tr>\n",
       "    <tr>\n",
       "      <th>Albers</th>\n",
       "      <td>1</td>\n",
       "      <td>4</td>\n",
       "      <td>1546280.29</td>\n",
       "      <td>1419896.70</td>\n",
       "      <td>39710.50</td>\n",
       "      <td>33391.29</td>\n",
       "      <td>6319.21</td>\n",
       "      <td>1184</td>\n",
       "      <td>1</td>\n",
       "      <td>0.003378</td>\n",
       "    </tr>\n",
       "  </tbody>\n",
       "</table>\n",
       "</div>"
      ],
      "text/plain": [
       "              establishment_count  terminal_count  amount_played   amount_won  \\\n",
       "Municipality                                                                    \n",
       "Abingdon                        4              16     6492446.76   5968296.97   \n",
       "Addieville                      1               5      939917.34    860520.60   \n",
       "Addison                        23             111    88623932.26  80762581.15   \n",
       "Albany                          2               7     2030709.60   1855397.39   \n",
       "Albers                          1               4     1546280.29   1419896.70   \n",
       "\n",
       "                 nti_tax  state_share  municipality_share  population  \\\n",
       "Municipality                                                            \n",
       "Abingdon       165040.02    138832.38            26207.64        3452   \n",
       "Addieville      25020.09     21050.20             3969.89         344   \n",
       "Addison       2476573.63   2083474.53           393099.10       37089   \n",
       "Albany          55473.53     46707.84             8765.69         979   \n",
       "Albers          39710.50     33391.29             6319.21        1184   \n",
       "\n",
       "              Example Column  terminals_percapita  \n",
       "Municipality                                       \n",
       "Abingdon                   1             0.004635  \n",
       "Addieville                 1             0.014535  \n",
       "Addison                    1             0.002993  \n",
       "Albany                     1             0.007150  \n",
       "Albers                     1             0.003378  "
      ]
     },
     "execution_count": 37,
     "metadata": {},
     "output_type": "execute_result"
    }
   ],
   "source": [
    "# Your code here\n",
    "\n",
    "#df.terminal_count - series aka numpy array w complexity\n",
    "df['terminals_percapita'] = df.terminal_count/df.population\n",
    "df.head()"
   ]
  },
  {
   "cell_type": "markdown",
   "metadata": {},
   "source": [
    "### Task 10"
   ]
  },
  {
   "cell_type": "markdown",
   "metadata": {},
   "source": [
    "Now let's identify which communities have the highest number of gambling devices per capita. \n",
    "\n",
    "\n",
    "<u>In the cell(s) below:</u>\n",
    "1. [Sort](https://pandas.pydata.org/pandas-docs/stable/reference/api/pandas.DataFrame.sort_values.html) the dataframe according to the ```terminals_percapita``` column.\n",
    "2. Identify the 10 communities with the highest number of gambling machines per capita.\n",
    "3. Save those 10 community names in a list called ```highest_machines_percapita```"
   ]
  },
  {
   "cell_type": "code",
   "execution_count": 41,
   "metadata": {
    "ExecuteTime": {
     "end_time": "2020-05-17T01:05:16.869432Z",
     "start_time": "2020-05-17T01:05:16.864292Z"
    }
   },
   "outputs": [],
   "source": [
    "# Your code here\n",
    "highest_machines_percapita = list(df.sort_values('terminals_percapita', ascending=False).iloc[:10].index)"
   ]
  },
  {
   "cell_type": "markdown",
   "metadata": {},
   "source": [
    "Run the cell below to see if you identified the correct Municipalities!"
   ]
  },
  {
   "cell_type": "code",
   "execution_count": 42,
   "metadata": {
    "ExecuteTime": {
     "end_time": "2020-11-24T18:03:05.778750Z",
     "start_time": "2020-11-24T18:03:05.774317Z"
    }
   },
   "outputs": [
    {
     "data": {
      "text/markdown": [
       "✅ **Hey, you did it.  Good job.**"
      ],
      "text/plain": [
       "<IPython.core.display.Markdown object>"
      ]
     },
     "metadata": {},
     "output_type": "display_data"
    }
   ],
   "source": [
    "testing.run_test(highest_machines_percapita, 'highest_machines_percapita')"
   ]
  },
  {
   "cell_type": "markdown",
   "metadata": {},
   "source": [
    "### Task 11"
   ]
  },
  {
   "cell_type": "markdown",
   "metadata": {},
   "source": [
    "**Next,** let's figure out how much money players lost for each municipality.\n",
    "\n",
    "<u>In the cell below:</u>\n",
    "1. Create a new column called ```amount_lost``` that is the difference between the ```amount_played``` and ```amount_won``` columns"
   ]
  },
  {
   "cell_type": "code",
   "execution_count": 43,
   "metadata": {},
   "outputs": [
    {
     "data": {
      "text/html": [
       "<div>\n",
       "<style scoped>\n",
       "    .dataframe tbody tr th:only-of-type {\n",
       "        vertical-align: middle;\n",
       "    }\n",
       "\n",
       "    .dataframe tbody tr th {\n",
       "        vertical-align: top;\n",
       "    }\n",
       "\n",
       "    .dataframe thead th {\n",
       "        text-align: right;\n",
       "    }\n",
       "</style>\n",
       "<table border=\"1\" class=\"dataframe\">\n",
       "  <thead>\n",
       "    <tr style=\"text-align: right;\">\n",
       "      <th></th>\n",
       "      <th>establishment_count</th>\n",
       "      <th>terminal_count</th>\n",
       "      <th>amount_played</th>\n",
       "      <th>amount_won</th>\n",
       "      <th>nti_tax</th>\n",
       "      <th>state_share</th>\n",
       "      <th>municipality_share</th>\n",
       "      <th>population</th>\n",
       "      <th>Example Column</th>\n",
       "      <th>terminals_percapita</th>\n",
       "      <th>amount_lost</th>\n",
       "    </tr>\n",
       "    <tr>\n",
       "      <th>Municipality</th>\n",
       "      <th></th>\n",
       "      <th></th>\n",
       "      <th></th>\n",
       "      <th></th>\n",
       "      <th></th>\n",
       "      <th></th>\n",
       "      <th></th>\n",
       "      <th></th>\n",
       "      <th></th>\n",
       "      <th></th>\n",
       "      <th></th>\n",
       "    </tr>\n",
       "  </thead>\n",
       "  <tbody>\n",
       "    <tr>\n",
       "      <th>Abingdon</th>\n",
       "      <td>4</td>\n",
       "      <td>16</td>\n",
       "      <td>6492446.76</td>\n",
       "      <td>5968296.97</td>\n",
       "      <td>165040.02</td>\n",
       "      <td>138832.38</td>\n",
       "      <td>26207.64</td>\n",
       "      <td>3452</td>\n",
       "      <td>1</td>\n",
       "      <td>0.004635</td>\n",
       "      <td>524149.79</td>\n",
       "    </tr>\n",
       "    <tr>\n",
       "      <th>Addieville</th>\n",
       "      <td>1</td>\n",
       "      <td>5</td>\n",
       "      <td>939917.34</td>\n",
       "      <td>860520.60</td>\n",
       "      <td>25020.09</td>\n",
       "      <td>21050.20</td>\n",
       "      <td>3969.89</td>\n",
       "      <td>344</td>\n",
       "      <td>1</td>\n",
       "      <td>0.014535</td>\n",
       "      <td>79396.74</td>\n",
       "    </tr>\n",
       "    <tr>\n",
       "      <th>Addison</th>\n",
       "      <td>23</td>\n",
       "      <td>111</td>\n",
       "      <td>88623932.26</td>\n",
       "      <td>80762581.15</td>\n",
       "      <td>2476573.63</td>\n",
       "      <td>2083474.53</td>\n",
       "      <td>393099.10</td>\n",
       "      <td>37089</td>\n",
       "      <td>1</td>\n",
       "      <td>0.002993</td>\n",
       "      <td>7861351.11</td>\n",
       "    </tr>\n",
       "    <tr>\n",
       "      <th>Albany</th>\n",
       "      <td>2</td>\n",
       "      <td>7</td>\n",
       "      <td>2030709.60</td>\n",
       "      <td>1855397.39</td>\n",
       "      <td>55473.53</td>\n",
       "      <td>46707.84</td>\n",
       "      <td>8765.69</td>\n",
       "      <td>979</td>\n",
       "      <td>1</td>\n",
       "      <td>0.007150</td>\n",
       "      <td>175312.21</td>\n",
       "    </tr>\n",
       "    <tr>\n",
       "      <th>Albers</th>\n",
       "      <td>1</td>\n",
       "      <td>4</td>\n",
       "      <td>1546280.29</td>\n",
       "      <td>1419896.70</td>\n",
       "      <td>39710.50</td>\n",
       "      <td>33391.29</td>\n",
       "      <td>6319.21</td>\n",
       "      <td>1184</td>\n",
       "      <td>1</td>\n",
       "      <td>0.003378</td>\n",
       "      <td>126383.59</td>\n",
       "    </tr>\n",
       "  </tbody>\n",
       "</table>\n",
       "</div>"
      ],
      "text/plain": [
       "              establishment_count  terminal_count  amount_played   amount_won  \\\n",
       "Municipality                                                                    \n",
       "Abingdon                        4              16     6492446.76   5968296.97   \n",
       "Addieville                      1               5      939917.34    860520.60   \n",
       "Addison                        23             111    88623932.26  80762581.15   \n",
       "Albany                          2               7     2030709.60   1855397.39   \n",
       "Albers                          1               4     1546280.29   1419896.70   \n",
       "\n",
       "                 nti_tax  state_share  municipality_share  population  \\\n",
       "Municipality                                                            \n",
       "Abingdon       165040.02    138832.38            26207.64        3452   \n",
       "Addieville      25020.09     21050.20             3969.89         344   \n",
       "Addison       2476573.63   2083474.53           393099.10       37089   \n",
       "Albany          55473.53     46707.84             8765.69         979   \n",
       "Albers          39710.50     33391.29             6319.21        1184   \n",
       "\n",
       "              Example Column  terminals_percapita  amount_lost  \n",
       "Municipality                                                    \n",
       "Abingdon                   1             0.004635    524149.79  \n",
       "Addieville                 1             0.014535     79396.74  \n",
       "Addison                    1             0.002993   7861351.11  \n",
       "Albany                     1             0.007150    175312.21  \n",
       "Albers                     1             0.003378    126383.59  "
      ]
     },
     "execution_count": 43,
     "metadata": {},
     "output_type": "execute_result"
    }
   ],
   "source": [
    "# Your code here\n",
    "df['amount_lost'] = df.amount_played - df.amount_won\n",
    "df.head()"
   ]
  },
  {
   "cell_type": "markdown",
   "metadata": {},
   "source": [
    "### Task 12"
   ]
  },
  {
   "cell_type": "markdown",
   "metadata": {},
   "source": [
    "<u>In the cell below:</u>\n",
    "1. Save the mean of the ```amount_lost``` column as the variable ```average_loss```.\n",
    "2. Using numpy, round the ```average_lost``` variable to 2 decimal points.\n",
    "    - Save the rounded number as the variable ```average_loss_rounded```"
   ]
  },
  {
   "cell_type": "code",
   "execution_count": 44,
   "metadata": {},
   "outputs": [
    {
     "data": {
      "text/plain": [
       "1816880.05"
      ]
     },
     "execution_count": 44,
     "metadata": {},
     "output_type": "execute_result"
    }
   ],
   "source": [
    "# Your code here\n",
    "\n",
    "average_loss = df.amount_lost.mean()\n",
    "average_loss_rounded = np.round(average_loss, decimals=2)\n",
    "average_loss_rounded"
   ]
  },
  {
   "cell_type": "markdown",
   "metadata": {},
   "source": [
    "### Task 13"
   ]
  },
  {
   "cell_type": "markdown",
   "metadata": {},
   "source": [
    "Let's zoom in on this new loss data. \n",
    "\n",
    "<u>In the cell below:</u>\n",
    "1. Create a new column called ```loss_percapita``` that is the division of the ```amount_lost``` and ```population```"
   ]
  },
  {
   "cell_type": "code",
   "execution_count": 46,
   "metadata": {},
   "outputs": [
    {
     "data": {
      "text/html": [
       "<div>\n",
       "<style scoped>\n",
       "    .dataframe tbody tr th:only-of-type {\n",
       "        vertical-align: middle;\n",
       "    }\n",
       "\n",
       "    .dataframe tbody tr th {\n",
       "        vertical-align: top;\n",
       "    }\n",
       "\n",
       "    .dataframe thead th {\n",
       "        text-align: right;\n",
       "    }\n",
       "</style>\n",
       "<table border=\"1\" class=\"dataframe\">\n",
       "  <thead>\n",
       "    <tr style=\"text-align: right;\">\n",
       "      <th></th>\n",
       "      <th>establishment_count</th>\n",
       "      <th>terminal_count</th>\n",
       "      <th>amount_played</th>\n",
       "      <th>amount_won</th>\n",
       "      <th>nti_tax</th>\n",
       "      <th>state_share</th>\n",
       "      <th>municipality_share</th>\n",
       "      <th>population</th>\n",
       "      <th>Example Column</th>\n",
       "      <th>terminals_percapita</th>\n",
       "      <th>amount_lost</th>\n",
       "      <th>loss_percapita</th>\n",
       "    </tr>\n",
       "    <tr>\n",
       "      <th>Municipality</th>\n",
       "      <th></th>\n",
       "      <th></th>\n",
       "      <th></th>\n",
       "      <th></th>\n",
       "      <th></th>\n",
       "      <th></th>\n",
       "      <th></th>\n",
       "      <th></th>\n",
       "      <th></th>\n",
       "      <th></th>\n",
       "      <th></th>\n",
       "      <th></th>\n",
       "    </tr>\n",
       "  </thead>\n",
       "  <tbody>\n",
       "    <tr>\n",
       "      <th>Abingdon</th>\n",
       "      <td>4</td>\n",
       "      <td>16</td>\n",
       "      <td>6492446.76</td>\n",
       "      <td>5968296.97</td>\n",
       "      <td>165040.02</td>\n",
       "      <td>138832.38</td>\n",
       "      <td>26207.64</td>\n",
       "      <td>3452</td>\n",
       "      <td>1</td>\n",
       "      <td>0.004635</td>\n",
       "      <td>524149.79</td>\n",
       "      <td>151.839452</td>\n",
       "    </tr>\n",
       "    <tr>\n",
       "      <th>Addieville</th>\n",
       "      <td>1</td>\n",
       "      <td>5</td>\n",
       "      <td>939917.34</td>\n",
       "      <td>860520.60</td>\n",
       "      <td>25020.09</td>\n",
       "      <td>21050.20</td>\n",
       "      <td>3969.89</td>\n",
       "      <td>344</td>\n",
       "      <td>1</td>\n",
       "      <td>0.014535</td>\n",
       "      <td>79396.74</td>\n",
       "      <td>230.804477</td>\n",
       "    </tr>\n",
       "    <tr>\n",
       "      <th>Addison</th>\n",
       "      <td>23</td>\n",
       "      <td>111</td>\n",
       "      <td>88623932.26</td>\n",
       "      <td>80762581.15</td>\n",
       "      <td>2476573.63</td>\n",
       "      <td>2083474.53</td>\n",
       "      <td>393099.10</td>\n",
       "      <td>37089</td>\n",
       "      <td>1</td>\n",
       "      <td>0.002993</td>\n",
       "      <td>7861351.11</td>\n",
       "      <td>211.959101</td>\n",
       "    </tr>\n",
       "    <tr>\n",
       "      <th>Albany</th>\n",
       "      <td>2</td>\n",
       "      <td>7</td>\n",
       "      <td>2030709.60</td>\n",
       "      <td>1855397.39</td>\n",
       "      <td>55473.53</td>\n",
       "      <td>46707.84</td>\n",
       "      <td>8765.69</td>\n",
       "      <td>979</td>\n",
       "      <td>1</td>\n",
       "      <td>0.007150</td>\n",
       "      <td>175312.21</td>\n",
       "      <td>179.072737</td>\n",
       "    </tr>\n",
       "    <tr>\n",
       "      <th>Albers</th>\n",
       "      <td>1</td>\n",
       "      <td>4</td>\n",
       "      <td>1546280.29</td>\n",
       "      <td>1419896.70</td>\n",
       "      <td>39710.50</td>\n",
       "      <td>33391.29</td>\n",
       "      <td>6319.21</td>\n",
       "      <td>1184</td>\n",
       "      <td>1</td>\n",
       "      <td>0.003378</td>\n",
       "      <td>126383.59</td>\n",
       "      <td>106.742897</td>\n",
       "    </tr>\n",
       "  </tbody>\n",
       "</table>\n",
       "</div>"
      ],
      "text/plain": [
       "              establishment_count  terminal_count  amount_played   amount_won  \\\n",
       "Municipality                                                                    \n",
       "Abingdon                        4              16     6492446.76   5968296.97   \n",
       "Addieville                      1               5      939917.34    860520.60   \n",
       "Addison                        23             111    88623932.26  80762581.15   \n",
       "Albany                          2               7     2030709.60   1855397.39   \n",
       "Albers                          1               4     1546280.29   1419896.70   \n",
       "\n",
       "                 nti_tax  state_share  municipality_share  population  \\\n",
       "Municipality                                                            \n",
       "Abingdon       165040.02    138832.38            26207.64        3452   \n",
       "Addieville      25020.09     21050.20             3969.89         344   \n",
       "Addison       2476573.63   2083474.53           393099.10       37089   \n",
       "Albany          55473.53     46707.84             8765.69         979   \n",
       "Albers          39710.50     33391.29             6319.21        1184   \n",
       "\n",
       "              Example Column  terminals_percapita  amount_lost  loss_percapita  \n",
       "Municipality                                                                    \n",
       "Abingdon                   1             0.004635    524149.79      151.839452  \n",
       "Addieville                 1             0.014535     79396.74      230.804477  \n",
       "Addison                    1             0.002993   7861351.11      211.959101  \n",
       "Albany                     1             0.007150    175312.21      179.072737  \n",
       "Albers                     1             0.003378    126383.59      106.742897  "
      ]
     },
     "execution_count": 46,
     "metadata": {},
     "output_type": "execute_result"
    }
   ],
   "source": [
    "# Your code here\n",
    "df['loss_percapita'] = df.amount_lost/df.population\n",
    "df.head()"
   ]
  },
  {
   "cell_type": "markdown",
   "metadata": {},
   "source": [
    "### Task 14"
   ]
  },
  {
   "cell_type": "markdown",
   "metadata": {},
   "source": [
    "<u>In the cell below</u>\n",
    "1. Sort the dataframe by ```loss_percapita``` and save the 10 communities with the highest loss per capita to a list called ```highest_loss_percapita```"
   ]
  },
  {
   "cell_type": "code",
   "execution_count": 48,
   "metadata": {},
   "outputs": [
    {
     "data": {
      "text/plain": [
       "['McCook',\n",
       " 'Forest View',\n",
       " 'West City',\n",
       " 'Wadsworth',\n",
       " 'Oakbrook Terrace',\n",
       " 'Monroe Center',\n",
       " 'Bulpitt',\n",
       " 'East Dubuque',\n",
       " 'East Gillespie',\n",
       " 'Oakwood']"
      ]
     },
     "execution_count": 48,
     "metadata": {},
     "output_type": "execute_result"
    }
   ],
   "source": [
    "# Your code here\n",
    "# list(df.sort_values('terminals_percapita', ascending=False).iloc[:10].index)\n",
    "highest_loss_percapita = list(df.sort_values('loss_percapita', ascending=False).iloc[:10].index)\n",
    "highest_loss_percapita"
   ]
  },
  {
   "cell_type": "markdown",
   "metadata": {
    "ExecuteTime": {
     "end_time": "2020-05-17T01:55:55.877308Z",
     "start_time": "2020-05-17T01:55:55.873469Z"
    }
   },
   "source": [
    "Run the cell below to see if you idenitified the correct municipalities!"
   ]
  },
  {
   "cell_type": "code",
   "execution_count": 49,
   "metadata": {
    "ExecuteTime": {
     "end_time": "2020-05-17T21:40:33.536543Z",
     "start_time": "2020-05-17T21:40:33.531834Z"
    }
   },
   "outputs": [
    {
     "data": {
      "text/markdown": [
       "✅ **Hey, you did it.  Good job.**"
      ],
      "text/plain": [
       "<IPython.core.display.Markdown object>"
      ]
     },
     "metadata": {},
     "output_type": "display_data"
    }
   ],
   "source": [
    "testing.run_test(highest_loss_percapita, 'highest_loss_percapita')"
   ]
  },
  {
   "cell_type": "markdown",
   "metadata": {},
   "source": [
    "### Task 15\n",
    "\n",
    "Let's create a categorical variable that classifies a municipality according to the Census Urban-Rural Classification.\n",
    "\n",
    "\n",
    "> \"The Census Bureau identifies two types of urban areas. Urbanized Areas (UAs) of 50,000 or more people;\n",
    "Urban Clusters (UCs) of at least 2,500 and less than 50,000 people. 'Rural' encompasses all population, housing, and territory not included within an urban area.\" *–– [US Census Bureau](https://www.census.gov/programs-surveys/geography/guidance/geo-areas/urban-rural.html)*\n",
    "\n",
    "Let's create a visualization to check if this technique makes sense with our data.\n",
    "\n",
    "<u>In the cell below:</u>\n",
    "- Create a boxplot to visualize the distribution of the `population` column."
   ]
  },
  {
   "cell_type": "code",
   "execution_count": 50,
   "metadata": {},
   "outputs": [
    {
     "data": {
      "image/png": "[encoded data removed]",
      "text/plain": [
       "<Figure size 432x288 with 1 Axes>"
      ]
     },
     "metadata": {
      "needs_background": "light"
     },
     "output_type": "display_data"
    }
   ],
   "source": [
    "# Your code here\n",
    "plt.boxplot(df.population)\n",
    "plt.title('Illinois Municipalities with Video Gambling -- Population')\n",
    "plt.show()"
   ]
  },
  {
   "cell_type": "markdown",
   "metadata": {},
   "source": [
    "### Task 16"
   ]
  },
  {
   "cell_type": "markdown",
   "metadata": {},
   "source": [
    "This classification technique seems like it will work adequately for these data. \n",
    "\n",
    "<u>In the cell below:</u>\n",
    "\n",
    "Create a new column called `urban_rural` that bins the population column into the following groups:\n",
    "- 'rural'\n",
    "    - Any population that is less than 2,500.\n",
    "- 'urban-cluster'\n",
    "    - Any population that is 2,500-50,000.\n",
    "- 'urban'\n",
    "    - Any population that is greater than 50,000.\n",
    "    \n",
    "> There are multiple ways to create this column. I'll leave it to you to decide how you will complete this task."
   ]
  },
  {
   "cell_type": "code",
   "execution_count": 51,
   "metadata": {},
   "outputs": [],
   "source": [
    "# Your code here\n",
    "\n",
    "bins = []\n",
    "for idx in df.index:\n",
    "    value = df.population[idx]\n",
    "    if value > 50000:\n",
    "        bins.append('urban')\n",
    "    elif value >= 2500:\n",
    "        bins.append('urban-cluster')\n",
    "    else:\n",
    "        bins.append('rural')\n",
    "\n",
    "df['urban_rural'] = bins"
   ]
  },
  {
   "cell_type": "markdown",
   "metadata": {},
   "source": [
    "### Task 17\n",
    "\n",
    "**Let's visualize our classified column**\n",
    "\n",
    "<u>In the cell below:</u>\n",
    "- Create a bar chart showing the number of municipalities for each urban-rural classification. "
   ]
  },
  {
   "cell_type": "code",
   "execution_count": 53,
   "metadata": {},
   "outputs": [
    {
     "data": {
      "text/plain": [
       "<BarContainer object of 3 artists>"
      ]
     },
     "execution_count": 53,
     "metadata": {},
     "output_type": "execute_result"
    },
    {
     "data": {
      "image/png": "[encoded data removed]",
      "text/plain": [
       "<Figure size 432x288 with 1 Axes>"
      ]
     },
     "metadata": {
      "needs_background": "light"
     },
     "output_type": "display_data"
    }
   ],
   "source": [
    "# Your code here\n",
    "\n",
    "series = df.urban_rural.value_counts()\n",
    "plt.bar(series.index, series.values)"
   ]
  },
  {
   "cell_type": "markdown",
   "metadata": {},
   "source": [
    "### Task 18"
   ]
  },
  {
   "cell_type": "markdown",
   "metadata": {
    "ExecuteTime": {
     "end_time": "2020-05-17T02:18:33.975014Z",
     "start_time": "2020-05-17T02:18:33.849160Z"
    }
   },
   "source": [
    "<u>In the cell(s) below:</u>\n",
    "1. Filter our dataframe to contain municipalities with a ```loss_percapita``` of 406 or greater. \n",
    "    - Save this filtered dataframe as ```high_loss_percapita```\n",
    "2. Filter our dataframe to contain municipalities with a ```loss_percapita``` of 155 or less.\n",
    "    - Save this filtered dataframe as ```low_loss_percapita```\n",
    "3. Identify the mean population for the municipalities with a high per capita loss\n",
    "    - Using numpy, round this data point to 2 decimals\n",
    "    - Save this data point as the variable ```high_loss_average_population```\n",
    "\n",
    "4. Identify the mean population for the municipalities with a low per capita loss.\n",
    "    - Using numpy round this data point to 2 decimals\n",
    "    - Save this data point as the variable ```low_loss_average_population```  "
   ]
  },
  {
   "cell_type": "code",
   "execution_count": 54,
   "metadata": {},
   "outputs": [],
   "source": [
    "# Your code here\n",
    "\n",
    "high_loss_percapita = df[df.loss_percapita >= 406]\n",
    "low_loss_percapita = df[df.loss_percapita <= 155]\n",
    "high_loss_average_population = np.round(high_loss_percapita.population.mean(), 2)\n",
    "low_loss_average_population = np.round(low_loss_percapita.population.mean(), 2)"
   ]
  },
  {
   "cell_type": "markdown",
   "metadata": {
    "ExecuteTime": {
     "end_time": "2020-05-17T02:38:58.820615Z",
     "start_time": "2020-05-17T02:38:58.816687Z"
    }
   },
   "source": [
    "Run the cell below to see if you identified the correct averages!"
   ]
  },
  {
   "cell_type": "code",
   "execution_count": 55,
   "metadata": {},
   "outputs": [
    {
     "data": {
      "text/markdown": [
       "✅ **Hey, you did it.  Good job.**"
      ],
      "text/plain": [
       "<IPython.core.display.Markdown object>"
      ]
     },
     "metadata": {},
     "output_type": "display_data"
    },
    {
     "data": {
      "text/markdown": [
       "✅ **Hey, you did it.  Good job.**"
      ],
      "text/plain": [
       "<IPython.core.display.Markdown object>"
      ]
     },
     "metadata": {},
     "output_type": "display_data"
    }
   ],
   "source": [
    "testing.run_test(high_loss_average_population, 'high_loss_average_population')\n",
    "testing.run_test(low_loss_average_population, 'low_loss_average_population')"
   ]
  },
  {
   "cell_type": "markdown",
   "metadata": {},
   "source": [
    "**Run this cell below to visualize the average population for high loss and low loss percapita communities**"
   ]
  },
  {
   "cell_type": "code",
   "execution_count": 56,
   "metadata": {},
   "outputs": [
    {
     "data": {
      "image/png": "[encoded data removed]",
      "text/plain": [
       "<Figure size 432x288 with 1 Axes>"
      ]
     },
     "metadata": {
      "needs_background": "light"
     },
     "output_type": "display_data"
    }
   ],
   "source": [
    "x = ['Low Loss', 'High Loss']\n",
    "y = [low_loss_average_population, high_loss_average_population]\n",
    "\n",
    "plt.bar(x,y)\n",
    "plt.title('Average Population of Municipalities According To Gambling Loss Per Capita');"
   ]
  }
 ],
 "metadata": {
  "hide_input": false,
  "kernelspec": {
   "display_name": "Python 3",
   "language": "python",
   "name": "python3"
  },
  "language_info": {
   "codemirror_mode": {
    "name": "ipython",
    "version": 3
   },
   "file_extension": ".py",
   "mimetype": "text/x-python",
   "name": "python",
   "nbconvert_exporter": "python",
   "pygments_lexer": "ipython3",
   "version": "3.6.9"
  },
  "toc": {
   "base_numbering": 1,
   "nav_menu": {},
   "number_sections": false,
   "sideBar": true,
   "skip_h1_title": true,
   "title_cell": "Table of Contents",
   "title_sidebar": "Contents",
   "toc_cell": false,
   "toc_position": {},
   "toc_section_display": true,
   "toc_window_display": false
  },
  "varInspector": {
   "cols": {
    "lenName": 16,
    "lenType": 16,
    "lenVar": 40
   },
   "kernels_config": {
    "python": {
     "delete_cmd_postfix": "",
     "delete_cmd_prefix": "del ",
     "library": "var_list.py",
     "varRefreshCmd": "print(var_dic_list())"
    },
    "r": {
     "delete_cmd_postfix": ") ",
     "delete_cmd_prefix": "rm(",
     "library": "var_list.r",
     "varRefreshCmd": "cat(var_dic_list()) "
    }
   },
   "types_to_exclude": [
    "module",
    "function",
    "builtin_function_or_method",
    "instance",
    "_Feature"
   ],
   "window_display": false
  }
 },
 "nbformat": 4,
 "nbformat_minor": 4
}
