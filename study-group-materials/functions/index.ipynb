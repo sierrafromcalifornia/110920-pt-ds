{
 "cells": [
  {
   "cell_type": "markdown",
   "metadata": {},
   "source": [
    "# –– Functions ––"
   ]
  },
  {
   "cell_type": "markdown",
   "metadata": {},
   "source": [
    "![Pokeball](https://media.giphy.com/media/R9zXHWAHyTjnq/giphy.gif)"
   ]
  },
  {
   "cell_type": "markdown",
   "metadata": {},
   "source": [
    "### Question:\n",
    "\n",
    "Why do we use functions?"
   ]
  },
  {
   "cell_type": "markdown",
   "metadata": {},
   "source": [
    "> **Sierra's Addition:** we use functions to help repeat particular operations in ease and to aid in clarity of our code and limit the computing power we use."
   ]
  },
  {
   "cell_type": "markdown",
   "metadata": {},
   "source": [
    "### Create a basic function\n",
    "\n",
    "<u>In the cell below:</u>\n",
    "\n",
    "Write a function called `hello` that receives a name and does the following:\n",
    "1. prints the string \"Hello \\<name>\" \n",
    "2. returns the string \"\\<name> said Hello!\""
   ]
  },
  {
   "cell_type": "code",
   "execution_count": 3,
   "metadata": {},
   "outputs": [
    {
     "name": "stdout",
     "output_type": "stream",
     "text": [
      "What is your name?Sierra\n",
      "Sierra\n"
     ]
    },
    {
     "data": {
      "text/plain": [
       "'Sierra said Hello!'"
      ]
     },
     "execution_count": 3,
     "metadata": {},
     "output_type": "execute_result"
    }
   ],
   "source": [
    "name = input('What is your name?')\n",
    "\n",
    "def hello(name):\n",
    "    print(name)\n",
    "    return name + \" said Hello!\"\n",
    "\n",
    "hello(name)"
   ]
  },
  {
   "cell_type": "markdown",
   "metadata": {},
   "source": [
    "**In the cell below,** we import the Pokemon Dataset.\n",
    "\n",
    "*Don't worry about this code for now. Just run the cell ☺️*"
   ]
  },
  {
   "cell_type": "code",
   "execution_count": 4,
   "metadata": {
    "ExecuteTime": {
     "end_time": "2020-11-19T20:18:49.248309Z",
     "start_time": "2020-11-19T20:18:49.234412Z"
    }
   },
   "outputs": [],
   "source": [
    "import json\n",
    "import os\n",
    "\n",
    "path = os.path.join('data', 'pokemon.json')\n",
    "with open(path, 'r') as fp:\n",
    "    data = json.load(fp)"
   ]
  },
  {
   "cell_type": "code",
   "execution_count": 5,
   "metadata": {
    "ExecuteTime": {
     "end_time": "2020-11-19T20:18:49.253699Z",
     "start_time": "2020-11-19T20:18:49.250723Z"
    }
   },
   "outputs": [
    {
     "name": "stdout",
     "output_type": "stream",
     "text": [
      "Data type: <class 'dict'>\n",
      "Number of observations: 801\n"
     ]
    }
   ],
   "source": [
    "print('Data type:', type(data))\n",
    "print('Number of observations:', len(data))"
   ]
  },
  {
   "cell_type": "markdown",
   "metadata": {},
   "source": [
    "### Previous Lesson:"
   ]
  },
  {
   "cell_type": "markdown",
   "metadata": {},
   "source": [
    "![](https://gamepress.gg/pokemonmasters/sites/pokemonmasters/files/styles/300h/public/2019-08/pm0153_00_bayleaf_256.ktx.png?itok=Tr7OMsm1)"
   ]
  },
  {
   "cell_type": "markdown",
   "metadata": {},
   "source": [
    "**Bayleef** is Joél's strongest pokemon. Let's create a list of all Pokemon that Bayleef is weak against.\n",
    "\n",
    "Our dictionary gives us the *Types* of pokemon Bayleef is weak to. Our dictionary also gives us the type for each pokemon. So first we have to figure out what types of pokemon Bayleef is weak to, then grab every pokemon that has that type.\n",
    "\n",
    "**Ok, here is how we will do it.**\n",
    "\n",
    "*Weakness* is measured with the ```weakness``` key in our data. If the weakness value = 2, that means the pokemon is extremely weak to that type of pokemon. \n",
    "\n",
    "To find all pokemon that Bayleef is weak to, we have to:\n",
    "1. Isolate Bayleef's weakness data from our dictionary\n",
    "2. Identify any type that has a weakness score of 2 and append those types to a list called ```weakness_types```\n",
    "3. Loop over our entire dataset\n",
    "4. Identify pokemon who have a type that match the types in our ```weakness_types``` list.\n",
    "> **Hint** The type of each pokemon can be found using the ```stats``` key\n",
    "5. Append the names of those pokemon to a list called ```bayleef_weakness```\n",
    "\n",
    "-----------------\n",
    "\n",
    "**Let's walk through steps 1 and 2.**\n",
    "\n",
    "You will code steps 3-5!"
   ]
  },
  {
   "cell_type": "markdown",
   "metadata": {},
   "source": [
    "**Step 1:** Isolate Bayleef's weakness data from our dictionary"
   ]
  },
  {
   "cell_type": "code",
   "execution_count": 3,
   "metadata": {
    "ExecuteTime": {
     "end_time": "2020-11-19T20:18:49.260095Z",
     "start_time": "2020-11-19T20:18:49.257542Z"
    }
   },
   "outputs": [],
   "source": [
    "bayleef_weakness_scores = data['Bayleef']['weakness']"
   ]
  },
  {
   "cell_type": "markdown",
   "metadata": {},
   "source": [
    "**Step 2:** Identify any type that has a weakness score of 2 and appending those types to a list called ```weakness_types```\n",
    "\n",
    "\n",
    "We do this by:\n",
    "1. Creating an empty list\n",
    "2. Looping over the keys of our newly made dictionary```bayleef_weakness_score```.\n",
    "    - Each key is a pokemon type\n",
    "3. Checking if the score equals 2\n",
    "4. Appending the key to our empty list if the score equals 2"
   ]
  },
  {
   "cell_type": "code",
   "execution_count": 4,
   "metadata": {
    "ExecuteTime": {
     "end_time": "2020-11-19T20:18:49.269991Z",
     "start_time": "2020-11-19T20:18:49.261646Z"
    }
   },
   "outputs": [
    {
     "data": {
      "text/plain": [
       "['ice', 'poison', 'bug', 'fire', 'flying']"
      ]
     },
     "execution_count": 4,
     "metadata": {},
     "output_type": "execute_result"
    }
   ],
   "source": [
    "weakness_types = []\n",
    "\n",
    "for weakness in bayleef_weakness_scores.keys():\n",
    "    if bayleef_weakness_scores[weakness] == 2:\n",
    "        weakness_types.append(weakness)\n",
    "        \n",
    "weakness_types"
   ]
  },
  {
   "cell_type": "markdown",
   "metadata": {},
   "source": [
    "Bayleef is weak to ice, poison, bug, fire, and flying pokemon. \n",
    "\n",
    "# Today's Lesson: \n",
    "### Task 1: Move the code from the previous lesson into a function.\n",
    "\n",
    "If a piece of code does something that we may want to do again it's a good idea to turn the code into a function!\n",
    "\n",
    "<u>In the cell below create a function called `extreme_weakness_types` that:</u> \n",
    "1. Receives the name of a pokemon\n",
    "2. Isolates the weakness data for that pokemon\n",
    "3. Returns a list of all types the given pokemon is extremely weak to."
   ]
  },
  {
   "cell_type": "code",
   "execution_count": null,
   "metadata": {},
   "outputs": [],
   "source": [
    "# Your code here\n",
    "\n",
    "weakness_types = []\n",
    "\n",
    "def extreme_weakness_types():\n",
    "    pokemon_name = input(\"What is the pokemon's name you'd like to analyze?\")\n",
    "    weakness_score = data[pokemon_name]['weakness']\n",
    "    for weakness in weakness_score.key():\n",
    "            if weakness_score[weakness] == 2 #do we still compare to this no if pokemon ranges\n",
    "                weakness_types.append(weakness)"
   ]
  },
  {
   "cell_type": "code",
   "execution_count": 6,
   "metadata": {
    "ExecuteTime": {
     "end_time": "2020-11-19T20:18:49.280628Z",
     "start_time": "2020-11-19T20:18:49.278014Z"
    }
   },
   "outputs": [
    {
     "name": "stdout",
     "output_type": "stream",
     "text": [
      "Bayleef is weak to: ['ice', 'poison', 'bug', 'fire', 'flying']\n",
      "Pidgey is weak to: ['ice', 'rock', 'electric']\n",
      "Haunter is weak to: ['ghost', 'ground', 'psychic', 'dark']\n"
     ]
    }
   ],
   "source": [
    "weakness_types = extreme_weakness_types('Bayleef')\n",
    "print('Bayleef is weak to:', weakness_types)\n",
    "print('Pidgey is weak to:',  extreme_weakness_types('Pidgey'))\n",
    "print('Haunter is weak to:', extreme_weakness_types('Haunter'))"
   ]
  },
  {
   "cell_type": "markdown",
   "metadata": {},
   "source": [
    "### Previous Lesson:\n",
    "\n",
    "In the cell below, use the weakness_types list to identify pokemon that have one of those types, and append those pokemon to a list named ```bayleef_weakness```. \n",
    "\n",
    ">**Hint** The code will be very similar to the code for step 2.\n",
    "\n",
    ">**Hint** Make sure your list doesn't contain duplicates of the same pokemon!"
   ]
  },
  {
   "cell_type": "code",
   "execution_count": 7,
   "metadata": {
    "ExecuteTime": {
     "end_time": "2020-11-19T20:18:49.285186Z",
     "start_time": "2020-11-19T20:18:49.282033Z"
    }
   },
   "outputs": [],
   "source": [
    "bayleef_weakness = set()\n",
    "for key in data.keys():\n",
    "    if data[key]['stats']['type1'] in weakness_types:\n",
    "        bayleef_weakness.add(key)\n",
    "    elif data[key]['stats']['type2'] in weakness_types:\n",
    "        bayleef_weakness.add(key)\n",
    "        \n",
    "bayleef_weakness = list(bayleef_weakness)"
   ]
  },
  {
   "cell_type": "markdown",
   "metadata": {},
   "source": [
    "Run the cell below to test your code! ⬇️"
   ]
  },
  {
   "cell_type": "code",
   "execution_count": null,
   "metadata": {
    "ExecuteTime": {
     "end_time": "2020-11-19T20:18:49.305015Z",
     "start_time": "2020-11-19T20:18:49.286929Z"
    }
   },
   "outputs": [],
   "source": [
    "from tests import ListCheck\n",
    "test = ListCheck(bayleef_weakness)\n",
    "test.run()"
   ]
  },
  {
   "cell_type": "markdown",
   "metadata": {},
   "source": [
    "# Today's lesson: Move the code above into a function!\n",
    "\n",
    "### Task 2\n",
    "\n",
    "<u>In the cell below create a function called `pokemon_with_type` that:</u>\n",
    "1. Receives the name of a pokemon type\n",
    "2. Returns the name for every pokemon with the given type."
   ]
  },
  {
   "cell_type": "code",
   "execution_count": null,
   "metadata": {},
   "outputs": [],
   "source": [
    "# Your code here"
   ]
  },
  {
   "cell_type": "markdown",
   "metadata": {},
   "source": [
    "**Run the cell below to test your code!**"
   ]
  },
  {
   "cell_type": "code",
   "execution_count": null,
   "metadata": {
    "ExecuteTime": {
     "end_time": "2020-11-19T20:18:49.322044Z",
     "start_time": "2020-11-19T20:18:49.312816Z"
    }
   },
   "outputs": [],
   "source": [
    "from tests import PokemonWithType\n",
    "test = PokemonWithType()\n",
    "test.run(pokemon_with_type, data)"
   ]
  },
  {
   "cell_type": "markdown",
   "metadata": {},
   "source": [
    "### Task 3 \n",
    "\n",
    "<u>In the cell below, create a function called `compare_types` that:</u>\n",
    "1. Receives a stat and the names of two pokemon types\n",
    "2. Collects the relevant stat for every pokemon for each type\n",
    "3. Calculates the mean for each pokemon type\n",
    "4. Prints the number of oberservations for each type\n",
    "5. Print the mean for each type\n",
    "6. Outputs a histogram showing each types stat distribution. "
   ]
  },
  {
   "cell_type": "code",
   "execution_count": null,
   "metadata": {},
   "outputs": [],
   "source": [
    "# Your code here"
   ]
  },
  {
   "cell_type": "markdown",
   "metadata": {},
   "source": [
    "**Run the cell below to test your code**"
   ]
  },
  {
   "cell_type": "code",
   "execution_count": null,
   "metadata": {
    "ExecuteTime": {
     "end_time": "2020-11-19T20:18:49.343663Z",
     "start_time": "2020-11-19T20:18:49.336918Z"
    }
   },
   "outputs": [],
   "source": [
    "from tests import StatByType\n",
    "test = StatByType()\n",
    "test.run(stat_by_type, data)"
   ]
  },
  {
   "cell_type": "code",
   "execution_count": 14,
   "metadata": {
    "ExecuteTime": {
     "end_time": "2020-11-19T20:18:50.003677Z",
     "start_time": "2020-11-19T20:18:49.776668Z"
    }
   },
   "outputs": [
    {
     "name": "stdout",
     "output_type": "stream",
     "text": [
      "                        Report\n",
      "======================================================\n",
      "Number of water pokemon:  131\n",
      "Number of fire pokemon:  64\n",
      "––––––––––––––––––––––––––––––––––––––––––––––––––––––\n",
      "water mean attack:  72.90076335877863\n",
      "fire mean attack:  79.15625\n"
     ]
    },
    {
     "data": {
      "image/png": "[encoded data removed]",
      "text/plain": [
       "<Figure size 432x288 with 1 Axes>"
      ]
     },
     "metadata": {
      "needs_background": "light"
     },
     "output_type": "display_data"
    }
   ],
   "source": [
    "compare_types('attack', 'water', 'fire')"
   ]
  }
 ],
 "metadata": {
  "hide_input": false,
  "kernelspec": {
   "display_name": "Python 3",
   "language": "python",
   "name": "python3"
  },
  "language_info": {
   "codemirror_mode": {
    "name": "ipython",
    "version": 3
   },
   "file_extension": ".py",
   "mimetype": "text/x-python",
   "name": "python",
   "nbconvert_exporter": "python",
   "pygments_lexer": "ipython3",
   "version": "3.6.9"
  },
  "toc": {
   "base_numbering": 1,
   "nav_menu": {},
   "number_sections": false,
   "sideBar": true,
   "skip_h1_title": true,
   "title_cell": "Table of Contents",
   "title_sidebar": "Contents",
   "toc_cell": false,
   "toc_position": {},
   "toc_section_display": true,
   "toc_window_display": false
  },
  "varInspector": {
   "cols": {
    "lenName": 16,
    "lenType": 16,
    "lenVar": 40
   },
   "kernels_config": {
    "python": {
     "delete_cmd_postfix": "",
     "delete_cmd_prefix": "del ",
     "library": "var_list.py",
     "varRefreshCmd": "print(var_dic_list())"
    },
    "r": {
     "delete_cmd_postfix": ") ",
     "delete_cmd_prefix": "rm(",
     "library": "var_list.r",
     "varRefreshCmd": "cat(var_dic_list()) "
    }
   },
   "types_to_exclude": [
    "module",
    "function",
    "builtin_function_or_method",
    "instance",
    "_Feature"
   ],
   "window_display": false
  }
 },
 "nbformat": 4,
 "nbformat_minor": 2
}
