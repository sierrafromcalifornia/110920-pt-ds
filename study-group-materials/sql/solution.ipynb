{
 "cells": [
  {
   "cell_type": "markdown",
   "metadata": {
    "slideshow": {
     "slide_type": "slide"
    }
   },
   "source": [
    "![sql](../../static/sql-logo.jpg)\n",
    "\n",
    "# A guide to databases, SQL, & using them with `pandas`"
   ]
  },
  {
   "cell_type": "markdown",
   "metadata": {
    "slideshow": {
     "slide_type": "slide"
    }
   },
   "source": [
    "Let's start with Peter Bell's great blog piece [on relational databases](https://flatironschool.com/blog/an-introduction-to-the-relational-database).\n",
    "\n",
    "Themes:\n",
    "- Structured vs. Unstructured Data\n",
    "- Records (Rows) in Tables in Databases\n",
    "- Eliminating Redundancy"
   ]
  },
  {
   "cell_type": "markdown",
   "metadata": {
    "slideshow": {
     "slide_type": "slide"
    }
   },
   "source": [
    "## Learning goals:\n",
    "- Goal 1: Summarize the use case for sql in the data science skill set\n",
    "- Goal 2: Define key sql terminology\n",
    "- Goal 3: Get information about DB schema and table structure\n",
    "- Goal 4: Use basic SQL commands:\n",
    "    - Construct SQL queries\n",
    "    - Use JOIN to merge tables along logical columns\n",
    "    - Group Data with SQL\n",
    "- Goal 5: Query data from pandas dataframes using SQL\n",
    "- Goal 6: Convert SQL to pandas"
   ]
  },
  {
   "cell_type": "markdown",
   "metadata": {
    "slideshow": {
     "slide_type": "slide"
    }
   },
   "source": [
    "## Goal 1: Summarize\n",
    "\n",
    "[Netflix has a great article](https://medium.com/netflix-techblog/notebook-innovation-591ee3221233) describing three different data roles at their company, their different needs, and their toolsets.\n",
    "\n",
    "![netflix](../../static/netflix-data-roles.jpeg)\n",
    "\n",
    "Examining that graphic, SQL shows up as one of the tools of the _Data Engineer_ "
   ]
  },
  {
   "cell_type": "markdown",
   "metadata": {
    "slideshow": {
     "slide_type": "slide"
    }
   },
   "source": [
    "Data Engineers provide the essential data architecture services that make data science possible.\n",
    "\n",
    "![hierarchy](../../static/ai-hierachy.png)\n",
    "\n",
    "[Source: Monica Rogati’s fantastic Medium post “The AI Hierarchy of Needs”\n",
    "](https://hackernoon.com/the-ai-hierarchy-of-needs-18f111fcc007)"
   ]
  },
  {
   "cell_type": "markdown",
   "metadata": {
    "slideshow": {
     "slide_type": "slide"
    }
   },
   "source": [
    "### What is a Relational Database? \n",
    "\n",
    "![rdb](../../static/relational-dbms-model.png)\n",
    "[reference for image ](https://www.studytonight.com/dbms/database-model.php)"
   ]
  },
  {
   "cell_type": "markdown",
   "metadata": {
    "slideshow": {
     "slide_type": "slide"
    }
   },
   "source": [
    "### POPULAR RDBMS\n",
    "\n",
    "- SQLite\n",
    "- MySQL\n",
    "- PostgreSql\n",
    "- Oracle DB\n",
    "- SQL Server"
   ]
  },
  {
   "cell_type": "markdown",
   "metadata": {
    "slideshow": {
     "slide_type": "slide"
    }
   },
   "source": [
    "***\n",
    "## Goal 2: Database terminology\n",
    "\n",
    "### Relational Database Schema\n",
    "\n",
    "![schema](../../static/MySQL_Schema_Music_Example.png)\n",
    "\n",
    "[source of image](https://database.guide/what-is-a-database-schema/)\n",
    "\n",
    "This sort of picture is sometimes called an **E**ntity **R**elationship **D**iagram. [Here](https://www.smartdraw.com/entity-relationship-diagram/) is another good resource for explaining typical ERD conventions."
   ]
  },
  {
   "cell_type": "markdown",
   "metadata": {
    "slideshow": {
     "slide_type": "slide"
    }
   },
   "source": [
    "### Table columns view\n",
    "![table example](../../static/columns.png)"
   ]
  },
  {
   "cell_type": "markdown",
   "metadata": {
    "slideshow": {
     "slide_type": "slide"
    }
   },
   "source": [
    "### Terminology\n",
    "\n",
    "- Schema\n",
    "    - [An excellent explainer](https://www.youtube.com/watch?v=3BZz8R7mqu0) on db schemas\n",
    "- Primary Key\n",
    "- Foreign Key\n",
    "- Structured queries\n",
    "- Views"
   ]
  },
  {
   "cell_type": "markdown",
   "metadata": {
    "slideshow": {
     "slide_type": "slide"
    }
   },
   "source": [
    "***\n",
    "### SQLite\n",
    "\n",
    "![sqlite](../../static/SQLite-Python.jpg)\n",
    "\n",
    "\"SQLite is a C library that provides a lightweight disk-based database that doesn’t require a separate server process and allows accessing the database using a nonstandard variant of the SQL query language. Some applications can use SQLite for internal data storage. It’s also possible to prototype an application using SQLite and then port the code to a larger database such as PostgreSQL or Oracle.\" - [sqlite documentation](https://docs.python.org/2/library/sqlite3.html)\n",
    "\n"
   ]
  },
  {
   "cell_type": "markdown",
   "metadata": {
    "slideshow": {
     "slide_type": "slide"
    }
   },
   "source": [
    "## Goal 3: Get going with sqlite!"
   ]
  },
  {
   "cell_type": "code",
   "execution_count": 1,
   "metadata": {
    "ExecuteTime": {
     "end_time": "2020-12-08T21:46:35.801367Z",
     "start_time": "2020-12-08T21:46:35.797929Z"
    }
   },
   "outputs": [],
   "source": [
    "import sqlite3\n",
    "import os\n",
    "cd_dot_dot = os.pardir\n",
    "data_path = os.path.join(cd_dot_dot, cd_dot_dot, 'data')"
   ]
  },
  {
   "cell_type": "markdown",
   "metadata": {
    "slideshow": {
     "slide_type": "slide"
    }
   },
   "source": [
    "#### Load a DB object with `connect` and `cursor`"
   ]
  },
  {
   "cell_type": "code",
   "execution_count": 2,
   "metadata": {
    "ExecuteTime": {
     "end_time": "2020-12-08T21:46:38.067929Z",
     "start_time": "2020-12-08T21:46:37.950363Z"
    }
   },
   "outputs": [
    {
     "name": "stdout",
     "output_type": "stream",
     "text": [
      "curriculum.ipynb lesson.ipynb     solution.ipynb\r\n"
     ]
    }
   ],
   "source": [
    "!ls"
   ]
  },
  {
   "cell_type": "code",
   "execution_count": 3,
   "metadata": {
    "ExecuteTime": {
     "end_time": "2020-12-08T21:46:39.127214Z",
     "start_time": "2020-12-08T21:46:39.123231Z"
    }
   },
   "outputs": [],
   "source": [
    "con = sqlite3.connect(os.path.join(data_path,'flights.db'))\n",
    "cursor = con.cursor()\n",
    "cursor2 = con.cursor()"
   ]
  },
  {
   "cell_type": "markdown",
   "metadata": {
    "slideshow": {
     "slide_type": "slide"
    }
   },
   "source": [
    "#### Use sqlite_master to find all the tables in the schema\n",
    "Get the schema of a database from a db in sqlite"
   ]
  },
  {
   "cell_type": "code",
   "execution_count": 4,
   "metadata": {
    "ExecuteTime": {
     "end_time": "2020-12-08T21:46:43.468752Z",
     "start_time": "2020-12-08T21:46:43.458558Z"
    }
   },
   "outputs": [
    {
     "data": {
      "text/plain": [
       "<sqlite3.Cursor at 0x7fbc9917df10>"
      ]
     },
     "execution_count": 4,
     "metadata": {},
     "output_type": "execute_result"
    }
   ],
   "source": [
    "cursor.execute(\n",
    "\"\"\"\n",
    "SELECT name\n",
    "FROM sqlite_master\n",
    "WHERE type='table';\n",
    "\"\"\"\n",
    ")"
   ]
  },
  {
   "cell_type": "code",
   "execution_count": 5,
   "metadata": {
    "ExecuteTime": {
     "end_time": "2020-12-08T21:46:44.986954Z",
     "start_time": "2020-12-08T21:46:44.984056Z"
    }
   },
   "outputs": [
    {
     "name": "stdout",
     "output_type": "stream",
     "text": [
      "[('airports',), ('airlines',), ('routes',)]\n"
     ]
    }
   ],
   "source": [
    "print(cursor.fetchall())"
   ]
  },
  {
   "cell_type": "markdown",
   "metadata": {},
   "source": [
    "For more on \"sqlite_master\", see [here](https://www.techonthenet.com/sqlite/sys_tables/index.php)."
   ]
  },
  {
   "cell_type": "markdown",
   "metadata": {
    "slideshow": {
     "slide_type": "slide"
    }
   },
   "source": [
    "#### Get information about one table\n",
    "\n",
    "**A note about** `execute`<br>\n",
    "Each time you use it, you reset the value of cursor"
   ]
  },
  {
   "cell_type": "code",
   "execution_count": 6,
   "metadata": {
    "ExecuteTime": {
     "end_time": "2020-12-08T21:46:46.771763Z",
     "start_time": "2020-12-08T21:46:46.767990Z"
    }
   },
   "outputs": [
    {
     "data": {
      "text/plain": [
       "<sqlite3.Cursor at 0x7fbc9917df10>"
      ]
     },
     "execution_count": 6,
     "metadata": {},
     "output_type": "execute_result"
    }
   ],
   "source": [
    "cursor.execute(\n",
    "\"\"\"\n",
    "SELECT *\n",
    "FROM airports\n",
    "\"\"\"\n",
    ")"
   ]
  },
  {
   "cell_type": "markdown",
   "metadata": {
    "slideshow": {
     "slide_type": "slide"
    }
   },
   "source": [
    "#### Use description"
   ]
  },
  {
   "cell_type": "code",
   "execution_count": 7,
   "metadata": {
    "ExecuteTime": {
     "end_time": "2020-12-08T21:46:49.057061Z",
     "start_time": "2020-12-08T21:46:49.052640Z"
    }
   },
   "outputs": [
    {
     "data": {
      "text/plain": [
       "(('index', None, None, None, None, None, None),\n",
       " ('id', None, None, None, None, None, None),\n",
       " ('name', None, None, None, None, None, None),\n",
       " ('city', None, None, None, None, None, None),\n",
       " ('country', None, None, None, None, None, None),\n",
       " ('code', None, None, None, None, None, None),\n",
       " ('icao', None, None, None, None, None, None),\n",
       " ('latitude', None, None, None, None, None, None),\n",
       " ('longitude', None, None, None, None, None, None),\n",
       " ('altitude', None, None, None, None, None, None),\n",
       " ('offset', None, None, None, None, None, None),\n",
       " ('dst', None, None, None, None, None, None),\n",
       " ('timezone', None, None, None, None, None, None))"
      ]
     },
     "execution_count": 7,
     "metadata": {},
     "output_type": "execute_result"
    }
   ],
   "source": [
    "cursor.description"
   ]
  },
  {
   "cell_type": "markdown",
   "metadata": {},
   "source": [
    "The septuple structure has to do with Python API [compatibility issues](https://kite.com/python/docs/sqlite3.Cursor.description)."
   ]
  },
  {
   "cell_type": "markdown",
   "metadata": {
    "slideshow": {
     "slide_type": "slide"
    }
   },
   "source": [
    "#### Making fetch happen\n",
    "\n",
    "`.fetchall()` is how you get the query results out of the object.\n",
    "\n",
    "You can also `.fetchone()` or `.fetchmany()`. The latter takes a number of records to return as a parameter."
   ]
  },
  {
   "cell_type": "code",
   "execution_count": 8,
   "metadata": {
    "ExecuteTime": {
     "end_time": "2020-12-08T21:46:51.324725Z",
     "start_time": "2020-12-08T21:46:51.319144Z"
    }
   },
   "outputs": [
    {
     "data": {
      "text/plain": [
       "[(0,\n",
       "  '1',\n",
       "  'Goroka',\n",
       "  'Goroka',\n",
       "  'Papua New Guinea',\n",
       "  'GKA',\n",
       "  'AYGA',\n",
       "  '-6.081689',\n",
       "  '145.391881',\n",
       "  '5282',\n",
       "  '10',\n",
       "  'U',\n",
       "  'Pacific/Port_Moresby'),\n",
       " (1,\n",
       "  '2',\n",
       "  'Madang',\n",
       "  'Madang',\n",
       "  'Papua New Guinea',\n",
       "  'MAG',\n",
       "  'AYMD',\n",
       "  '-5.207083',\n",
       "  '145.7887',\n",
       "  '20',\n",
       "  '10',\n",
       "  'U',\n",
       "  'Pacific/Port_Moresby'),\n",
       " (2,\n",
       "  '3',\n",
       "  'Mount Hagen',\n",
       "  'Mount Hagen',\n",
       "  'Papua New Guinea',\n",
       "  'HGU',\n",
       "  'AYMH',\n",
       "  '-5.826789',\n",
       "  '144.295861',\n",
       "  '5388',\n",
       "  '10',\n",
       "  'U',\n",
       "  'Pacific/Port_Moresby'),\n",
       " (3,\n",
       "  '4',\n",
       "  'Nadzab',\n",
       "  'Nadzab',\n",
       "  'Papua New Guinea',\n",
       "  'LAE',\n",
       "  'AYNZ',\n",
       "  '-6.569828',\n",
       "  '146.726242',\n",
       "  '239',\n",
       "  '10',\n",
       "  'U',\n",
       "  'Pacific/Port_Moresby'),\n",
       " (4,\n",
       "  '5',\n",
       "  'Port Moresby Jacksons Intl',\n",
       "  'Port Moresby',\n",
       "  'Papua New Guinea',\n",
       "  'POM',\n",
       "  'AYPY',\n",
       "  '-9.443383',\n",
       "  '147.22005',\n",
       "  '146',\n",
       "  '10',\n",
       "  'U',\n",
       "  'Pacific/Port_Moresby'),\n",
       " (5,\n",
       "  '6',\n",
       "  'Wewak Intl',\n",
       "  'Wewak',\n",
       "  'Papua New Guinea',\n",
       "  'WWK',\n",
       "  'AYWK',\n",
       "  '-3.583828',\n",
       "  '143.669186',\n",
       "  '19',\n",
       "  '10',\n",
       "  'U',\n",
       "  'Pacific/Port_Moresby'),\n",
       " (6,\n",
       "  '7',\n",
       "  'Narsarsuaq',\n",
       "  'Narssarssuaq',\n",
       "  'Greenland',\n",
       "  'UAK',\n",
       "  'BGBW',\n",
       "  '61.160517',\n",
       "  '-45.425978',\n",
       "  '112',\n",
       "  '-3',\n",
       "  'E',\n",
       "  'America/Godthab'),\n",
       " (7,\n",
       "  '8',\n",
       "  'Nuuk',\n",
       "  'Godthaab',\n",
       "  'Greenland',\n",
       "  'GOH',\n",
       "  'BGGH',\n",
       "  '64.190922',\n",
       "  '-51.678064',\n",
       "  '283',\n",
       "  '-3',\n",
       "  'E',\n",
       "  'America/Godthab'),\n",
       " (8,\n",
       "  '9',\n",
       "  'Sondre Stromfjord',\n",
       "  'Sondrestrom',\n",
       "  'Greenland',\n",
       "  'SFJ',\n",
       "  'BGSF',\n",
       "  '67.016969',\n",
       "  '-50.689325',\n",
       "  '165',\n",
       "  '-3',\n",
       "  'E',\n",
       "  'America/Godthab'),\n",
       " (9,\n",
       "  '10',\n",
       "  'Thule Air Base',\n",
       "  'Thule',\n",
       "  'Greenland',\n",
       "  'THU',\n",
       "  'BGTL',\n",
       "  '76.531203',\n",
       "  '-68.703161',\n",
       "  '251',\n",
       "  '-4',\n",
       "  'E',\n",
       "  'America/Thule')]"
      ]
     },
     "execution_count": 8,
     "metadata": {},
     "output_type": "execute_result"
    }
   ],
   "source": [
    "cursor.fetchmany(10)"
   ]
  },
  {
   "cell_type": "markdown",
   "metadata": {
    "slideshow": {
     "slide_type": "slide"
    }
   },
   "source": [
    "**Task:** Get the descriptive data for airlines and routes tables"
   ]
  },
  {
   "cell_type": "code",
   "execution_count": 9,
   "metadata": {
    "ExecuteTime": {
     "end_time": "2020-12-08T21:46:59.564772Z",
     "start_time": "2020-12-08T21:46:59.559788Z"
    }
   },
   "outputs": [
    {
     "data": {
      "text/plain": [
       "(('index', None, None, None, None, None, None),\n",
       " ('id', None, None, None, None, None, None),\n",
       " ('name', None, None, None, None, None, None),\n",
       " ('alias', None, None, None, None, None, None),\n",
       " ('iata', None, None, None, None, None, None),\n",
       " ('icao', None, None, None, None, None, None),\n",
       " ('callsign', None, None, None, None, None, None),\n",
       " ('country', None, None, None, None, None, None),\n",
       " ('active', None, None, None, None, None, None))"
      ]
     },
     "execution_count": 9,
     "metadata": {},
     "output_type": "execute_result"
    }
   ],
   "source": [
    "cursor.execute(\n",
    "    \"\"\"\n",
    "    SELECT *\n",
    "    FROM airlines\n",
    "    \"\"\"\n",
    ").description"
   ]
  },
  {
   "cell_type": "code",
   "execution_count": 10,
   "metadata": {
    "ExecuteTime": {
     "end_time": "2020-12-08T21:47:00.897812Z",
     "start_time": "2020-12-08T21:47:00.892674Z"
    }
   },
   "outputs": [
    {
     "data": {
      "text/plain": [
       "(('index', None, None, None, None, None, None),\n",
       " ('airline', None, None, None, None, None, None),\n",
       " ('airline_id', None, None, None, None, None, None),\n",
       " ('source', None, None, None, None, None, None),\n",
       " ('source_id', None, None, None, None, None, None),\n",
       " ('dest', None, None, None, None, None, None),\n",
       " ('dest_id', None, None, None, None, None, None),\n",
       " ('codeshare', None, None, None, None, None, None),\n",
       " ('stops', None, None, None, None, None, None),\n",
       " ('equipment', None, None, None, None, None, None))"
      ]
     },
     "execution_count": 10,
     "metadata": {},
     "output_type": "execute_result"
    }
   ],
   "source": [
    "cursor.execute(\n",
    "    \"\"\"SELECT *\n",
    "    FROM routes\n",
    "    \"\"\"\n",
    ").description"
   ]
  },
  {
   "cell_type": "markdown",
   "metadata": {
    "slideshow": {
     "slide_type": "slide"
    }
   },
   "source": [
    "***\n",
    "## Goal 4: Use basic SQL commands \n",
    "- Construct SQL queries\n",
    "- Use JOIN to merge tables along logical columns\n",
    "- Grouping Data with SQL"
   ]
  },
  {
   "cell_type": "markdown",
   "metadata": {
    "slideshow": {
     "slide_type": "slide"
    }
   },
   "source": [
    "### Construct SQL queries"
   ]
  },
  {
   "cell_type": "markdown",
   "metadata": {
    "slideshow": {
     "slide_type": "fragment"
    }
   },
   "source": [
    "**SELECT**"
   ]
  },
  {
   "cell_type": "markdown",
   "metadata": {
    "slideshow": {
     "slide_type": "fragment"
    }
   },
   "source": [
    "**FROM**"
   ]
  },
  {
   "cell_type": "markdown",
   "metadata": {
    "slideshow": {
     "slide_type": "fragment"
    }
   },
   "source": [
    "**WHERE**"
   ]
  },
  {
   "cell_type": "markdown",
   "metadata": {},
   "source": [
    "**GROUP BY**"
   ]
  },
  {
   "cell_type": "markdown",
   "metadata": {
    "slideshow": {
     "slide_type": "fragment"
    }
   },
   "source": [
    "**ORDER BY**"
   ]
  },
  {
   "cell_type": "markdown",
   "metadata": {
    "slideshow": {
     "slide_type": "fragment"
    }
   },
   "source": [
    "**LIMIT**"
   ]
  },
  {
   "cell_type": "markdown",
   "metadata": {
    "slideshow": {
     "slide_type": "slide"
    }
   },
   "source": [
    "#### Options for each:"
   ]
  },
  {
   "cell_type": "markdown",
   "metadata": {
    "slideshow": {
     "slide_type": "fragment"
    }
   },
   "source": [
    "**Select**:  `DISTINCT`, using `AS` to rename columns, single number aggregates, `COUNT()` to count, `*` for \"all\""
   ]
  },
  {
   "cell_type": "markdown",
   "metadata": {
    "slideshow": {
     "slide_type": "fragment"
    }
   },
   "source": [
    "**From:** also uses aliasing with `AS`"
   ]
  },
  {
   "cell_type": "markdown",
   "metadata": {
    "slideshow": {
     "slide_type": "fragment"
    }
   },
   "source": [
    "**Where**: `=`, `BETWEEN`, `IN`, wildcards with `%`, `AND`, `OR`, `NOT` pattern matching with `LIKE` and `ILIKE`"
   ]
  },
  {
   "cell_type": "markdown",
   "metadata": {
    "slideshow": {
     "slide_type": "fragment"
    }
   },
   "source": [
    "**Order by**: `ASC` and `DESC`"
   ]
  },
  {
   "cell_type": "markdown",
   "metadata": {
    "slideshow": {
     "slide_type": "fragment"
    }
   },
   "source": [
    "**Limit**:  #"
   ]
  },
  {
   "cell_type": "markdown",
   "metadata": {
    "slideshow": {
     "slide_type": "skip"
    }
   },
   "source": [
    "***"
   ]
  },
  {
   "cell_type": "markdown",
   "metadata": {
    "slideshow": {
     "slide_type": "slide"
    }
   },
   "source": [
    "**Exercises**:\n",
    "- Select only active airlines in the United Kingdom from the airlines table <br/>\n",
    "Hint: The values for 'active' are 'Y' and 'N'.\n",
    "- Select the unique list of countries with airports"
   ]
  },
  {
   "cell_type": "code",
   "execution_count": 11,
   "metadata": {
    "ExecuteTime": {
     "end_time": "2020-12-08T21:47:06.227858Z",
     "start_time": "2020-12-08T21:47:06.217359Z"
    }
   },
   "outputs": [
    {
     "data": {
      "text/plain": [
       "[(111,\n",
       "  '112',\n",
       "  'Astraeus',\n",
       "  '\\\\N',\n",
       "  '5W',\n",
       "  'AEU',\n",
       "  'FLYSTAR',\n",
       "  'United Kingdom',\n",
       "  'Y'),\n",
       " (491,\n",
       "  '492',\n",
       "  'Air Southwest',\n",
       "  '\\\\N',\n",
       "  None,\n",
       "  'WOW',\n",
       "  'SWALLOW',\n",
       "  'United Kingdom',\n",
       "  'Y'),\n",
       " (507,\n",
       "  '508',\n",
       "  'Aurigny Air Services',\n",
       "  '\\\\N',\n",
       "  'GR',\n",
       "  'AUR',\n",
       "  'AYLINE',\n",
       "  'United Kingdom',\n",
       "  'Y'),\n",
       " (564,\n",
       "  '565',\n",
       "  'Air Wales',\n",
       "  '\\\\N',\n",
       "  '6G',\n",
       "  'AWW',\n",
       "  'RED DRAGON',\n",
       "  'United Kingdom',\n",
       "  'Y'),\n",
       " (664,\n",
       "  '665',\n",
       "  'AD Aviation',\n",
       "  '\\\\N',\n",
       "  None,\n",
       "  'VUE',\n",
       "  'FLIGHTVUE',\n",
       "  'United Kingdom',\n",
       "  'Y')]"
      ]
     },
     "execution_count": 11,
     "metadata": {},
     "output_type": "execute_result"
    }
   ],
   "source": [
    "cursor.execute(\n",
    "\"\"\"\n",
    "SELECT *\n",
    "FROM airlines\n",
    "WHERE active = 'Y'\n",
    "AND country = 'United Kingdom'\n",
    "\"\"\"\n",
    ").fetchall()[:5]"
   ]
  },
  {
   "cell_type": "code",
   "execution_count": 12,
   "metadata": {
    "ExecuteTime": {
     "end_time": "2020-12-08T21:47:07.276752Z",
     "start_time": "2020-12-08T21:47:07.261726Z"
    }
   },
   "outputs": [
    {
     "data": {
      "text/plain": [
       "[('Papua New Guinea',),\n",
       " ('Greenland',),\n",
       " ('Iceland',),\n",
       " ('Canada',),\n",
       " ('Algeria',)]"
      ]
     },
     "execution_count": 12,
     "metadata": {},
     "output_type": "execute_result"
    }
   ],
   "source": [
    "cursor.execute(\n",
    "\"\"\"\n",
    "SELECT DISTINCT country\n",
    "FROM airports\n",
    "\"\"\"\n",
    ").fetchall()[:5]"
   ]
  },
  {
   "cell_type": "markdown",
   "metadata": {
    "slideshow": {
     "slide_type": "slide"
    }
   },
   "source": [
    "### SQL Joins"
   ]
  },
  {
   "cell_type": "markdown",
   "metadata": {
    "slideshow": {
     "slide_type": "fragment"
    }
   },
   "source": [
    "SQL joins can be used to both **add** data to a table and **remove** data from a table. "
   ]
  },
  {
   "cell_type": "markdown",
   "metadata": {
    "slideshow": {
     "slide_type": "fragment"
    }
   },
   "source": [
    "![venn](../../static/venn.png)"
   ]
  },
  {
   "cell_type": "markdown",
   "metadata": {
    "slideshow": {
     "slide_type": "slide"
    }
   },
   "source": [
    "**Exercise**: Write a query that will join the latitude and longitude data from the airports table to the information on the routes table. <br/>\n",
    "Hint: Which column can serve as the link between the two tables? That is, which column in `airports` can serve as foreign key to `routes`?"
   ]
  },
  {
   "cell_type": "code",
   "execution_count": 1,
   "metadata": {
    "ExecuteTime": {
     "end_time": "2020-12-08T23:47:58.144224Z",
     "start_time": "2020-12-08T23:47:58.038974Z"
    }
   },
   "outputs": [
    {
     "ename": "NameError",
     "evalue": "name 'cursor' is not defined",
     "output_type": "error",
     "traceback": [
      "\u001b[0;31m---------------------------------------------------------------------------\u001b[0m",
      "\u001b[0;31mNameError\u001b[0m                                 Traceback (most recent call last)",
      "\u001b[0;32m<ipython-input-1-80e043f4792e>\u001b[0m in \u001b[0;36m<module>\u001b[0;34m\u001b[0m\n\u001b[0;32m----> 1\u001b[0;31m cursor.execute(\n\u001b[0m\u001b[1;32m      2\u001b[0m     \"\"\"\n\u001b[1;32m      3\u001b[0m     \u001b[0mSELECT\u001b[0m \u001b[0;34m*\u001b[0m\u001b[0;34m\u001b[0m\u001b[0;34m\u001b[0m\u001b[0m\n\u001b[1;32m      4\u001b[0m     \u001b[0mfroom\u001b[0m \u001b[0mairports\u001b[0m\u001b[0;34m\u001b[0m\u001b[0;34m\u001b[0m\u001b[0m\n\u001b[1;32m      5\u001b[0m     \"\"\"\n",
      "\u001b[0;31mNameError\u001b[0m: name 'cursor' is not defined"
     ]
    }
   ],
   "source": [
    "cursor.execute(\n",
    "    \"\"\"\n",
    "    SELECT *\n",
    "    froom airports\n",
    "    \"\"\"\n",
    ").description"
   ]
  },
  {
   "cell_type": "code",
   "execution_count": 14,
   "metadata": {
    "ExecuteTime": {
     "end_time": "2020-12-08T21:47:15.591339Z",
     "start_time": "2020-12-08T21:47:15.138803Z"
    }
   },
   "outputs": [
    {
     "data": {
      "text/plain": [
       "[(0,\n",
       "  '2B',\n",
       "  '410',\n",
       "  'AER',\n",
       "  '2965',\n",
       "  'KZN',\n",
       "  '2990',\n",
       "  None,\n",
       "  '0',\n",
       "  'CR2',\n",
       "  2910,\n",
       "  '2990',\n",
       "  'Kazan',\n",
       "  'Kazan',\n",
       "  'Russia',\n",
       "  'KZN',\n",
       "  'UWKD',\n",
       "  '55.606186',\n",
       "  '49.278728',\n",
       "  '411',\n",
       "  '4',\n",
       "  'N',\n",
       "  'Europe/Moscow'),\n",
       " (1,\n",
       "  '2B',\n",
       "  '410',\n",
       "  'ASF',\n",
       "  '2966',\n",
       "  'KZN',\n",
       "  '2990',\n",
       "  None,\n",
       "  '0',\n",
       "  'CR2',\n",
       "  2910,\n",
       "  '2990',\n",
       "  'Kazan',\n",
       "  'Kazan',\n",
       "  'Russia',\n",
       "  'KZN',\n",
       "  'UWKD',\n",
       "  '55.606186',\n",
       "  '49.278728',\n",
       "  '411',\n",
       "  '4',\n",
       "  'N',\n",
       "  'Europe/Moscow'),\n",
       " (2,\n",
       "  '2B',\n",
       "  '410',\n",
       "  'ASF',\n",
       "  '2966',\n",
       "  'MRV',\n",
       "  '2962',\n",
       "  None,\n",
       "  '0',\n",
       "  'CR2',\n",
       "  2883,\n",
       "  '2962',\n",
       "  'Mineralnyye Vody',\n",
       "  'Mineralnye Vody',\n",
       "  'Russia',\n",
       "  'MRV',\n",
       "  'URMM',\n",
       "  '44.225072',\n",
       "  '43.081889',\n",
       "  '1054',\n",
       "  '4',\n",
       "  'N',\n",
       "  'Europe/Moscow'),\n",
       " (3,\n",
       "  '2B',\n",
       "  '410',\n",
       "  'CEK',\n",
       "  '2968',\n",
       "  'KZN',\n",
       "  '2990',\n",
       "  None,\n",
       "  '0',\n",
       "  'CR2',\n",
       "  2910,\n",
       "  '2990',\n",
       "  'Kazan',\n",
       "  'Kazan',\n",
       "  'Russia',\n",
       "  'KZN',\n",
       "  'UWKD',\n",
       "  '55.606186',\n",
       "  '49.278728',\n",
       "  '411',\n",
       "  '4',\n",
       "  'N',\n",
       "  'Europe/Moscow'),\n",
       " (4,\n",
       "  '2B',\n",
       "  '410',\n",
       "  'CEK',\n",
       "  '2968',\n",
       "  'OVB',\n",
       "  '4078',\n",
       "  None,\n",
       "  '0',\n",
       "  'CR2',\n",
       "  3969,\n",
       "  '4078',\n",
       "  'Tolmachevo',\n",
       "  'Novosibirsk',\n",
       "  'Russia',\n",
       "  'OVB',\n",
       "  'UNNT',\n",
       "  '55.012622',\n",
       "  '82.650656',\n",
       "  '365',\n",
       "  '7',\n",
       "  'N',\n",
       "  'Asia/Omsk')]"
      ]
     },
     "execution_count": 14,
     "metadata": {},
     "output_type": "execute_result"
    }
   ],
   "source": [
    "cursor.execute(\n",
    "    \"\"\"\n",
    "    SELECT *\n",
    "    FROM routes r\n",
    "    JOIN airports a\n",
    "    ON a.code = r.dest\n",
    "    \"\"\"\n",
    ").fetchall()[:5]"
   ]
  },
  {
   "cell_type": "markdown",
   "metadata": {
    "slideshow": {
     "slide_type": "slide"
    }
   },
   "source": [
    "### Grouping statements\n",
    "\n",
    "Combines `select` and `group by` when you want aggregates by values"
   ]
  },
  {
   "cell_type": "markdown",
   "metadata": {
    "slideshow": {
     "slide_type": "fragment"
    }
   },
   "source": [
    "`select` `min(x)` ... `max()`, `sum()`, etc"
   ]
  },
  {
   "cell_type": "markdown",
   "metadata": {
    "slideshow": {
     "slide_type": "fragment"
    }
   },
   "source": [
    "`group by x`"
   ]
  },
  {
   "cell_type": "markdown",
   "metadata": {
    "slideshow": {
     "slide_type": "slide"
    }
   },
   "source": [
    "**Task**<br>\n",
    "- Which countries have the highest numbers of active airlines?\n",
    "- Which countries have the highest numbers of inactive airlines?"
   ]
  },
  {
   "cell_type": "code",
   "execution_count": 15,
   "metadata": {
    "ExecuteTime": {
     "end_time": "2020-12-08T21:47:23.875963Z",
     "start_time": "2020-12-08T21:47:23.865451Z"
    }
   },
   "outputs": [
    {
     "data": {
      "text/plain": [
       "[(141, 'United States'), (72, 'Russia'), (40, 'United Kingdom')]"
      ]
     },
     "execution_count": 15,
     "metadata": {},
     "output_type": "execute_result"
    }
   ],
   "source": [
    "cursor.execute(\n",
    "\"\"\"\n",
    "SELECT COUNT() num, country\n",
    "FROM airlines\n",
    "WHERE active='Y'\n",
    "GROUP BY country\n",
    "HAVING num > 10\n",
    "ORDER BY num DESC\n",
    "LIMIT 30\n",
    "\"\"\"\n",
    ").fetchall()[:3]"
   ]
  },
  {
   "cell_type": "code",
   "execution_count": 16,
   "metadata": {
    "ExecuteTime": {
     "end_time": "2020-12-08T21:47:33.724718Z",
     "start_time": "2020-12-08T21:47:33.716598Z"
    }
   },
   "outputs": [
    {
     "data": {
      "text/plain": [
       "[(939, 'United States'), (427, 'Mexico'), (367, 'United Kingdom')]"
      ]
     },
     "execution_count": 16,
     "metadata": {},
     "output_type": "execute_result"
    }
   ],
   "source": [
    "cursor.execute(\n",
    "\"\"\"\n",
    "SELECT COUNT() num, country\n",
    "FROM airlines\n",
    "WHERE active='N'\n",
    "GROUP BY country\n",
    "HAVING num > 10\n",
    "ORDER BY num DESC\n",
    "LIMIT 30\n",
    "\"\"\"\n",
    ").fetchall()[:3]"
   ]
  },
  {
   "cell_type": "markdown",
   "metadata": {},
   "source": [
    "**Exercise**: Run a query that will return the number of airports by time zone. Each row should have a number of airports and a time zone."
   ]
  },
  {
   "cell_type": "code",
   "execution_count": 17,
   "metadata": {
    "ExecuteTime": {
     "end_time": "2020-12-08T21:47:43.224508Z",
     "start_time": "2020-12-08T21:47:43.211565Z"
    }
   },
   "outputs": [
    {
     "data": {
      "text/plain": [
       "[(628, 'America/New_York'), (373, 'America/Chicago'), (319, 'Europe/Berlin')]"
      ]
     },
     "execution_count": 17,
     "metadata": {},
     "output_type": "execute_result"
    }
   ],
   "source": [
    "cursor.execute(\n",
    "    \"\"\"\n",
    "    SELECT COUNT() num, timezone\n",
    "    FROM airports\n",
    "    GROUP BY timezone\n",
    "    ORDER BY num DESC\n",
    "    \"\"\"\n",
    ").fetchall()[:3]"
   ]
  },
  {
   "cell_type": "markdown",
   "metadata": {},
   "source": [
    "### `CASE WHEN`\n",
    "\n",
    "`CASE WHEN` is SQL's version of `if ... then ... else`. It must *always* be closed with an `END`."
   ]
  },
  {
   "cell_type": "code",
   "execution_count": 18,
   "metadata": {
    "ExecuteTime": {
     "end_time": "2020-12-08T21:47:46.988056Z",
     "start_time": "2020-12-08T21:47:46.971547Z"
    }
   },
   "outputs": [
    {
     "data": {
      "text/plain": [
       "[('Goroka', 'Goroka', 'southern hemisphere'),\n",
       " ('Madang', 'Madang', 'southern hemisphere'),\n",
       " ('Mount Hagen', 'Mount Hagen', 'southern hemisphere')]"
      ]
     },
     "execution_count": 18,
     "metadata": {},
     "output_type": "execute_result"
    }
   ],
   "source": [
    "cursor.execute(\n",
    "\"\"\"\n",
    "SELECT name, city,\n",
    "CASE WHEN latitude > 0 THEN 'northern hemisphere'\n",
    "ELSE 'southern hemisphere'\n",
    "END AS hemisphere\n",
    "FROM airports\n",
    "\"\"\"\n",
    ").fetchall()[:3]"
   ]
  },
  {
   "cell_type": "markdown",
   "metadata": {},
   "source": [
    "### Subqueries\n",
    "\n",
    "For more complex queries it can be helpful to break them down into multiple parts. Subqueries are a natural way to do this.\n",
    "\n",
    "Suppose I wanted to know, after collecting together the highest airport in each country, which one's name comes alphabetically first.\n",
    "\n",
    "I might break this down by first collecting the highest airports and then _wrapping_ that query in a higher query that selects the name and country I want _from_ the result of that first query:"
   ]
  },
  {
   "cell_type": "code",
   "execution_count": 19,
   "metadata": {
    "ExecuteTime": {
     "end_time": "2020-12-08T21:47:52.194816Z",
     "start_time": "2020-12-08T21:47:52.185229Z"
    }
   },
   "outputs": [
    {
     "data": {
      "text/plain": [
       "[('Abha', 'Saudi Arabia')]"
      ]
     },
     "execution_count": 19,
     "metadata": {},
     "output_type": "execute_result"
    }
   ],
   "source": [
    "cursor.execute(\n",
    "\"\"\"\n",
    "SELECT MIN(name), country FROM\n",
    "(SELECT name, code, country, MAX(CAST(altitude AS INT))\n",
    "FROM airports\n",
    "GROUP BY country)\n",
    "\"\"\"\n",
    ").fetchall()[:3]"
   ]
  },
  {
   "cell_type": "markdown",
   "metadata": {
    "slideshow": {
     "slide_type": "slide"
    }
   },
   "source": [
    "## Goal 5: Using sql within pandas to filter\n",
    "\n",
    "`.query()`\n",
    "\n",
    "[query documentation](https://pandas.pydata.org/pandas-docs/stable/reference/api/pandas.DataFrame.query.html)"
   ]
  },
  {
   "cell_type": "code",
   "execution_count": 20,
   "metadata": {
    "ExecuteTime": {
     "end_time": "2020-12-08T21:48:08.011751Z",
     "start_time": "2020-12-08T21:48:02.572383Z"
    }
   },
   "outputs": [
    {
     "data": {
      "text/plain": [
       "Animal ID           object\n",
       "Name                object\n",
       "DateTime            object\n",
       "MonthYear           object\n",
       "Date of Birth       object\n",
       "Outcome Type        object\n",
       "Outcome Subtype     object\n",
       "Animal Type         object\n",
       "Sex upon Outcome    object\n",
       "Age upon Outcome    object\n",
       "Breed               object\n",
       "Color               object\n",
       "dtype: object"
      ]
     },
     "execution_count": 20,
     "metadata": {},
     "output_type": "execute_result"
    }
   ],
   "source": [
    "# Get data for an example\n",
    "import pandas as pd\n",
    "shelter_data=pd.read_csv('https://data.austintexas.gov/api/\\\n",
    "views/9t4d-g238/rows.csv?accessType=DOWNLOAD')\n",
    "shelter_data.dtypes"
   ]
  },
  {
   "cell_type": "code",
   "execution_count": 21,
   "metadata": {
    "ExecuteTime": {
     "end_time": "2020-12-08T21:48:13.323501Z",
     "start_time": "2020-12-08T21:48:13.299250Z"
    }
   },
   "outputs": [
    {
     "data": {
      "text/html": [
       "<div>\n",
       "<style scoped>\n",
       "    .dataframe tbody tr th:only-of-type {\n",
       "        vertical-align: middle;\n",
       "    }\n",
       "\n",
       "    .dataframe tbody tr th {\n",
       "        vertical-align: top;\n",
       "    }\n",
       "\n",
       "    .dataframe thead th {\n",
       "        text-align: right;\n",
       "    }\n",
       "</style>\n",
       "<table border=\"1\" class=\"dataframe\">\n",
       "  <thead>\n",
       "    <tr style=\"text-align: right;\">\n",
       "      <th></th>\n",
       "      <th>Animal ID</th>\n",
       "      <th>Name</th>\n",
       "      <th>DateTime</th>\n",
       "      <th>MonthYear</th>\n",
       "      <th>Date of Birth</th>\n",
       "      <th>Outcome Type</th>\n",
       "      <th>Outcome Subtype</th>\n",
       "      <th>Animal Type</th>\n",
       "      <th>Sex upon Outcome</th>\n",
       "      <th>Age upon Outcome</th>\n",
       "      <th>Breed</th>\n",
       "      <th>Color</th>\n",
       "    </tr>\n",
       "  </thead>\n",
       "  <tbody>\n",
       "    <tr>\n",
       "      <th>55</th>\n",
       "      <td>A736717</td>\n",
       "      <td>Max</td>\n",
       "      <td>10/21/2016 02:45:00 PM</td>\n",
       "      <td>10/21/2016 02:45:00 PM</td>\n",
       "      <td>10/16/2013</td>\n",
       "      <td>Return to Owner</td>\n",
       "      <td>NaN</td>\n",
       "      <td>Dog</td>\n",
       "      <td>Neutered Male</td>\n",
       "      <td>3 years</td>\n",
       "      <td>Pug Mix</td>\n",
       "      <td>Brown Brindle</td>\n",
       "    </tr>\n",
       "    <tr>\n",
       "      <th>172</th>\n",
       "      <td>A766116</td>\n",
       "      <td>Max</td>\n",
       "      <td>02/13/2018 11:14:00 AM</td>\n",
       "      <td>02/13/2018 11:14:00 AM</td>\n",
       "      <td>02/02/2015</td>\n",
       "      <td>Return to Owner</td>\n",
       "      <td>NaN</td>\n",
       "      <td>Dog</td>\n",
       "      <td>Neutered Male</td>\n",
       "      <td>3 years</td>\n",
       "      <td>Rottweiler/Staffordshire</td>\n",
       "      <td>Blue/Tan</td>\n",
       "    </tr>\n",
       "    <tr>\n",
       "      <th>410</th>\n",
       "      <td>A688196</td>\n",
       "      <td>Max</td>\n",
       "      <td>09/16/2014 12:20:00 PM</td>\n",
       "      <td>09/16/2014 12:20:00 PM</td>\n",
       "      <td>09/16/2005</td>\n",
       "      <td>Euthanasia</td>\n",
       "      <td>Suffering</td>\n",
       "      <td>Dog</td>\n",
       "      <td>Neutered Male</td>\n",
       "      <td>9 years</td>\n",
       "      <td>Jack Russell Terrier Mix</td>\n",
       "      <td>Chocolate/White</td>\n",
       "    </tr>\n",
       "    <tr>\n",
       "      <th>540</th>\n",
       "      <td>A579608</td>\n",
       "      <td>Max</td>\n",
       "      <td>07/21/2014 12:43:00 PM</td>\n",
       "      <td>07/21/2014 12:43:00 PM</td>\n",
       "      <td>06/09/2010</td>\n",
       "      <td>Return to Owner</td>\n",
       "      <td>NaN</td>\n",
       "      <td>Dog</td>\n",
       "      <td>Neutered Male</td>\n",
       "      <td>4 years</td>\n",
       "      <td>Labrador Retriever Mix</td>\n",
       "      <td>Black/White</td>\n",
       "    </tr>\n",
       "    <tr>\n",
       "      <th>873</th>\n",
       "      <td>A745151</td>\n",
       "      <td>Max</td>\n",
       "      <td>03/13/2017 07:12:00 PM</td>\n",
       "      <td>03/13/2017 07:12:00 PM</td>\n",
       "      <td>11/13/2016</td>\n",
       "      <td>Return to Owner</td>\n",
       "      <td>NaN</td>\n",
       "      <td>Dog</td>\n",
       "      <td>Neutered Male</td>\n",
       "      <td>3 months</td>\n",
       "      <td>German Shepherd Mix</td>\n",
       "      <td>White</td>\n",
       "    </tr>\n",
       "  </tbody>\n",
       "</table>\n",
       "</div>"
      ],
      "text/plain": [
       "    Animal ID Name                DateTime               MonthYear  \\\n",
       "55    A736717  Max  10/21/2016 02:45:00 PM  10/21/2016 02:45:00 PM   \n",
       "172   A766116  Max  02/13/2018 11:14:00 AM  02/13/2018 11:14:00 AM   \n",
       "410   A688196  Max  09/16/2014 12:20:00 PM  09/16/2014 12:20:00 PM   \n",
       "540   A579608  Max  07/21/2014 12:43:00 PM  07/21/2014 12:43:00 PM   \n",
       "873   A745151  Max  03/13/2017 07:12:00 PM  03/13/2017 07:12:00 PM   \n",
       "\n",
       "    Date of Birth     Outcome Type Outcome Subtype Animal Type  \\\n",
       "55     10/16/2013  Return to Owner             NaN         Dog   \n",
       "172    02/02/2015  Return to Owner             NaN         Dog   \n",
       "410    09/16/2005       Euthanasia       Suffering         Dog   \n",
       "540    06/09/2010  Return to Owner             NaN         Dog   \n",
       "873    11/13/2016  Return to Owner             NaN         Dog   \n",
       "\n",
       "    Sex upon Outcome Age upon Outcome                     Breed  \\\n",
       "55     Neutered Male          3 years                   Pug Mix   \n",
       "172    Neutered Male          3 years  Rottweiler/Staffordshire   \n",
       "410    Neutered Male          9 years  Jack Russell Terrier Mix   \n",
       "540    Neutered Male          4 years    Labrador Retriever Mix   \n",
       "873    Neutered Male         3 months       German Shepherd Mix   \n",
       "\n",
       "               Color  \n",
       "55     Brown Brindle  \n",
       "172         Blue/Tan  \n",
       "410  Chocolate/White  \n",
       "540      Black/White  \n",
       "873            White  "
      ]
     },
     "execution_count": 21,
     "metadata": {},
     "output_type": "execute_result"
    }
   ],
   "source": [
    "shelter_data[shelter_data['Name'] == \"Max\"].head()"
   ]
  },
  {
   "cell_type": "code",
   "execution_count": 22,
   "metadata": {
    "ExecuteTime": {
     "end_time": "2020-12-08T21:48:14.927759Z",
     "start_time": "2020-12-08T21:48:14.883466Z"
    }
   },
   "outputs": [
    {
     "data": {
      "text/html": [
       "<div>\n",
       "<style scoped>\n",
       "    .dataframe tbody tr th:only-of-type {\n",
       "        vertical-align: middle;\n",
       "    }\n",
       "\n",
       "    .dataframe tbody tr th {\n",
       "        vertical-align: top;\n",
       "    }\n",
       "\n",
       "    .dataframe thead th {\n",
       "        text-align: right;\n",
       "    }\n",
       "</style>\n",
       "<table border=\"1\" class=\"dataframe\">\n",
       "  <thead>\n",
       "    <tr style=\"text-align: right;\">\n",
       "      <th></th>\n",
       "      <th>Animal ID</th>\n",
       "      <th>Name</th>\n",
       "      <th>DateTime</th>\n",
       "      <th>MonthYear</th>\n",
       "      <th>Date of Birth</th>\n",
       "      <th>Outcome Type</th>\n",
       "      <th>Outcome Subtype</th>\n",
       "      <th>Animal Type</th>\n",
       "      <th>Sex upon Outcome</th>\n",
       "      <th>Age upon Outcome</th>\n",
       "      <th>Breed</th>\n",
       "      <th>Color</th>\n",
       "    </tr>\n",
       "  </thead>\n",
       "  <tbody>\n",
       "    <tr>\n",
       "      <th>55</th>\n",
       "      <td>A736717</td>\n",
       "      <td>Max</td>\n",
       "      <td>10/21/2016 02:45:00 PM</td>\n",
       "      <td>10/21/2016 02:45:00 PM</td>\n",
       "      <td>10/16/2013</td>\n",
       "      <td>Return to Owner</td>\n",
       "      <td>NaN</td>\n",
       "      <td>Dog</td>\n",
       "      <td>Neutered Male</td>\n",
       "      <td>3 years</td>\n",
       "      <td>Pug Mix</td>\n",
       "      <td>Brown Brindle</td>\n",
       "    </tr>\n",
       "    <tr>\n",
       "      <th>172</th>\n",
       "      <td>A766116</td>\n",
       "      <td>Max</td>\n",
       "      <td>02/13/2018 11:14:00 AM</td>\n",
       "      <td>02/13/2018 11:14:00 AM</td>\n",
       "      <td>02/02/2015</td>\n",
       "      <td>Return to Owner</td>\n",
       "      <td>NaN</td>\n",
       "      <td>Dog</td>\n",
       "      <td>Neutered Male</td>\n",
       "      <td>3 years</td>\n",
       "      <td>Rottweiler/Staffordshire</td>\n",
       "      <td>Blue/Tan</td>\n",
       "    </tr>\n",
       "    <tr>\n",
       "      <th>410</th>\n",
       "      <td>A688196</td>\n",
       "      <td>Max</td>\n",
       "      <td>09/16/2014 12:20:00 PM</td>\n",
       "      <td>09/16/2014 12:20:00 PM</td>\n",
       "      <td>09/16/2005</td>\n",
       "      <td>Euthanasia</td>\n",
       "      <td>Suffering</td>\n",
       "      <td>Dog</td>\n",
       "      <td>Neutered Male</td>\n",
       "      <td>9 years</td>\n",
       "      <td>Jack Russell Terrier Mix</td>\n",
       "      <td>Chocolate/White</td>\n",
       "    </tr>\n",
       "    <tr>\n",
       "      <th>540</th>\n",
       "      <td>A579608</td>\n",
       "      <td>Max</td>\n",
       "      <td>07/21/2014 12:43:00 PM</td>\n",
       "      <td>07/21/2014 12:43:00 PM</td>\n",
       "      <td>06/09/2010</td>\n",
       "      <td>Return to Owner</td>\n",
       "      <td>NaN</td>\n",
       "      <td>Dog</td>\n",
       "      <td>Neutered Male</td>\n",
       "      <td>4 years</td>\n",
       "      <td>Labrador Retriever Mix</td>\n",
       "      <td>Black/White</td>\n",
       "    </tr>\n",
       "    <tr>\n",
       "      <th>873</th>\n",
       "      <td>A745151</td>\n",
       "      <td>Max</td>\n",
       "      <td>03/13/2017 07:12:00 PM</td>\n",
       "      <td>03/13/2017 07:12:00 PM</td>\n",
       "      <td>11/13/2016</td>\n",
       "      <td>Return to Owner</td>\n",
       "      <td>NaN</td>\n",
       "      <td>Dog</td>\n",
       "      <td>Neutered Male</td>\n",
       "      <td>3 months</td>\n",
       "      <td>German Shepherd Mix</td>\n",
       "      <td>White</td>\n",
       "    </tr>\n",
       "  </tbody>\n",
       "</table>\n",
       "</div>"
      ],
      "text/plain": [
       "    Animal ID Name                DateTime               MonthYear  \\\n",
       "55    A736717  Max  10/21/2016 02:45:00 PM  10/21/2016 02:45:00 PM   \n",
       "172   A766116  Max  02/13/2018 11:14:00 AM  02/13/2018 11:14:00 AM   \n",
       "410   A688196  Max  09/16/2014 12:20:00 PM  09/16/2014 12:20:00 PM   \n",
       "540   A579608  Max  07/21/2014 12:43:00 PM  07/21/2014 12:43:00 PM   \n",
       "873   A745151  Max  03/13/2017 07:12:00 PM  03/13/2017 07:12:00 PM   \n",
       "\n",
       "    Date of Birth     Outcome Type Outcome Subtype Animal Type  \\\n",
       "55     10/16/2013  Return to Owner             NaN         Dog   \n",
       "172    02/02/2015  Return to Owner             NaN         Dog   \n",
       "410    09/16/2005       Euthanasia       Suffering         Dog   \n",
       "540    06/09/2010  Return to Owner             NaN         Dog   \n",
       "873    11/13/2016  Return to Owner             NaN         Dog   \n",
       "\n",
       "    Sex upon Outcome Age upon Outcome                     Breed  \\\n",
       "55     Neutered Male          3 years                   Pug Mix   \n",
       "172    Neutered Male          3 years  Rottweiler/Staffordshire   \n",
       "410    Neutered Male          9 years  Jack Russell Terrier Mix   \n",
       "540    Neutered Male          4 years    Labrador Retriever Mix   \n",
       "873    Neutered Male         3 months       German Shepherd Mix   \n",
       "\n",
       "               Color  \n",
       "55     Brown Brindle  \n",
       "172         Blue/Tan  \n",
       "410  Chocolate/White  \n",
       "540      Black/White  \n",
       "873            White  "
      ]
     },
     "execution_count": 22,
     "metadata": {},
     "output_type": "execute_result"
    }
   ],
   "source": [
    "# With .query()\n",
    "\n",
    "max_data = shelter_data.query('Name == \"Max\"')\n",
    "max_data.head()"
   ]
  },
  {
   "cell_type": "markdown",
   "metadata": {
    "slideshow": {
     "slide_type": "slide"
    }
   },
   "source": [
    "## Goal 6: Transfering from sqlite to pandas"
   ]
  },
  {
   "cell_type": "markdown",
   "metadata": {},
   "source": [
    "`.read_sql()`"
   ]
  },
  {
   "cell_type": "code",
   "execution_count": 23,
   "metadata": {
    "ExecuteTime": {
     "end_time": "2020-12-08T21:48:24.870358Z",
     "start_time": "2020-12-08T21:48:24.755547Z"
    }
   },
   "outputs": [
    {
     "data": {
      "text/html": [
       "<div>\n",
       "<style scoped>\n",
       "    .dataframe tbody tr th:only-of-type {\n",
       "        vertical-align: middle;\n",
       "    }\n",
       "\n",
       "    .dataframe tbody tr th {\n",
       "        vertical-align: top;\n",
       "    }\n",
       "\n",
       "    .dataframe thead th {\n",
       "        text-align: right;\n",
       "    }\n",
       "</style>\n",
       "<table border=\"1\" class=\"dataframe\">\n",
       "  <thead>\n",
       "    <tr style=\"text-align: right;\">\n",
       "      <th></th>\n",
       "      <th>index</th>\n",
       "      <th>id</th>\n",
       "      <th>name</th>\n",
       "      <th>city</th>\n",
       "      <th>country</th>\n",
       "      <th>code</th>\n",
       "      <th>icao</th>\n",
       "      <th>latitude</th>\n",
       "      <th>longitude</th>\n",
       "      <th>altitude</th>\n",
       "      <th>offset</th>\n",
       "      <th>dst</th>\n",
       "      <th>timezone</th>\n",
       "    </tr>\n",
       "  </thead>\n",
       "  <tbody>\n",
       "    <tr>\n",
       "      <th>0</th>\n",
       "      <td>0</td>\n",
       "      <td>1</td>\n",
       "      <td>Goroka</td>\n",
       "      <td>Goroka</td>\n",
       "      <td>Papua New Guinea</td>\n",
       "      <td>GKA</td>\n",
       "      <td>AYGA</td>\n",
       "      <td>-6.081689</td>\n",
       "      <td>145.391881</td>\n",
       "      <td>5282</td>\n",
       "      <td>10</td>\n",
       "      <td>U</td>\n",
       "      <td>Pacific/Port_Moresby</td>\n",
       "    </tr>\n",
       "    <tr>\n",
       "      <th>1</th>\n",
       "      <td>1</td>\n",
       "      <td>2</td>\n",
       "      <td>Madang</td>\n",
       "      <td>Madang</td>\n",
       "      <td>Papua New Guinea</td>\n",
       "      <td>MAG</td>\n",
       "      <td>AYMD</td>\n",
       "      <td>-5.207083</td>\n",
       "      <td>145.7887</td>\n",
       "      <td>20</td>\n",
       "      <td>10</td>\n",
       "      <td>U</td>\n",
       "      <td>Pacific/Port_Moresby</td>\n",
       "    </tr>\n",
       "    <tr>\n",
       "      <th>2</th>\n",
       "      <td>2</td>\n",
       "      <td>3</td>\n",
       "      <td>Mount Hagen</td>\n",
       "      <td>Mount Hagen</td>\n",
       "      <td>Papua New Guinea</td>\n",
       "      <td>HGU</td>\n",
       "      <td>AYMH</td>\n",
       "      <td>-5.826789</td>\n",
       "      <td>144.295861</td>\n",
       "      <td>5388</td>\n",
       "      <td>10</td>\n",
       "      <td>U</td>\n",
       "      <td>Pacific/Port_Moresby</td>\n",
       "    </tr>\n",
       "    <tr>\n",
       "      <th>3</th>\n",
       "      <td>3</td>\n",
       "      <td>4</td>\n",
       "      <td>Nadzab</td>\n",
       "      <td>Nadzab</td>\n",
       "      <td>Papua New Guinea</td>\n",
       "      <td>LAE</td>\n",
       "      <td>AYNZ</td>\n",
       "      <td>-6.569828</td>\n",
       "      <td>146.726242</td>\n",
       "      <td>239</td>\n",
       "      <td>10</td>\n",
       "      <td>U</td>\n",
       "      <td>Pacific/Port_Moresby</td>\n",
       "    </tr>\n",
       "    <tr>\n",
       "      <th>4</th>\n",
       "      <td>4</td>\n",
       "      <td>5</td>\n",
       "      <td>Port Moresby Jacksons Intl</td>\n",
       "      <td>Port Moresby</td>\n",
       "      <td>Papua New Guinea</td>\n",
       "      <td>POM</td>\n",
       "      <td>AYPY</td>\n",
       "      <td>-9.443383</td>\n",
       "      <td>147.22005</td>\n",
       "      <td>146</td>\n",
       "      <td>10</td>\n",
       "      <td>U</td>\n",
       "      <td>Pacific/Port_Moresby</td>\n",
       "    </tr>\n",
       "  </tbody>\n",
       "</table>\n",
       "</div>"
      ],
      "text/plain": [
       "   index id                        name          city           country code  \\\n",
       "0      0  1                      Goroka        Goroka  Papua New Guinea  GKA   \n",
       "1      1  2                      Madang        Madang  Papua New Guinea  MAG   \n",
       "2      2  3                 Mount Hagen   Mount Hagen  Papua New Guinea  HGU   \n",
       "3      3  4                      Nadzab        Nadzab  Papua New Guinea  LAE   \n",
       "4      4  5  Port Moresby Jacksons Intl  Port Moresby  Papua New Guinea  POM   \n",
       "\n",
       "   icao   latitude   longitude altitude offset dst              timezone  \n",
       "0  AYGA  -6.081689  145.391881     5282     10   U  Pacific/Port_Moresby  \n",
       "1  AYMD  -5.207083    145.7887       20     10   U  Pacific/Port_Moresby  \n",
       "2  AYMH  -5.826789  144.295861     5388     10   U  Pacific/Port_Moresby  \n",
       "3  AYNZ  -6.569828  146.726242      239     10   U  Pacific/Port_Moresby  \n",
       "4  AYPY  -9.443383   147.22005      146     10   U  Pacific/Port_Moresby  "
      ]
     },
     "execution_count": 23,
     "metadata": {},
     "output_type": "execute_result"
    }
   ],
   "source": [
    "import pandas as pd\n",
    "db_path = os.path.join(data_path,'flights.db')\n",
    "conn = sqlite3.connect(db_path)\n",
    "df = pd.read_sql(\"SELECT * FROM airports LIMIT 50\", conn)\n",
    "df.head()"
   ]
  },
  {
   "cell_type": "markdown",
   "metadata": {
    "slideshow": {
     "slide_type": "slide"
    }
   },
   "source": [
    "**Exercise for later**: \n",
    "Convert one of the earlier queries in the lesson to a pandas data frame"
   ]
  },
  {
   "cell_type": "code",
   "execution_count": 24,
   "metadata": {
    "ExecuteTime": {
     "end_time": "2020-12-08T21:48:30.724837Z",
     "start_time": "2020-12-08T21:48:28.399603Z"
    }
   },
   "outputs": [
    {
     "name": "stdout",
     "output_type": "stream",
     "text": [
      "Requirement already satisfied: pandasql in /opt/anaconda3/lib/python3.7/site-packages (0.7.3)\n",
      "Requirement already satisfied: sqlalchemy in /opt/anaconda3/lib/python3.7/site-packages (from pandasql) (1.3.9)\n",
      "Requirement already satisfied: numpy in /opt/anaconda3/lib/python3.7/site-packages (from pandasql) (1.17.2)\n",
      "Requirement already satisfied: pandas in /opt/anaconda3/lib/python3.7/site-packages (from pandasql) (1.0.3)\n",
      "Requirement already satisfied: pytz>=2017.2 in /opt/anaconda3/lib/python3.7/site-packages (from pandas->pandasql) (2019.3)\n",
      "Requirement already satisfied: python-dateutil>=2.6.1 in /opt/anaconda3/lib/python3.7/site-packages (from pandas->pandasql) (2.8.0)\n",
      "Requirement already satisfied: six>=1.5 in /opt/anaconda3/lib/python3.7/site-packages (from python-dateutil>=2.6.1->pandas->pandasql) (1.12.0)\n"
     ]
    }
   ],
   "source": [
    "!pip install pandasql"
   ]
  },
  {
   "cell_type": "markdown",
   "metadata": {},
   "source": [
    "`pandasql` is a library that allows SQL-style querying of `pandas` DataFrames."
   ]
  },
  {
   "cell_type": "code",
   "execution_count": 25,
   "metadata": {
    "ExecuteTime": {
     "end_time": "2020-12-08T21:48:33.014898Z",
     "start_time": "2020-12-08T21:48:33.009402Z"
    }
   },
   "outputs": [],
   "source": [
    "import pandasql"
   ]
  },
  {
   "cell_type": "code",
   "execution_count": 26,
   "metadata": {
    "ExecuteTime": {
     "end_time": "2020-12-08T21:48:34.513945Z",
     "start_time": "2020-12-08T21:48:34.485633Z"
    }
   },
   "outputs": [
    {
     "data": {
      "text/html": [
       "<div>\n",
       "<style scoped>\n",
       "    .dataframe tbody tr th:only-of-type {\n",
       "        vertical-align: middle;\n",
       "    }\n",
       "\n",
       "    .dataframe tbody tr th {\n",
       "        vertical-align: top;\n",
       "    }\n",
       "\n",
       "    .dataframe thead th {\n",
       "        text-align: right;\n",
       "    }\n",
       "</style>\n",
       "<table border=\"1\" class=\"dataframe\">\n",
       "  <thead>\n",
       "    <tr style=\"text-align: right;\">\n",
       "      <th></th>\n",
       "      <th>name</th>\n",
       "      <th>code</th>\n",
       "    </tr>\n",
       "  </thead>\n",
       "  <tbody>\n",
       "    <tr>\n",
       "      <th>0</th>\n",
       "      <td>Goroka</td>\n",
       "      <td>GKA</td>\n",
       "    </tr>\n",
       "    <tr>\n",
       "      <th>1</th>\n",
       "      <td>Madang</td>\n",
       "      <td>MAG</td>\n",
       "    </tr>\n",
       "    <tr>\n",
       "      <th>2</th>\n",
       "      <td>Mount Hagen</td>\n",
       "      <td>HGU</td>\n",
       "    </tr>\n",
       "    <tr>\n",
       "      <th>3</th>\n",
       "      <td>Nadzab</td>\n",
       "      <td>LAE</td>\n",
       "    </tr>\n",
       "    <tr>\n",
       "      <th>4</th>\n",
       "      <td>Port Moresby Jacksons Intl</td>\n",
       "      <td>POM</td>\n",
       "    </tr>\n",
       "    <tr>\n",
       "      <th>5</th>\n",
       "      <td>Wewak Intl</td>\n",
       "      <td>WWK</td>\n",
       "    </tr>\n",
       "    <tr>\n",
       "      <th>6</th>\n",
       "      <td>Narsarsuaq</td>\n",
       "      <td>UAK</td>\n",
       "    </tr>\n",
       "    <tr>\n",
       "      <th>7</th>\n",
       "      <td>Nuuk</td>\n",
       "      <td>GOH</td>\n",
       "    </tr>\n",
       "    <tr>\n",
       "      <th>8</th>\n",
       "      <td>Sondre Stromfjord</td>\n",
       "      <td>SFJ</td>\n",
       "    </tr>\n",
       "    <tr>\n",
       "      <th>9</th>\n",
       "      <td>Thule Air Base</td>\n",
       "      <td>THU</td>\n",
       "    </tr>\n",
       "  </tbody>\n",
       "</table>\n",
       "</div>"
      ],
      "text/plain": [
       "                         name code\n",
       "0                      Goroka  GKA\n",
       "1                      Madang  MAG\n",
       "2                 Mount Hagen  HGU\n",
       "3                      Nadzab  LAE\n",
       "4  Port Moresby Jacksons Intl  POM\n",
       "5                  Wewak Intl  WWK\n",
       "6                  Narsarsuaq  UAK\n",
       "7                        Nuuk  GOH\n",
       "8           Sondre Stromfjord  SFJ\n",
       "9              Thule Air Base  THU"
      ]
     },
     "execution_count": 26,
     "metadata": {},
     "output_type": "execute_result"
    }
   ],
   "source": [
    "pandasql.sqldf(\"SELECT name, code FROM df LIMIT 10\", globals())"
   ]
  },
  {
   "cell_type": "markdown",
   "metadata": {
    "slideshow": {
     "slide_type": "slide"
    }
   },
   "source": [
    "## On Your Own\n",
    "\n",
    "The [Chinook database](https://github.com/lerocha/chinook-database) is a sample database, representing a digital media store.\n",
    "\n",
    "You need to create a query that can rank tracks in term of popularity.\n",
    "\n",
    "The name of the database is `Chinook_Sqlite.sqlite`\n",
    "\n",
    "Database information:<br>\n",
    "- How many tables are in the database?\n",
    "- What's the primary key of each table?\n",
    "- What foreign keys join the tables together?\n",
    "- If you had to draw a schema of how the tables are connected, what would it look like?\n",
    "\n",
    "To answer the question:<br>\n",
    "- What are the max and min dates in the Invoice table?\n",
    "- What tables would you need to answer \"what is your most popular track?\"\n",
    "- What values from each table?"
   ]
  }
 ],
 "metadata": {
  "kernelspec": {
   "display_name": "Python 3",
   "language": "python",
   "name": "python3"
  },
  "language_info": {
   "codemirror_mode": {
    "name": "ipython",
    "version": 3
   },
   "file_extension": ".py",
   "mimetype": "text/x-python",
   "name": "python",
   "nbconvert_exporter": "python",
   "pygments_lexer": "ipython3",
   "version": "3.7.4"
  },
  "toc": {
   "base_numbering": 1,
   "nav_menu": {},
   "number_sections": true,
   "sideBar": true,
   "skip_h1_title": false,
   "title_cell": "Table of Contents",
   "title_sidebar": "Contents",
   "toc_cell": false,
   "toc_position": {},
   "toc_section_display": true,
   "toc_window_display": false
  }
 },
 "nbformat": 4,
 "nbformat_minor": 2
}
