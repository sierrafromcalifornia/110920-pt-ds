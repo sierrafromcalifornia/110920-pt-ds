{
 "cells": [
  {
   "cell_type": "code",
   "execution_count": 1,
   "metadata": {
    "ExecuteTime": {
     "end_time": "2020-12-15T22:47:08.059933Z",
     "start_time": "2020-12-15T22:47:08.056657Z"
    }
   },
   "outputs": [],
   "source": [
    "# Setting grandparent directory\n",
    "# as an import path.\n",
    "import os\n",
    "import sys\n",
    "grandparent_directory = os.path.join(os.pardir, os.pardir)\n",
    "sys.path.append(grandparent_directory)"
   ]
  },
  {
   "cell_type": "markdown",
   "metadata": {},
   "source": [
    "# Application Programming Interface (API)"
   ]
  },
  {
   "cell_type": "markdown",
   "metadata": {},
   "source": [
    "APIs are used to transport data across the internet. In the world of web development, APIs are commonly used as a backend for websites, returning data to a javascript program which then renders the data with html.\n",
    "\n",
    "In the world of public data and analytics, APIs serve as a powerful tool for data collection and data transparency. \n",
    "\n",
    "[Goverment agencies](https://github.com/public-apis/public-apis#government) commonly have APIs that provide open access to their mountains of public data.\n",
    "\n",
    "Social Media companies like [Twitter](https://developer.twitter.com/en/docs) and [Reddit](https://www.reddit.com/dev/api/) provide APIs that are frequently used by researchers and marketing firms who are studying public internet behavior.\n",
    "\n",
    "[Google Maps](https://developers.google.com/maps/documentation/?_ga=2.115432070.1817774719.1607955846-1869916520.1607955812&_gac=1.158970888.1607956052.COHo1IfXze0CFdmUxQIdVrAPYQ) provides an api for creating interactive maps and manipulating geodata. \n",
    "\n",
    "[NBA Stats](https://any-api.com/nba_com/nba_com/docs/_playercareerstats) provides open access to league, player, and team data.\n",
    "\n",
    "The list goes on and on. There is a world of data that is ripe for exploring, and I highly recommend that you search for APIs with data that may pique your interest. You can use website like [Any-API.com](https://any-api.com/) or [public-apis.io](https://public-apis.io/) which host a running list of public APIs. \n",
    ">**Tip:** Keep an eye out for \"Data\" links when navigating websites. Some companies have open APIs but do not promote them. Those links are now apart of your work as data scientists. Paying attention to what data can be sourced and from where is a quick way to dramatically increase the power of your analytics. "
   ]
  },
  {
   "cell_type": "markdown",
   "metadata": {},
   "source": [
    "### How do we use APIs?\n",
    "APIs use https requests. We use these all the time! We oftentimes refer to them as URLs.\n",
    "\n",
    "**Let's look at an example:**\n",
    "\n",
    "If we follow the url [https://www.date.nager.at](https://date.nager.at)\n",
    "\n",
    "We are taken to the homepage for a worldwide holidays website. Normally if we wanted to use this product, we would input information to the webpage manually and sift through the results. But what if we need to run thousands of searches?\n",
    "\n",
    "Below we import 5 years of S&P Stock Data."
   ]
  },
  {
   "cell_type": "code",
   "execution_count": 2,
   "metadata": {
    "ExecuteTime": {
     "end_time": "2020-12-15T22:47:10.036692Z",
     "start_time": "2020-12-15T22:47:09.138857Z"
    }
   },
   "outputs": [
    {
     "name": "stdout",
     "output_type": "stream",
     "text": [
      "The dataframe has 619040 observations\n"
     ]
    }
   ],
   "source": [
    "import pandas as pd\n",
    "data_path = os.path.join(os.pardir, os.pardir, 'data')\n",
    "datafile_path = os.path.join(data_path, 'all_stocks_5yr.csv')\n",
    "df = pd.read_csv(datafile_path)\n",
    "print(f'The dataframe has {df.shape[0]} observations')"
   ]
  },
  {
   "cell_type": "markdown",
   "metadata": {},
   "source": [
    "This dataset contains the date, name of company, volume, open, high, low, and closing prices for S&P 500 stocks from 2013-2018."
   ]
  },
  {
   "cell_type": "code",
   "execution_count": 3,
   "metadata": {
    "ExecuteTime": {
     "end_time": "2020-12-15T22:47:10.052874Z",
     "start_time": "2020-12-15T22:47:10.038104Z"
    }
   },
   "outputs": [
    {
     "data": {
      "text/html": [
       "<div>\n",
       "<style scoped>\n",
       "    .dataframe tbody tr th:only-of-type {\n",
       "        vertical-align: middle;\n",
       "    }\n",
       "\n",
       "    .dataframe tbody tr th {\n",
       "        vertical-align: top;\n",
       "    }\n",
       "\n",
       "    .dataframe thead th {\n",
       "        text-align: right;\n",
       "    }\n",
       "</style>\n",
       "<table border=\"1\" class=\"dataframe\">\n",
       "  <thead>\n",
       "    <tr style=\"text-align: right;\">\n",
       "      <th></th>\n",
       "      <th>date</th>\n",
       "      <th>open</th>\n",
       "      <th>high</th>\n",
       "      <th>low</th>\n",
       "      <th>close</th>\n",
       "      <th>volume</th>\n",
       "      <th>Name</th>\n",
       "    </tr>\n",
       "  </thead>\n",
       "  <tbody>\n",
       "    <tr>\n",
       "      <th>0</th>\n",
       "      <td>2013-02-08</td>\n",
       "      <td>15.07</td>\n",
       "      <td>15.12</td>\n",
       "      <td>14.63</td>\n",
       "      <td>14.75</td>\n",
       "      <td>8407500</td>\n",
       "      <td>AAL</td>\n",
       "    </tr>\n",
       "    <tr>\n",
       "      <th>1</th>\n",
       "      <td>2013-02-11</td>\n",
       "      <td>14.89</td>\n",
       "      <td>15.01</td>\n",
       "      <td>14.26</td>\n",
       "      <td>14.46</td>\n",
       "      <td>8882000</td>\n",
       "      <td>AAL</td>\n",
       "    </tr>\n",
       "    <tr>\n",
       "      <th>2</th>\n",
       "      <td>2013-02-12</td>\n",
       "      <td>14.45</td>\n",
       "      <td>14.51</td>\n",
       "      <td>14.10</td>\n",
       "      <td>14.27</td>\n",
       "      <td>8126000</td>\n",
       "      <td>AAL</td>\n",
       "    </tr>\n",
       "  </tbody>\n",
       "</table>\n",
       "</div>"
      ],
      "text/plain": [
       "         date   open   high    low  close   volume Name\n",
       "0  2013-02-08  15.07  15.12  14.63  14.75  8407500  AAL\n",
       "1  2013-02-11  14.89  15.01  14.26  14.46  8882000  AAL\n",
       "2  2013-02-12  14.45  14.51  14.10  14.27  8126000  AAL"
      ]
     },
     "execution_count": 3,
     "metadata": {},
     "output_type": "execute_result"
    }
   ],
   "source": [
    "df.head(3)"
   ]
  },
  {
   "cell_type": "markdown",
   "metadata": {},
   "source": [
    "What if we wanted to create a column called `is_holiday` that marks a 1 if the day is a public holiday and a 0 if the date is not a public holiday?\n",
    "\n",
    "We would have to do ***a lot*** of clicking. \n",
    "![](https://media.giphy.com/media/3ohjVa8iomT5u3NMU8/giphy.gif)\n"
   ]
  },
  {
   "cell_type": "markdown",
   "metadata": {},
   "source": [
    "## Fortunately, there is a way that we can automate this process."
   ]
  },
  {
   "cell_type": "markdown",
   "metadata": {},
   "source": [
    "### New Packages\n",
    "\n",
    "For this lesson we will be using two new libraries. \n",
    "\n",
    "1. [requests](https://requests.readthedocs.io/en/master/)\n",
    "2. [json](https://docs.python.org/3/library/json.html)"
   ]
  },
  {
   "cell_type": "code",
   "execution_count": 4,
   "metadata": {
    "ExecuteTime": {
     "end_time": "2020-12-15T22:47:11.377347Z",
     "start_time": "2020-12-15T22:47:11.183408Z"
    }
   },
   "outputs": [],
   "source": [
    "# Lesson packages\n",
    "from requests import get\n",
    "import json"
   ]
  },
  {
   "cell_type": "markdown",
   "metadata": {},
   "source": [
    "Below is an example of an API request!"
   ]
  },
  {
   "cell_type": "code",
   "execution_count": 5,
   "metadata": {
    "ExecuteTime": {
     "end_time": "2020-12-15T22:47:12.604978Z",
     "start_time": "2020-12-15T22:47:11.756975Z"
    }
   },
   "outputs": [
    {
     "data": {
      "text/plain": [
       "<Response [200]>"
      ]
     },
     "execution_count": 5,
     "metadata": {},
     "output_type": "execute_result"
    }
   ],
   "source": [
    "url = 'https://date.nager.at/Api/v2/PublicHolidays/2013/us'\n",
    "get(url)"
   ]
  },
  {
   "cell_type": "markdown",
   "metadata": {},
   "source": [
    "✅ A Response 200 means our request was sucessful! ✅\n",
    "\n",
    "❌ Let's take a quick look at an unsuccessful response.❌"
   ]
  },
  {
   "cell_type": "code",
   "execution_count": 6,
   "metadata": {
    "ExecuteTime": {
     "end_time": "2020-12-15T22:47:13.211175Z",
     "start_time": "2020-12-15T22:47:12.606636Z"
    }
   },
   "outputs": [
    {
     "data": {
      "text/plain": [
       "<Response [404]>"
      ]
     },
     "execution_count": 6,
     "metadata": {},
     "output_type": "execute_result"
    }
   ],
   "source": [
    "url = 'https://date.nager.at/Api/v2/PublicHolidays/2013/fake-country'\n",
    "get(url)"
   ]
  },
  {
   "cell_type": "markdown",
   "metadata": {},
   "source": [
    "**A Response 404 means that the url you are using in your request is not valid.**\n",
    "![](../../static/404-error.gif)"
   ]
  },
  {
   "cell_type": "markdown",
   "metadata": {},
   "source": [
    "**How do we access the data from a successful request?**\n",
    "\n",
    "When working with APIs, the standard object that is sent back is `json` which stands for <u>Javascript Object Notation</u>. Json is a lightweight data structure and is used frequently on the backend of websites. It is also a common filetype when saving complex data to disk. \n",
    "\n",
    "To access the json data from an API response, we can call the `.json()` method. "
   ]
  },
  {
   "cell_type": "code",
   "execution_count": 7,
   "metadata": {
    "ExecuteTime": {
     "end_time": "2020-12-15T22:51:31.807787Z",
     "start_time": "2020-12-15T22:51:31.254873Z"
    }
   },
   "outputs": [
    {
     "data": {
      "text/plain": [
       "[{'date': '2013-01-01',\n",
       "  'localName': \"New Year's Day\",\n",
       "  'name': \"New Year's Day\",\n",
       "  'countryCode': 'US',\n",
       "  'fixed': False,\n",
       "  'global': True,\n",
       "  'counties': None,\n",
       "  'launchYear': None,\n",
       "  'type': 'Public'},\n",
       " {'date': '2013-01-20',\n",
       "  'localName': 'Inauguration Day',\n",
       "  'name': 'Inauguration Day',\n",
       "  'countryCode': 'US',\n",
       "  'fixed': True,\n",
       "  'global': False,\n",
       "  'counties': ['US-DC', 'US-LA', 'US-MD', 'US-VA'],\n",
       "  'launchYear': None,\n",
       "  'type': 'Public'}]"
      ]
     },
     "execution_count": 7,
     "metadata": {},
     "output_type": "execute_result"
    }
   ],
   "source": [
    "url = 'https://date.nager.at/Api/v2/PublicHolidays/2013/us'\n",
    "get(url).json()[:2]"
   ]
  },
  {
   "cell_type": "markdown",
   "metadata": {},
   "source": [
    "**How would we describe the structure of this data?**"
   ]
  },
  {
   "cell_type": "markdown",
   "metadata": {},
   "source": [
    "> **Sierra's Addition:** a list of dictionaries."
   ]
  },
  {
   "cell_type": "markdown",
   "metadata": {},
   "source": [
    "### Let's break down the https request\n",
    "\n",
    "![annotated request](../../static/request_1.png)"
   ]
  },
  {
   "cell_type": "markdown",
   "metadata": {},
   "source": [
    "**An important note.**\n",
    "\n",
    "It is very common with APIs that we need to pass in some sort of unique `ID` or variable name. We usually will not know what this variable name is ahead of time, and we will first have to do some preliminary meta API querying to determine the ID so we can use the ID in our final API query. \n",
    "\n",
    "In the above example, the \"us\" portion of the request url can be considered a unique id. For this API, the unique ids are just the two letter abbreviations countries. But let's pretend for a moment that we do not know this. Let's pretend that we just discovered this API on the internet and would like to use it. \n",
    "\n",
    "We can see in the documentation an example request:\n",
    "\n",
    "![](../../static/request_2.png)\n",
    "\n",
    "When we see something like \"countrycode\" as part of the request, the next question we should ask is \"what is a country code\".\n",
    "\n",
    "Usually, APIs will provide an endpoint for investigating this sort of meta-data. For this API, they provide an endpoint for checking the available countries:\n",
    "\n",
    "![](../../static/request_3.png)"
   ]
  },
  {
   "cell_type": "code",
   "execution_count": 8,
   "metadata": {
    "ExecuteTime": {
     "end_time": "2020-12-15T22:47:15.224849Z",
     "start_time": "2020-12-15T22:47:14.623144Z"
    }
   },
   "outputs": [
    {
     "data": {
      "text/plain": [
       "[{'key': 'AD', 'value': 'Andorra'},\n",
       " {'key': 'AL', 'value': 'Albania'},\n",
       " {'key': 'AR', 'value': 'Argentina'},\n",
       " {'key': 'AT', 'value': 'Austria'},\n",
       " {'key': 'AU', 'value': 'Australia'},\n",
       " {'key': 'AX', 'value': 'Åland Islands'},\n",
       " {'key': 'BB', 'value': 'Barbados'},\n",
       " {'key': 'BE', 'value': 'Belgium'},\n",
       " {'key': 'BG', 'value': 'Bulgaria'},\n",
       " {'key': 'BJ', 'value': 'Benin'},\n",
       " {'key': 'BO', 'value': 'Bolivia'},\n",
       " {'key': 'BR', 'value': 'Brazil'},\n",
       " {'key': 'BS', 'value': 'Bahamas'},\n",
       " {'key': 'BW', 'value': 'Botswana'},\n",
       " {'key': 'BY', 'value': 'Belarus'}]"
      ]
     },
     "execution_count": 8,
     "metadata": {},
     "output_type": "execute_result"
    }
   ],
   "source": [
    "url = 'https://date.nager.at/Api/v2/AvailableCountries'\n",
    "get(url).json()[:15]"
   ]
  },
  {
   "cell_type": "markdown",
   "metadata": {},
   "source": [
    "When figuring out how to use an API, sometimes there needs to be a little bit of logic puzzle solving. In this case, the result of the `Available Countries` endpoint was a list of dictionaries. Each dictionary contains 'key' and 'value' keys. It would probably be more clear if 'key' was changed to 'countrycode' to make clear that the data saved to this key is the countrycode, but whoever built this API decided that it was intuitive. \n",
    "\n",
    "Ultimately, we could pass in 'AD' as the country code, and receive all the public holidays for Andorra!"
   ]
  },
  {
   "cell_type": "code",
   "execution_count": 10,
   "metadata": {
    "ExecuteTime": {
     "end_time": "2020-12-15T22:47:15.796434Z",
     "start_time": "2020-12-15T22:47:15.248271Z"
    }
   },
   "outputs": [
    {
     "data": {
      "text/plain": [
       "[{'date': '2013-01-01',\n",
       "  'localName': 'Any nou',\n",
       "  'name': \"New Year's Day\",\n",
       "  'countryCode': 'AD',\n",
       "  'fixed': True,\n",
       "  'global': True,\n",
       "  'counties': None,\n",
       "  'launchYear': None,\n",
       "  'type': 'Public'},\n",
       " {'date': '2013-03-14',\n",
       "  'localName': 'Dia de la Constitució',\n",
       "  'name': 'Constitution Day',\n",
       "  'countryCode': 'AD',\n",
       "  'fixed': True,\n",
       "  'global': True,\n",
       "  'counties': None,\n",
       "  'launchYear': None,\n",
       "  'type': 'Public'}]"
      ]
     },
     "execution_count": 10,
     "metadata": {},
     "output_type": "execute_result"
    }
   ],
   "source": [
    "url = 'https://date.nager.at/Api/v2/PublicHolidays/2013/ad'\n",
    "get(url).json()[:2]"
   ]
  },
  {
   "cell_type": "markdown",
   "metadata": {},
   "source": [
    "### Quick dog photos intermission using the [dog.ceo api](https://dog.ceo/dog-api/)"
   ]
  },
  {
   "cell_type": "code",
   "execution_count": 11,
   "metadata": {
    "ExecuteTime": {
     "end_time": "2020-12-15T22:52:00.127496Z",
     "start_time": "2020-12-15T22:52:00.124854Z"
    }
   },
   "outputs": [],
   "source": [
    "from src.apis import random_dog"
   ]
  },
  {
   "cell_type": "code",
   "execution_count": 16,
   "metadata": {
    "ExecuteTime": {
     "end_time": "2020-12-15T22:53:36.452317Z",
     "start_time": "2020-12-15T22:53:36.035292Z"
    }
   },
   "outputs": [
    {
     "data": {
      "text/html": [
       "\n",
       "    <center><h1> A Random Dog</h1></center><br><center><img src=https://images.dog.ceo/breeds/vizsla/n02100583_12308.jpg style=\"width:300px;\"></center>"
      ],
      "text/plain": [
       "<IPython.core.display.HTML object>"
      ]
     },
     "metadata": {},
     "output_type": "display_data"
    }
   ],
   "source": [
    "random_dog()"
   ]
  },
  {
   "cell_type": "markdown",
   "metadata": {},
   "source": [
    "### End of intermission and into breakout rooms.\n",
    "\n",
    "**Let's return to our problem of determining if a day in our dataset is a public holiday.**\n",
    "\n",
    "For this problem, we will only focus on public holidays in the United States.\n",
    "\n",
    "To collect public holiday data from the API, we need the year and countrycode. \n",
    "\n",
    "In the cell below, \n",
    "- Define a function called `get_year` that returns the year for each observation in the `date` column. "
   ]
  },
  {
   "cell_type": "code",
   "execution_count": 21,
   "metadata": {},
   "outputs": [
    {
     "data": {
      "text/plain": [
       "'2013'"
      ]
     },
     "execution_count": 21,
     "metadata": {},
     "output_type": "execute_result"
    }
   ],
   "source": [
    "df.date[0][:4]"
   ]
  },
  {
   "cell_type": "code",
   "execution_count": 22,
   "metadata": {
    "ExecuteTime": {
     "end_time": "2020-12-15T22:47:17.271991Z",
     "start_time": "2020-12-15T22:47:17.269900Z"
    }
   },
   "outputs": [
    {
     "data": {
      "text/plain": [
       "'2017'"
      ]
     },
     "execution_count": 22,
     "metadata": {},
     "output_type": "execute_result"
    }
   ],
   "source": [
    "# Your code here\n",
    "\n",
    "def get_year(date):\n",
    "    return date[:4]\n",
    "\n",
    "get_year(df.date[2394]) #test function"
   ]
  },
  {
   "cell_type": "markdown",
   "metadata": {},
   "source": [
    "**Cool**\n",
    "\n",
    "In the cell below\n",
    "- Define a function called `get_public_holidays` that receives a year and returns the public holidays for that year.\n",
    "- We are only interested in public holidays for the United States"
   ]
  },
  {
   "cell_type": "code",
   "execution_count": 23,
   "metadata": {
    "ExecuteTime": {
     "end_time": "2020-12-15T22:47:18.256968Z",
     "start_time": "2020-12-15T22:47:18.254618Z"
    }
   },
   "outputs": [
    {
     "data": {
      "text/plain": [
       "[{'date': '2018-01-01',\n",
       "  'localName': \"New Year's Day\",\n",
       "  'name': \"New Year's Day\",\n",
       "  'countryCode': 'US',\n",
       "  'fixed': False,\n",
       "  'global': True,\n",
       "  'counties': None,\n",
       "  'launchYear': None,\n",
       "  'type': 'Public'},\n",
       " {'date': '2018-01-15',\n",
       "  'localName': 'Martin Luther King, Jr. Day',\n",
       "  'name': 'Martin Luther King, Jr. Day',\n",
       "  'countryCode': 'US',\n",
       "  'fixed': False,\n",
       "  'global': True,\n",
       "  'counties': None,\n",
       "  'launchYear': None,\n",
       "  'type': 'Public'},\n",
       " {'date': '2018-02-19',\n",
       "  'localName': 'Presidents Day',\n",
       "  'name': \"Washington's Birthday\",\n",
       "  'countryCode': 'US',\n",
       "  'fixed': False,\n",
       "  'global': True,\n",
       "  'counties': None,\n",
       "  'launchYear': None,\n",
       "  'type': 'Public'},\n",
       " {'date': '2018-05-28',\n",
       "  'localName': 'Memorial Day',\n",
       "  'name': 'Memorial Day',\n",
       "  'countryCode': 'US',\n",
       "  'fixed': False,\n",
       "  'global': True,\n",
       "  'counties': None,\n",
       "  'launchYear': None,\n",
       "  'type': 'Public'},\n",
       " {'date': '2018-07-04',\n",
       "  'localName': 'Independence Day',\n",
       "  'name': 'Independence Day',\n",
       "  'countryCode': 'US',\n",
       "  'fixed': False,\n",
       "  'global': True,\n",
       "  'counties': None,\n",
       "  'launchYear': None,\n",
       "  'type': 'Public'},\n",
       " {'date': '2018-09-03',\n",
       "  'localName': 'Labor Day',\n",
       "  'name': 'Labour Day',\n",
       "  'countryCode': 'US',\n",
       "  'fixed': False,\n",
       "  'global': True,\n",
       "  'counties': None,\n",
       "  'launchYear': None,\n",
       "  'type': 'Public'},\n",
       " {'date': '2018-10-08',\n",
       "  'localName': 'Columbus Day',\n",
       "  'name': 'Columbus Day',\n",
       "  'countryCode': 'US',\n",
       "  'fixed': False,\n",
       "  'global': False,\n",
       "  'counties': ['US-AL',\n",
       "   'US-AZ',\n",
       "   'US-CO',\n",
       "   'US-CT',\n",
       "   'US-DC',\n",
       "   'US-GA',\n",
       "   'US-ID',\n",
       "   'US-IL',\n",
       "   'US-IN',\n",
       "   'US-IA',\n",
       "   'US-KS',\n",
       "   'US-KY',\n",
       "   'US-LA',\n",
       "   'US-ME',\n",
       "   'US-MD',\n",
       "   'US-MA',\n",
       "   'US-MS',\n",
       "   'US-MO',\n",
       "   'US-MT',\n",
       "   'US-NE',\n",
       "   'US-NH',\n",
       "   'US-NJ',\n",
       "   'US-NM',\n",
       "   'US-NY',\n",
       "   'US-NC',\n",
       "   'US-OH',\n",
       "   'US-OK',\n",
       "   'US-PA',\n",
       "   'US-RI',\n",
       "   'US-SC',\n",
       "   'US-TN',\n",
       "   'US-UT',\n",
       "   'US-VA',\n",
       "   'US-WV'],\n",
       "  'launchYear': None,\n",
       "  'type': 'Public'},\n",
       " {'date': '2018-11-12',\n",
       "  'localName': 'Veterans Day',\n",
       "  'name': 'Veterans Day',\n",
       "  'countryCode': 'US',\n",
       "  'fixed': False,\n",
       "  'global': True,\n",
       "  'counties': None,\n",
       "  'launchYear': None,\n",
       "  'type': 'Public'},\n",
       " {'date': '2018-11-22',\n",
       "  'localName': 'Thanksgiving Day',\n",
       "  'name': 'Thanksgiving Day',\n",
       "  'countryCode': 'US',\n",
       "  'fixed': False,\n",
       "  'global': True,\n",
       "  'counties': None,\n",
       "  'launchYear': 1863,\n",
       "  'type': 'Public'},\n",
       " {'date': '2018-12-25',\n",
       "  'localName': 'Christmas Day',\n",
       "  'name': 'Christmas Day',\n",
       "  'countryCode': 'US',\n",
       "  'fixed': False,\n",
       "  'global': True,\n",
       "  'counties': None,\n",
       "  'launchYear': None,\n",
       "  'type': 'Public'}]"
      ]
     },
     "execution_count": 23,
     "metadata": {},
     "output_type": "execute_result"
    }
   ],
   "source": [
    "# Your code here\n",
    "\n",
    "def get_public_holidays(year):\n",
    "    url = f'https://date.nager.at/Api/v2/PublicHolidays/{year}/us'\n",
    "    return get(url).json()\n",
    "\n",
    "get_public_holidays(2018)"
   ]
  },
  {
   "cell_type": "markdown",
   "metadata": {
    "ExecuteTime": {
     "end_time": "2020-12-15T20:56:01.054346Z",
     "start_time": "2020-12-15T20:55:59.601517Z"
    }
   },
   "source": [
    "## A quick aside\n",
    "\n",
    "Let's talk about rate limits. For this API, no rate limit is mentioned, but it is common for APIs to limit the number of requests you can make in a given amount of time. \n",
    "\n",
    "Let's say for example that we are limited to 3 queries per second. We would want to make sure we include in our code some logic to make sure that we never surpass that limit. Otherwise we risk having our IP address blocked by the API!"
   ]
  },
  {
   "cell_type": "code",
   "execution_count": 24,
   "metadata": {
    "ExecuteTime": {
     "end_time": "2020-12-15T22:47:24.352259Z",
     "start_time": "2020-12-15T22:47:19.588533Z"
    }
   },
   "outputs": [
    {
     "name": "stdout",
     "output_type": "stream",
     "text": [
      "Starting timer...\n",
      "Making Request...\n",
      "Rate limit reached.\n",
      "Pausing for 1 second...\n",
      "Resuming...\n",
      "Starting timer...\n",
      "Making Request...\n",
      "Starting timer...\n",
      "Making Request...\n",
      "Starting timer...\n",
      "Making Request...\n",
      "Starting timer...\n",
      "Making Request...\n"
     ]
    }
   ],
   "source": [
    "from time import sleep\n",
    "from datetime import datetime\n",
    "\n",
    "data = []\n",
    "count = 0\n",
    "begin = datetime.now()\n",
    "for year in range(2013, 2018):\n",
    "    print('Starting timer...')\n",
    "    print('Making Request...')\n",
    "    response = get_public_holidays(year)\n",
    "    count += 1\n",
    "    end = datetime.now()\n",
    "    if (end-begin).seconds <=1:\n",
    "        if count >=1:\n",
    "            print('Rate limit reached.')\n",
    "            print('Pausing for 1 second...')\n",
    "            sleep(1)\n",
    "            print('Resuming...')\n",
    "            count = 0\n",
    "            begin = datetime.now()\n",
    "            \n",
    "    data.append(response)"
   ]
  },
  {
   "cell_type": "markdown",
   "metadata": {
    "ExecuteTime": {
     "end_time": "2020-12-15T21:03:35.278725Z",
     "start_time": "2020-12-15T21:03:35.265645Z"
    }
   },
   "source": [
    "For this api, it probably makes more sense to collect all of the relevant public holiday data once and then use Python to check if each row in the data is a public holiday by referencing the json data. \n",
    "\n",
    "In the cell below\n",
    "- collect the public holiday data for all years in our dataset. "
   ]
  },
  {
   "cell_type": "code",
   "execution_count": 26,
   "metadata": {
    "ExecuteTime": {
     "end_time": "2020-12-15T22:47:24.356788Z",
     "start_time": "2020-12-15T22:47:24.354222Z"
    }
   },
   "outputs": [],
   "source": [
    "# Your code here\n",
    "\n",
    "years = df.date.apply(get_year).unique()\n",
    "data = []\n",
    "for year in years:\n",
    "    data += get_public_holidays(year)"
   ]
  },
  {
   "cell_type": "code",
   "execution_count": 27,
   "metadata": {},
   "outputs": [
    {
     "data": {
      "text/plain": [
       "[{'date': '2013-01-01',\n",
       "  'localName': \"New Year's Day\",\n",
       "  'name': \"New Year's Day\",\n",
       "  'countryCode': 'US',\n",
       "  'fixed': False,\n",
       "  'global': True,\n",
       "  'counties': None,\n",
       "  'launchYear': None,\n",
       "  'type': 'Public'},\n",
       " {'date': '2013-01-20',\n",
       "  'localName': 'Inauguration Day',\n",
       "  'name': 'Inauguration Day',\n",
       "  'countryCode': 'US',\n",
       "  'fixed': True,\n",
       "  'global': False,\n",
       "  'counties': ['US-DC', 'US-LA', 'US-MD', 'US-VA'],\n",
       "  'launchYear': None,\n",
       "  'type': 'Public'},\n",
       " {'date': '2013-01-21',\n",
       "  'localName': 'Martin Luther King, Jr. Day',\n",
       "  'name': 'Martin Luther King, Jr. Day',\n",
       "  'countryCode': 'US',\n",
       "  'fixed': False,\n",
       "  'global': True,\n",
       "  'counties': None,\n",
       "  'launchYear': None,\n",
       "  'type': 'Public'},\n",
       " {'date': '2013-02-18',\n",
       "  'localName': 'Presidents Day',\n",
       "  'name': \"Washington's Birthday\",\n",
       "  'countryCode': 'US',\n",
       "  'fixed': False,\n",
       "  'global': True,\n",
       "  'counties': None,\n",
       "  'launchYear': None,\n",
       "  'type': 'Public'},\n",
       " {'date': '2013-05-27',\n",
       "  'localName': 'Memorial Day',\n",
       "  'name': 'Memorial Day',\n",
       "  'countryCode': 'US',\n",
       "  'fixed': False,\n",
       "  'global': True,\n",
       "  'counties': None,\n",
       "  'launchYear': None,\n",
       "  'type': 'Public'},\n",
       " {'date': '2013-07-04',\n",
       "  'localName': 'Independence Day',\n",
       "  'name': 'Independence Day',\n",
       "  'countryCode': 'US',\n",
       "  'fixed': False,\n",
       "  'global': True,\n",
       "  'counties': None,\n",
       "  'launchYear': None,\n",
       "  'type': 'Public'},\n",
       " {'date': '2013-09-02',\n",
       "  'localName': 'Labor Day',\n",
       "  'name': 'Labour Day',\n",
       "  'countryCode': 'US',\n",
       "  'fixed': False,\n",
       "  'global': True,\n",
       "  'counties': None,\n",
       "  'launchYear': None,\n",
       "  'type': 'Public'},\n",
       " {'date': '2013-10-14',\n",
       "  'localName': 'Columbus Day',\n",
       "  'name': 'Columbus Day',\n",
       "  'countryCode': 'US',\n",
       "  'fixed': False,\n",
       "  'global': False,\n",
       "  'counties': ['US-AL',\n",
       "   'US-AZ',\n",
       "   'US-CO',\n",
       "   'US-CT',\n",
       "   'US-DC',\n",
       "   'US-GA',\n",
       "   'US-ID',\n",
       "   'US-IL',\n",
       "   'US-IN',\n",
       "   'US-IA',\n",
       "   'US-KS',\n",
       "   'US-KY',\n",
       "   'US-LA',\n",
       "   'US-ME',\n",
       "   'US-MD',\n",
       "   'US-MA',\n",
       "   'US-MS',\n",
       "   'US-MO',\n",
       "   'US-MT',\n",
       "   'US-NE',\n",
       "   'US-NH',\n",
       "   'US-NJ',\n",
       "   'US-NM',\n",
       "   'US-NY',\n",
       "   'US-NC',\n",
       "   'US-OH',\n",
       "   'US-OK',\n",
       "   'US-PA',\n",
       "   'US-RI',\n",
       "   'US-SC',\n",
       "   'US-TN',\n",
       "   'US-UT',\n",
       "   'US-VA',\n",
       "   'US-WV'],\n",
       "  'launchYear': None,\n",
       "  'type': 'Public'},\n",
       " {'date': '2013-11-11',\n",
       "  'localName': 'Veterans Day',\n",
       "  'name': 'Veterans Day',\n",
       "  'countryCode': 'US',\n",
       "  'fixed': False,\n",
       "  'global': True,\n",
       "  'counties': None,\n",
       "  'launchYear': None,\n",
       "  'type': 'Public'},\n",
       " {'date': '2013-11-28',\n",
       "  'localName': 'Thanksgiving Day',\n",
       "  'name': 'Thanksgiving Day',\n",
       "  'countryCode': 'US',\n",
       "  'fixed': False,\n",
       "  'global': True,\n",
       "  'counties': None,\n",
       "  'launchYear': 1863,\n",
       "  'type': 'Public'},\n",
       " {'date': '2013-12-25',\n",
       "  'localName': 'Christmas Day',\n",
       "  'name': 'Christmas Day',\n",
       "  'countryCode': 'US',\n",
       "  'fixed': False,\n",
       "  'global': True,\n",
       "  'counties': None,\n",
       "  'launchYear': None,\n",
       "  'type': 'Public'},\n",
       " {'date': '2014-01-01',\n",
       "  'localName': \"New Year's Day\",\n",
       "  'name': \"New Year's Day\",\n",
       "  'countryCode': 'US',\n",
       "  'fixed': False,\n",
       "  'global': True,\n",
       "  'counties': None,\n",
       "  'launchYear': None,\n",
       "  'type': 'Public'},\n",
       " {'date': '2014-01-20',\n",
       "  'localName': 'Martin Luther King, Jr. Day',\n",
       "  'name': 'Martin Luther King, Jr. Day',\n",
       "  'countryCode': 'US',\n",
       "  'fixed': False,\n",
       "  'global': True,\n",
       "  'counties': None,\n",
       "  'launchYear': None,\n",
       "  'type': 'Public'},\n",
       " {'date': '2014-02-17',\n",
       "  'localName': 'Presidents Day',\n",
       "  'name': \"Washington's Birthday\",\n",
       "  'countryCode': 'US',\n",
       "  'fixed': False,\n",
       "  'global': True,\n",
       "  'counties': None,\n",
       "  'launchYear': None,\n",
       "  'type': 'Public'},\n",
       " {'date': '2014-05-26',\n",
       "  'localName': 'Memorial Day',\n",
       "  'name': 'Memorial Day',\n",
       "  'countryCode': 'US',\n",
       "  'fixed': False,\n",
       "  'global': True,\n",
       "  'counties': None,\n",
       "  'launchYear': None,\n",
       "  'type': 'Public'},\n",
       " {'date': '2014-07-04',\n",
       "  'localName': 'Independence Day',\n",
       "  'name': 'Independence Day',\n",
       "  'countryCode': 'US',\n",
       "  'fixed': False,\n",
       "  'global': True,\n",
       "  'counties': None,\n",
       "  'launchYear': None,\n",
       "  'type': 'Public'},\n",
       " {'date': '2014-09-01',\n",
       "  'localName': 'Labor Day',\n",
       "  'name': 'Labour Day',\n",
       "  'countryCode': 'US',\n",
       "  'fixed': False,\n",
       "  'global': True,\n",
       "  'counties': None,\n",
       "  'launchYear': None,\n",
       "  'type': 'Public'},\n",
       " {'date': '2014-10-13',\n",
       "  'localName': 'Columbus Day',\n",
       "  'name': 'Columbus Day',\n",
       "  'countryCode': 'US',\n",
       "  'fixed': False,\n",
       "  'global': False,\n",
       "  'counties': ['US-AL',\n",
       "   'US-AZ',\n",
       "   'US-CO',\n",
       "   'US-CT',\n",
       "   'US-DC',\n",
       "   'US-GA',\n",
       "   'US-ID',\n",
       "   'US-IL',\n",
       "   'US-IN',\n",
       "   'US-IA',\n",
       "   'US-KS',\n",
       "   'US-KY',\n",
       "   'US-LA',\n",
       "   'US-ME',\n",
       "   'US-MD',\n",
       "   'US-MA',\n",
       "   'US-MS',\n",
       "   'US-MO',\n",
       "   'US-MT',\n",
       "   'US-NE',\n",
       "   'US-NH',\n",
       "   'US-NJ',\n",
       "   'US-NM',\n",
       "   'US-NY',\n",
       "   'US-NC',\n",
       "   'US-OH',\n",
       "   'US-OK',\n",
       "   'US-PA',\n",
       "   'US-RI',\n",
       "   'US-SC',\n",
       "   'US-TN',\n",
       "   'US-UT',\n",
       "   'US-VA',\n",
       "   'US-WV'],\n",
       "  'launchYear': None,\n",
       "  'type': 'Public'},\n",
       " {'date': '2014-11-11',\n",
       "  'localName': 'Veterans Day',\n",
       "  'name': 'Veterans Day',\n",
       "  'countryCode': 'US',\n",
       "  'fixed': False,\n",
       "  'global': True,\n",
       "  'counties': None,\n",
       "  'launchYear': None,\n",
       "  'type': 'Public'},\n",
       " {'date': '2014-11-27',\n",
       "  'localName': 'Thanksgiving Day',\n",
       "  'name': 'Thanksgiving Day',\n",
       "  'countryCode': 'US',\n",
       "  'fixed': False,\n",
       "  'global': True,\n",
       "  'counties': None,\n",
       "  'launchYear': 1863,\n",
       "  'type': 'Public'},\n",
       " {'date': '2014-12-25',\n",
       "  'localName': 'Christmas Day',\n",
       "  'name': 'Christmas Day',\n",
       "  'countryCode': 'US',\n",
       "  'fixed': False,\n",
       "  'global': True,\n",
       "  'counties': None,\n",
       "  'launchYear': None,\n",
       "  'type': 'Public'},\n",
       " {'date': '2015-01-01',\n",
       "  'localName': \"New Year's Day\",\n",
       "  'name': \"New Year's Day\",\n",
       "  'countryCode': 'US',\n",
       "  'fixed': False,\n",
       "  'global': True,\n",
       "  'counties': None,\n",
       "  'launchYear': None,\n",
       "  'type': 'Public'},\n",
       " {'date': '2015-01-19',\n",
       "  'localName': 'Martin Luther King, Jr. Day',\n",
       "  'name': 'Martin Luther King, Jr. Day',\n",
       "  'countryCode': 'US',\n",
       "  'fixed': False,\n",
       "  'global': True,\n",
       "  'counties': None,\n",
       "  'launchYear': None,\n",
       "  'type': 'Public'},\n",
       " {'date': '2015-02-16',\n",
       "  'localName': 'Presidents Day',\n",
       "  'name': \"Washington's Birthday\",\n",
       "  'countryCode': 'US',\n",
       "  'fixed': False,\n",
       "  'global': True,\n",
       "  'counties': None,\n",
       "  'launchYear': None,\n",
       "  'type': 'Public'},\n",
       " {'date': '2015-05-25',\n",
       "  'localName': 'Memorial Day',\n",
       "  'name': 'Memorial Day',\n",
       "  'countryCode': 'US',\n",
       "  'fixed': False,\n",
       "  'global': True,\n",
       "  'counties': None,\n",
       "  'launchYear': None,\n",
       "  'type': 'Public'},\n",
       " {'date': '2015-07-03',\n",
       "  'localName': 'Independence Day',\n",
       "  'name': 'Independence Day',\n",
       "  'countryCode': 'US',\n",
       "  'fixed': False,\n",
       "  'global': True,\n",
       "  'counties': None,\n",
       "  'launchYear': None,\n",
       "  'type': 'Public'},\n",
       " {'date': '2015-09-07',\n",
       "  'localName': 'Labor Day',\n",
       "  'name': 'Labour Day',\n",
       "  'countryCode': 'US',\n",
       "  'fixed': False,\n",
       "  'global': True,\n",
       "  'counties': None,\n",
       "  'launchYear': None,\n",
       "  'type': 'Public'},\n",
       " {'date': '2015-10-12',\n",
       "  'localName': 'Columbus Day',\n",
       "  'name': 'Columbus Day',\n",
       "  'countryCode': 'US',\n",
       "  'fixed': False,\n",
       "  'global': False,\n",
       "  'counties': ['US-AL',\n",
       "   'US-AZ',\n",
       "   'US-CO',\n",
       "   'US-CT',\n",
       "   'US-DC',\n",
       "   'US-GA',\n",
       "   'US-ID',\n",
       "   'US-IL',\n",
       "   'US-IN',\n",
       "   'US-IA',\n",
       "   'US-KS',\n",
       "   'US-KY',\n",
       "   'US-LA',\n",
       "   'US-ME',\n",
       "   'US-MD',\n",
       "   'US-MA',\n",
       "   'US-MS',\n",
       "   'US-MO',\n",
       "   'US-MT',\n",
       "   'US-NE',\n",
       "   'US-NH',\n",
       "   'US-NJ',\n",
       "   'US-NM',\n",
       "   'US-NY',\n",
       "   'US-NC',\n",
       "   'US-OH',\n",
       "   'US-OK',\n",
       "   'US-PA',\n",
       "   'US-RI',\n",
       "   'US-SC',\n",
       "   'US-TN',\n",
       "   'US-UT',\n",
       "   'US-VA',\n",
       "   'US-WV'],\n",
       "  'launchYear': None,\n",
       "  'type': 'Public'},\n",
       " {'date': '2015-11-11',\n",
       "  'localName': 'Veterans Day',\n",
       "  'name': 'Veterans Day',\n",
       "  'countryCode': 'US',\n",
       "  'fixed': False,\n",
       "  'global': True,\n",
       "  'counties': None,\n",
       "  'launchYear': None,\n",
       "  'type': 'Public'},\n",
       " {'date': '2015-11-26',\n",
       "  'localName': 'Thanksgiving Day',\n",
       "  'name': 'Thanksgiving Day',\n",
       "  'countryCode': 'US',\n",
       "  'fixed': False,\n",
       "  'global': True,\n",
       "  'counties': None,\n",
       "  'launchYear': 1863,\n",
       "  'type': 'Public'},\n",
       " {'date': '2015-12-25',\n",
       "  'localName': 'Christmas Day',\n",
       "  'name': 'Christmas Day',\n",
       "  'countryCode': 'US',\n",
       "  'fixed': False,\n",
       "  'global': True,\n",
       "  'counties': None,\n",
       "  'launchYear': None,\n",
       "  'type': 'Public'},\n",
       " {'date': '2016-01-01',\n",
       "  'localName': \"New Year's Day\",\n",
       "  'name': \"New Year's Day\",\n",
       "  'countryCode': 'US',\n",
       "  'fixed': False,\n",
       "  'global': True,\n",
       "  'counties': None,\n",
       "  'launchYear': None,\n",
       "  'type': 'Public'},\n",
       " {'date': '2016-01-18',\n",
       "  'localName': 'Martin Luther King, Jr. Day',\n",
       "  'name': 'Martin Luther King, Jr. Day',\n",
       "  'countryCode': 'US',\n",
       "  'fixed': False,\n",
       "  'global': True,\n",
       "  'counties': None,\n",
       "  'launchYear': None,\n",
       "  'type': 'Public'},\n",
       " {'date': '2016-02-15',\n",
       "  'localName': 'Presidents Day',\n",
       "  'name': \"Washington's Birthday\",\n",
       "  'countryCode': 'US',\n",
       "  'fixed': False,\n",
       "  'global': True,\n",
       "  'counties': None,\n",
       "  'launchYear': None,\n",
       "  'type': 'Public'},\n",
       " {'date': '2016-05-30',\n",
       "  'localName': 'Memorial Day',\n",
       "  'name': 'Memorial Day',\n",
       "  'countryCode': 'US',\n",
       "  'fixed': False,\n",
       "  'global': True,\n",
       "  'counties': None,\n",
       "  'launchYear': None,\n",
       "  'type': 'Public'},\n",
       " {'date': '2016-07-04',\n",
       "  'localName': 'Independence Day',\n",
       "  'name': 'Independence Day',\n",
       "  'countryCode': 'US',\n",
       "  'fixed': False,\n",
       "  'global': True,\n",
       "  'counties': None,\n",
       "  'launchYear': None,\n",
       "  'type': 'Public'},\n",
       " {'date': '2016-09-05',\n",
       "  'localName': 'Labor Day',\n",
       "  'name': 'Labour Day',\n",
       "  'countryCode': 'US',\n",
       "  'fixed': False,\n",
       "  'global': True,\n",
       "  'counties': None,\n",
       "  'launchYear': None,\n",
       "  'type': 'Public'},\n",
       " {'date': '2016-10-10',\n",
       "  'localName': 'Columbus Day',\n",
       "  'name': 'Columbus Day',\n",
       "  'countryCode': 'US',\n",
       "  'fixed': False,\n",
       "  'global': False,\n",
       "  'counties': ['US-AL',\n",
       "   'US-AZ',\n",
       "   'US-CO',\n",
       "   'US-CT',\n",
       "   'US-DC',\n",
       "   'US-GA',\n",
       "   'US-ID',\n",
       "   'US-IL',\n",
       "   'US-IN',\n",
       "   'US-IA',\n",
       "   'US-KS',\n",
       "   'US-KY',\n",
       "   'US-LA',\n",
       "   'US-ME',\n",
       "   'US-MD',\n",
       "   'US-MA',\n",
       "   'US-MS',\n",
       "   'US-MO',\n",
       "   'US-MT',\n",
       "   'US-NE',\n",
       "   'US-NH',\n",
       "   'US-NJ',\n",
       "   'US-NM',\n",
       "   'US-NY',\n",
       "   'US-NC',\n",
       "   'US-OH',\n",
       "   'US-OK',\n",
       "   'US-PA',\n",
       "   'US-RI',\n",
       "   'US-SC',\n",
       "   'US-TN',\n",
       "   'US-UT',\n",
       "   'US-VA',\n",
       "   'US-WV'],\n",
       "  'launchYear': None,\n",
       "  'type': 'Public'},\n",
       " {'date': '2016-11-11',\n",
       "  'localName': 'Veterans Day',\n",
       "  'name': 'Veterans Day',\n",
       "  'countryCode': 'US',\n",
       "  'fixed': False,\n",
       "  'global': True,\n",
       "  'counties': None,\n",
       "  'launchYear': None,\n",
       "  'type': 'Public'},\n",
       " {'date': '2016-11-24',\n",
       "  'localName': 'Thanksgiving Day',\n",
       "  'name': 'Thanksgiving Day',\n",
       "  'countryCode': 'US',\n",
       "  'fixed': False,\n",
       "  'global': True,\n",
       "  'counties': None,\n",
       "  'launchYear': 1863,\n",
       "  'type': 'Public'},\n",
       " {'date': '2016-12-26',\n",
       "  'localName': 'Christmas Day',\n",
       "  'name': 'Christmas Day',\n",
       "  'countryCode': 'US',\n",
       "  'fixed': False,\n",
       "  'global': True,\n",
       "  'counties': None,\n",
       "  'launchYear': None,\n",
       "  'type': 'Public'},\n",
       " {'date': '2017-01-02',\n",
       "  'localName': \"New Year's Day\",\n",
       "  'name': \"New Year's Day\",\n",
       "  'countryCode': 'US',\n",
       "  'fixed': False,\n",
       "  'global': True,\n",
       "  'counties': None,\n",
       "  'launchYear': None,\n",
       "  'type': 'Public'},\n",
       " {'date': '2017-01-16',\n",
       "  'localName': 'Martin Luther King, Jr. Day',\n",
       "  'name': 'Martin Luther King, Jr. Day',\n",
       "  'countryCode': 'US',\n",
       "  'fixed': False,\n",
       "  'global': True,\n",
       "  'counties': None,\n",
       "  'launchYear': None,\n",
       "  'type': 'Public'},\n",
       " {'date': '2017-01-20',\n",
       "  'localName': 'Inauguration Day',\n",
       "  'name': 'Inauguration Day',\n",
       "  'countryCode': 'US',\n",
       "  'fixed': True,\n",
       "  'global': False,\n",
       "  'counties': ['US-DC', 'US-LA', 'US-MD', 'US-VA'],\n",
       "  'launchYear': None,\n",
       "  'type': 'Public'},\n",
       " {'date': '2017-02-20',\n",
       "  'localName': 'Presidents Day',\n",
       "  'name': \"Washington's Birthday\",\n",
       "  'countryCode': 'US',\n",
       "  'fixed': False,\n",
       "  'global': True,\n",
       "  'counties': None,\n",
       "  'launchYear': None,\n",
       "  'type': 'Public'},\n",
       " {'date': '2017-05-29',\n",
       "  'localName': 'Memorial Day',\n",
       "  'name': 'Memorial Day',\n",
       "  'countryCode': 'US',\n",
       "  'fixed': False,\n",
       "  'global': True,\n",
       "  'counties': None,\n",
       "  'launchYear': None,\n",
       "  'type': 'Public'},\n",
       " {'date': '2017-07-04',\n",
       "  'localName': 'Independence Day',\n",
       "  'name': 'Independence Day',\n",
       "  'countryCode': 'US',\n",
       "  'fixed': False,\n",
       "  'global': True,\n",
       "  'counties': None,\n",
       "  'launchYear': None,\n",
       "  'type': 'Public'},\n",
       " {'date': '2017-09-04',\n",
       "  'localName': 'Labor Day',\n",
       "  'name': 'Labour Day',\n",
       "  'countryCode': 'US',\n",
       "  'fixed': False,\n",
       "  'global': True,\n",
       "  'counties': None,\n",
       "  'launchYear': None,\n",
       "  'type': 'Public'},\n",
       " {'date': '2017-10-09',\n",
       "  'localName': 'Columbus Day',\n",
       "  'name': 'Columbus Day',\n",
       "  'countryCode': 'US',\n",
       "  'fixed': False,\n",
       "  'global': False,\n",
       "  'counties': ['US-AL',\n",
       "   'US-AZ',\n",
       "   'US-CO',\n",
       "   'US-CT',\n",
       "   'US-DC',\n",
       "   'US-GA',\n",
       "   'US-ID',\n",
       "   'US-IL',\n",
       "   'US-IN',\n",
       "   'US-IA',\n",
       "   'US-KS',\n",
       "   'US-KY',\n",
       "   'US-LA',\n",
       "   'US-ME',\n",
       "   'US-MD',\n",
       "   'US-MA',\n",
       "   'US-MS',\n",
       "   'US-MO',\n",
       "   'US-MT',\n",
       "   'US-NE',\n",
       "   'US-NH',\n",
       "   'US-NJ',\n",
       "   'US-NM',\n",
       "   'US-NY',\n",
       "   'US-NC',\n",
       "   'US-OH',\n",
       "   'US-OK',\n",
       "   'US-PA',\n",
       "   'US-RI',\n",
       "   'US-SC',\n",
       "   'US-TN',\n",
       "   'US-UT',\n",
       "   'US-VA',\n",
       "   'US-WV'],\n",
       "  'launchYear': None,\n",
       "  'type': 'Public'},\n",
       " {'date': '2017-11-10',\n",
       "  'localName': 'Veterans Day',\n",
       "  'name': 'Veterans Day',\n",
       "  'countryCode': 'US',\n",
       "  'fixed': False,\n",
       "  'global': True,\n",
       "  'counties': None,\n",
       "  'launchYear': None,\n",
       "  'type': 'Public'},\n",
       " {'date': '2017-11-23',\n",
       "  'localName': 'Thanksgiving Day',\n",
       "  'name': 'Thanksgiving Day',\n",
       "  'countryCode': 'US',\n",
       "  'fixed': False,\n",
       "  'global': True,\n",
       "  'counties': None,\n",
       "  'launchYear': 1863,\n",
       "  'type': 'Public'},\n",
       " {'date': '2017-12-25',\n",
       "  'localName': 'Christmas Day',\n",
       "  'name': 'Christmas Day',\n",
       "  'countryCode': 'US',\n",
       "  'fixed': False,\n",
       "  'global': True,\n",
       "  'counties': None,\n",
       "  'launchYear': None,\n",
       "  'type': 'Public'},\n",
       " {'date': '2018-01-01',\n",
       "  'localName': \"New Year's Day\",\n",
       "  'name': \"New Year's Day\",\n",
       "  'countryCode': 'US',\n",
       "  'fixed': False,\n",
       "  'global': True,\n",
       "  'counties': None,\n",
       "  'launchYear': None,\n",
       "  'type': 'Public'},\n",
       " {'date': '2018-01-15',\n",
       "  'localName': 'Martin Luther King, Jr. Day',\n",
       "  'name': 'Martin Luther King, Jr. Day',\n",
       "  'countryCode': 'US',\n",
       "  'fixed': False,\n",
       "  'global': True,\n",
       "  'counties': None,\n",
       "  'launchYear': None,\n",
       "  'type': 'Public'},\n",
       " {'date': '2018-02-19',\n",
       "  'localName': 'Presidents Day',\n",
       "  'name': \"Washington's Birthday\",\n",
       "  'countryCode': 'US',\n",
       "  'fixed': False,\n",
       "  'global': True,\n",
       "  'counties': None,\n",
       "  'launchYear': None,\n",
       "  'type': 'Public'},\n",
       " {'date': '2018-05-28',\n",
       "  'localName': 'Memorial Day',\n",
       "  'name': 'Memorial Day',\n",
       "  'countryCode': 'US',\n",
       "  'fixed': False,\n",
       "  'global': True,\n",
       "  'counties': None,\n",
       "  'launchYear': None,\n",
       "  'type': 'Public'},\n",
       " {'date': '2018-07-04',\n",
       "  'localName': 'Independence Day',\n",
       "  'name': 'Independence Day',\n",
       "  'countryCode': 'US',\n",
       "  'fixed': False,\n",
       "  'global': True,\n",
       "  'counties': None,\n",
       "  'launchYear': None,\n",
       "  'type': 'Public'},\n",
       " {'date': '2018-09-03',\n",
       "  'localName': 'Labor Day',\n",
       "  'name': 'Labour Day',\n",
       "  'countryCode': 'US',\n",
       "  'fixed': False,\n",
       "  'global': True,\n",
       "  'counties': None,\n",
       "  'launchYear': None,\n",
       "  'type': 'Public'},\n",
       " {'date': '2018-10-08',\n",
       "  'localName': 'Columbus Day',\n",
       "  'name': 'Columbus Day',\n",
       "  'countryCode': 'US',\n",
       "  'fixed': False,\n",
       "  'global': False,\n",
       "  'counties': ['US-AL',\n",
       "   'US-AZ',\n",
       "   'US-CO',\n",
       "   'US-CT',\n",
       "   'US-DC',\n",
       "   'US-GA',\n",
       "   'US-ID',\n",
       "   'US-IL',\n",
       "   'US-IN',\n",
       "   'US-IA',\n",
       "   'US-KS',\n",
       "   'US-KY',\n",
       "   'US-LA',\n",
       "   'US-ME',\n",
       "   'US-MD',\n",
       "   'US-MA',\n",
       "   'US-MS',\n",
       "   'US-MO',\n",
       "   'US-MT',\n",
       "   'US-NE',\n",
       "   'US-NH',\n",
       "   'US-NJ',\n",
       "   'US-NM',\n",
       "   'US-NY',\n",
       "   'US-NC',\n",
       "   'US-OH',\n",
       "   'US-OK',\n",
       "   'US-PA',\n",
       "   'US-RI',\n",
       "   'US-SC',\n",
       "   'US-TN',\n",
       "   'US-UT',\n",
       "   'US-VA',\n",
       "   'US-WV'],\n",
       "  'launchYear': None,\n",
       "  'type': 'Public'},\n",
       " {'date': '2018-11-12',\n",
       "  'localName': 'Veterans Day',\n",
       "  'name': 'Veterans Day',\n",
       "  'countryCode': 'US',\n",
       "  'fixed': False,\n",
       "  'global': True,\n",
       "  'counties': None,\n",
       "  'launchYear': None,\n",
       "  'type': 'Public'},\n",
       " {'date': '2018-11-22',\n",
       "  'localName': 'Thanksgiving Day',\n",
       "  'name': 'Thanksgiving Day',\n",
       "  'countryCode': 'US',\n",
       "  'fixed': False,\n",
       "  'global': True,\n",
       "  'counties': None,\n",
       "  'launchYear': 1863,\n",
       "  'type': 'Public'},\n",
       " {'date': '2018-12-25',\n",
       "  'localName': 'Christmas Day',\n",
       "  'name': 'Christmas Day',\n",
       "  'countryCode': 'US',\n",
       "  'fixed': False,\n",
       "  'global': True,\n",
       "  'counties': None,\n",
       "  'launchYear': None,\n",
       "  'type': 'Public'}]"
      ]
     },
     "execution_count": 27,
     "metadata": {},
     "output_type": "execute_result"
    }
   ],
   "source": [
    "data"
   ]
  },
  {
   "cell_type": "markdown",
   "metadata": {
    "ExecuteTime": {
     "end_time": "2020-12-15T21:19:02.313549Z",
     "start_time": "2020-12-15T21:19:02.298056Z"
    }
   },
   "source": [
    "**Now, create a function called `is_holiday` that receives a date and checks the public holidays data to see if the date is present.**\n",
    "\n",
    "In the cell below:\n",
    "- Define the `is_holiday` function that returns a 1 if the date is a holiday and a 0 if the date is not a holiday. \n",
    "- Add an `'is_holiday'` column to our dataset."
   ]
  },
  {
   "cell_type": "code",
   "execution_count": 28,
   "metadata": {
    "ExecuteTime": {
     "end_time": "2020-12-15T22:47:28.064306Z",
     "start_time": "2020-12-15T22:47:28.061953Z"
    }
   },
   "outputs": [],
   "source": [
    "# Your code here\n",
    "\n",
    "def is_holiday(date): #using global variable date\n",
    "    for dictionary in data:\n",
    "        if date == dictionary['date']:\n",
    "            return 1\n",
    "    return 0"
   ]
  },
  {
   "cell_type": "code",
   "execution_count": 29,
   "metadata": {
    "ExecuteTime": {
     "end_time": "2020-12-15T22:47:29.931968Z",
     "start_time": "2020-12-15T22:47:28.072543Z"
    }
   },
   "outputs": [],
   "source": [
    "df['is_holiday'] = df.date.apply(is_holiday)"
   ]
  },
  {
   "cell_type": "code",
   "execution_count": 30,
   "metadata": {},
   "outputs": [
    {
     "data": {
      "text/plain": [
       "0    613610\n",
       "1      5430\n",
       "Name: is_holiday, dtype: int64"
      ]
     },
     "execution_count": 30,
     "metadata": {},
     "output_type": "execute_result"
    }
   ],
   "source": [
    "df.is_holiday.value_counts()"
   ]
  },
  {
   "cell_type": "code",
   "execution_count": 31,
   "metadata": {},
   "outputs": [
    {
     "data": {
      "text/html": [
       "<div>\n",
       "<style scoped>\n",
       "    .dataframe tbody tr th:only-of-type {\n",
       "        vertical-align: middle;\n",
       "    }\n",
       "\n",
       "    .dataframe tbody tr th {\n",
       "        vertical-align: top;\n",
       "    }\n",
       "\n",
       "    .dataframe thead th {\n",
       "        text-align: right;\n",
       "    }\n",
       "</style>\n",
       "<table border=\"1\" class=\"dataframe\">\n",
       "  <thead>\n",
       "    <tr style=\"text-align: right;\">\n",
       "      <th></th>\n",
       "      <th>date</th>\n",
       "      <th>open</th>\n",
       "      <th>high</th>\n",
       "      <th>low</th>\n",
       "      <th>close</th>\n",
       "      <th>volume</th>\n",
       "      <th>Name</th>\n",
       "      <th>is_holiday</th>\n",
       "    </tr>\n",
       "  </thead>\n",
       "  <tbody>\n",
       "    <tr>\n",
       "      <th>171</th>\n",
       "      <td>2013-10-14</td>\n",
       "      <td>20.52</td>\n",
       "      <td>20.67</td>\n",
       "      <td>20.26</td>\n",
       "      <td>20.58</td>\n",
       "      <td>3066400</td>\n",
       "      <td>AAL</td>\n",
       "      <td>1</td>\n",
       "    </tr>\n",
       "    <tr>\n",
       "      <th>191</th>\n",
       "      <td>2013-11-11</td>\n",
       "      <td>23.25</td>\n",
       "      <td>23.45</td>\n",
       "      <td>23.06</td>\n",
       "      <td>23.27</td>\n",
       "      <td>3508100</td>\n",
       "      <td>AAL</td>\n",
       "      <td>1</td>\n",
       "    </tr>\n",
       "    <tr>\n",
       "      <th>422</th>\n",
       "      <td>2014-10-13</td>\n",
       "      <td>31.07</td>\n",
       "      <td>31.39</td>\n",
       "      <td>28.10</td>\n",
       "      <td>28.58</td>\n",
       "      <td>34532913</td>\n",
       "      <td>AAL</td>\n",
       "      <td>1</td>\n",
       "    </tr>\n",
       "    <tr>\n",
       "      <th>443</th>\n",
       "      <td>2014-11-11</td>\n",
       "      <td>44.00</td>\n",
       "      <td>44.47</td>\n",
       "      <td>43.32</td>\n",
       "      <td>43.44</td>\n",
       "      <td>11053611</td>\n",
       "      <td>AAL</td>\n",
       "      <td>1</td>\n",
       "    </tr>\n",
       "    <tr>\n",
       "      <th>673</th>\n",
       "      <td>2015-10-12</td>\n",
       "      <td>42.59</td>\n",
       "      <td>43.88</td>\n",
       "      <td>42.55</td>\n",
       "      <td>43.84</td>\n",
       "      <td>11443308</td>\n",
       "      <td>AAL</td>\n",
       "      <td>1</td>\n",
       "    </tr>\n",
       "    <tr>\n",
       "      <th>...</th>\n",
       "      <td>...</td>\n",
       "      <td>...</td>\n",
       "      <td>...</td>\n",
       "      <td>...</td>\n",
       "      <td>...</td>\n",
       "      <td>...</td>\n",
       "      <td>...</td>\n",
       "      <td>...</td>\n",
       "    </tr>\n",
       "    <tr>\n",
       "      <th>618705</th>\n",
       "      <td>2016-10-10</td>\n",
       "      <td>52.00</td>\n",
       "      <td>53.14</td>\n",
       "      <td>52.00</td>\n",
       "      <td>52.69</td>\n",
       "      <td>3119094</td>\n",
       "      <td>ZTS</td>\n",
       "      <td>1</td>\n",
       "    </tr>\n",
       "    <tr>\n",
       "      <th>618729</th>\n",
       "      <td>2016-11-11</td>\n",
       "      <td>50.84</td>\n",
       "      <td>50.96</td>\n",
       "      <td>50.13</td>\n",
       "      <td>50.61</td>\n",
       "      <td>3527011</td>\n",
       "      <td>ZTS</td>\n",
       "      <td>1</td>\n",
       "    </tr>\n",
       "    <tr>\n",
       "      <th>618775</th>\n",
       "      <td>2017-01-20</td>\n",
       "      <td>53.63</td>\n",
       "      <td>54.39</td>\n",
       "      <td>53.60</td>\n",
       "      <td>53.97</td>\n",
       "      <td>3573514</td>\n",
       "      <td>ZTS</td>\n",
       "      <td>1</td>\n",
       "    </tr>\n",
       "    <tr>\n",
       "      <th>618956</th>\n",
       "      <td>2017-10-09</td>\n",
       "      <td>63.81</td>\n",
       "      <td>63.87</td>\n",
       "      <td>63.51</td>\n",
       "      <td>63.73</td>\n",
       "      <td>1257637</td>\n",
       "      <td>ZTS</td>\n",
       "      <td>1</td>\n",
       "    </tr>\n",
       "    <tr>\n",
       "      <th>618980</th>\n",
       "      <td>2017-11-10</td>\n",
       "      <td>68.95</td>\n",
       "      <td>69.24</td>\n",
       "      <td>68.58</td>\n",
       "      <td>69.13</td>\n",
       "      <td>1905724</td>\n",
       "      <td>ZTS</td>\n",
       "      <td>1</td>\n",
       "    </tr>\n",
       "  </tbody>\n",
       "</table>\n",
       "<p>5430 rows × 8 columns</p>\n",
       "</div>"
      ],
      "text/plain": [
       "              date   open   high    low  close    volume Name  is_holiday\n",
       "171     2013-10-14  20.52  20.67  20.26  20.58   3066400  AAL           1\n",
       "191     2013-11-11  23.25  23.45  23.06  23.27   3508100  AAL           1\n",
       "422     2014-10-13  31.07  31.39  28.10  28.58  34532913  AAL           1\n",
       "443     2014-11-11  44.00  44.47  43.32  43.44  11053611  AAL           1\n",
       "673     2015-10-12  42.59  43.88  42.55  43.84  11443308  AAL           1\n",
       "...            ...    ...    ...    ...    ...       ...  ...         ...\n",
       "618705  2016-10-10  52.00  53.14  52.00  52.69   3119094  ZTS           1\n",
       "618729  2016-11-11  50.84  50.96  50.13  50.61   3527011  ZTS           1\n",
       "618775  2017-01-20  53.63  54.39  53.60  53.97   3573514  ZTS           1\n",
       "618956  2017-10-09  63.81  63.87  63.51  63.73   1257637  ZTS           1\n",
       "618980  2017-11-10  68.95  69.24  68.58  69.13   1905724  ZTS           1\n",
       "\n",
       "[5430 rows x 8 columns]"
      ]
     },
     "execution_count": 31,
     "metadata": {},
     "output_type": "execute_result"
    }
   ],
   "source": [
    "df[df.is_holiday == 1]"
   ]
  },
  {
   "cell_type": "markdown",
   "metadata": {
    "ExecuteTime": {
     "end_time": "2020-12-15T21:28:17.259549Z",
     "start_time": "2020-12-15T21:28:17.230084Z"
    }
   },
   "source": [
    "Now let's use the data we just collected.\n",
    "\n",
    "In the cell below, \n",
    "\n",
    "- Create a visualization that plots both the closing price distribution of holiday and non-holiday days. "
   ]
  },
  {
   "cell_type": "code",
   "execution_count": 36,
   "metadata": {
    "ExecuteTime": {
     "end_time": "2020-12-15T22:47:29.935308Z",
     "start_time": "2020-12-15T22:47:29.933215Z"
    }
   },
   "outputs": [
    {
     "data": {
      "image/png": "[encoded data removed]",
      "text/plain": [
       "<Figure size 432x288 with 1 Axes>"
      ]
     },
     "metadata": {
      "needs_background": "light"
     },
     "output_type": "display_data"
    }
   ],
   "source": [
    "# Your code here\n",
    "\n",
    "import matplotlib.pyplot as plt\n",
    "\n",
    "holiday = df[df.is_holiday == 1]\n",
    "not_holiday = df[df.is_holiday == 0]\n",
    "\n",
    "plt.hist(holiday.close, density=True, label = 'Holiday', alpha=.4)\n",
    "plt.hist(not_holiday.close, density=True, label = 'Not Holiday', alpha=.4);"
   ]
  },
  {
   "cell_type": "markdown",
   "metadata": {
    "ExecuteTime": {
     "end_time": "2020-12-15T22:02:22.243197Z",
     "start_time": "2020-12-15T22:02:22.226423Z"
    }
   },
   "source": [
    "What can we say about this visualization?"
   ]
  },
  {
   "cell_type": "markdown",
   "metadata": {},
   "source": [
    "**Via Joel** - The distributions look largely the same."
   ]
  },
  {
   "cell_type": "markdown",
   "metadata": {},
   "source": [
    "## Saving our json data"
   ]
  },
  {
   "cell_type": "markdown",
   "metadata": {},
   "source": [
    "To save json data, we can use the `json` package!"
   ]
  },
  {
   "cell_type": "code",
   "execution_count": 37,
   "metadata": {
    "ExecuteTime": {
     "end_time": "2020-12-15T22:48:39.811703Z",
     "start_time": "2020-12-15T22:48:39.806915Z"
    }
   },
   "outputs": [],
   "source": [
    "file = open('holiday_data.json', 'w') #'w' stands for write\n",
    "json.dump(data, file)\n",
    "file.close()"
   ]
  },
  {
   "cell_type": "markdown",
   "metadata": {},
   "source": [
    "## A quick note about authentification\n",
    "\n",
    "Not all APIs verify users the same way. You'll notice that the API we used in this lesson doesn't require authentification. Let's look at standard example of how we pass a user token as a header using the [NOAA API](https://www.ncdc.noaa.gov/cdo-web/webservices/v2#gettingStarted)"
   ]
  },
  {
   "cell_type": "markdown",
   "metadata": {},
   "source": [
    "> **Sierra's Addition:** note that you NEVER want to push your own token key up to Github."
   ]
  },
  {
   "cell_type": "code",
   "execution_count": 67,
   "metadata": {
    "ExecuteTime": {
     "end_time": "2020-12-15T22:23:57.742261Z",
     "start_time": "2020-12-15T22:23:57.263714Z"
    }
   },
   "outputs": [
    {
     "data": {
      "text/plain": [
       "<Response [200]>"
      ]
     },
     "execution_count": 67,
     "metadata": {},
     "output_type": "execute_result"
    }
   ],
   "source": [
    "token = None #place your API key here\n",
    "\n",
    "headers = {'token': token}\n",
    "url = 'https://www.ncdc.noaa.gov/cdo-web/api/v2/datasets'\n",
    "get(url, headers=headers)"
   ]
  },
  {
   "cell_type": "markdown",
   "metadata": {},
   "source": [
    "## A quick note about API queries that can receive variable arguments\n",
    "\n",
    "If we look at the [Datasets Tab](https://www.ncdc.noaa.gov/cdo-web/webservices/v2#datasets) of the NOAA documentation, we can see a request in the examples at the bottom that looks like this...\n",
    "\n",
    "```https://www.ncdc.noaa.gov/cdo-web/api/v2/datasets?stationid=COOP:310090&stationid=COOP:310184&stationid=COOP:310212```\n",
    "\n",
    "The notation that is different in this request compared to previous requests is that it uses a `?` followed by a bunch of `variable_name=data` queries. This is a common request technique for complex APIs, especially for government APIs. Ultimately, this sort of notation makes APIs more flexible and allows you to quickly retreive the data that you need. "
   ]
  },
  {
   "cell_type": "markdown",
   "metadata": {},
   "source": [
    "> **Sierra's Addition:** see the NOAA documentation above and note this is a fantastic example of how it should look across the board."
   ]
  },
  {
   "cell_type": "markdown",
   "metadata": {},
   "source": [
    "## Some API tasks\n",
    "\n",
    "1. Use the [evilinsult api](https://evilinsult.com/api/#generate-insult-get) to collect a list of 5 evil insults.\n",
    "2. Dig into the documentation for the [cat-facts](https://alexwohlbruck.github.io/cat-facts/) API to return 10 random cat facts.\n",
    "3. Use the [official joke api](https://github.com/15Dkatz/official_joke_api) to collect 5 random jokes and post your favorite in slack. *Please do not post anything innappropriate.*\n",
    "4. Check out the [Tweepy](https://www.tweepy.org/) Python package. It is very cool. "
   ]
  }
 ],
 "metadata": {
  "kernelspec": {
   "display_name": "Python 3",
   "language": "python",
   "name": "python3"
  },
  "language_info": {
   "codemirror_mode": {
    "name": "ipython",
    "version": 3
   },
   "file_extension": ".py",
   "mimetype": "text/x-python",
   "name": "python",
   "nbconvert_exporter": "python",
   "pygments_lexer": "ipython3",
   "version": "3.6.9"
  },
  "toc": {
   "base_numbering": 1,
   "nav_menu": {},
   "number_sections": false,
   "sideBar": true,
   "skip_h1_title": false,
   "title_cell": "Table of Contents",
   "title_sidebar": "Contents",
   "toc_cell": false,
   "toc_position": {},
   "toc_section_display": true,
   "toc_window_display": true
  }
 },
 "nbformat": 4,
 "nbformat_minor": 2
}
