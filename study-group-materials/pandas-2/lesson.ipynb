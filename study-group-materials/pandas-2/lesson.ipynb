{
 "cells": [
  {
   "cell_type": "markdown",
   "metadata": {},
   "source": [
    "# Pandas Practice Pt 2\n",
    "\n",
    "<u><b>Agenda</b></u>\n",
    "\n",
    "Today we will continue to practice and familiarize ourselves with data manipulation using the Pandas Python package.\n",
    "\n",
    "To demonstrate merging datasets with pandas, we will import data for the [1896-2014 Summer Olympic Games](https://www.kaggle.com/the-guardian/olympic-games) and use the [groupby](https://pandas.pydata.org/pandas-docs/stable/reference/api/pandas.DataFrame.groupby.html) & [pivot](https://pandas.pydata.org/pandas-docs/stable/reference/api/pandas.DataFrame.pivot.html) methods to answer some question about the data. \n",
    "\n",
    "Then we will import county level COVID-19 data. For this dataset, students will be split into breakout rooms and given tasks to complete using a pair programming styled collaboration. \n",
    "\n",
    "<u>Our first step is to import the packages we will need for this lesson:</u>"
   ]
  },
  {
   "cell_type": "code",
   "execution_count": 2,
   "metadata": {
    "ExecuteTime": {
     "end_time": "2020-12-01T20:02:02.030997Z",
     "start_time": "2020-12-01T20:02:02.027944Z"
    }
   },
   "outputs": [],
   "source": [
    "# Data Manipulation\n",
    "import pandas as pd\n",
    "\n",
    "# Edit import path so \n",
    "# custom functions can be imported\n",
    "import sys\n",
    "sys.path.append('../../')\n",
    "import os\n",
    "\n",
    "# Custom functions used for visualization\n",
    "from src import helpers\n",
    "\n",
    "# Plotting libraries\n",
    "import matplotlib.pyplot as plt"
   ]
  },
  {
   "cell_type": "code",
   "execution_count": 3,
   "metadata": {
    "ExecuteTime": {
     "end_time": "2020-12-01T21:48:11.749253Z",
     "start_time": "2020-12-01T21:48:11.728421Z"
    }
   },
   "outputs": [
    {
     "data": {
      "text/html": [
       "<div>\n",
       "<style scoped>\n",
       "    .dataframe tbody tr th:only-of-type {\n",
       "        vertical-align: middle;\n",
       "    }\n",
       "\n",
       "    .dataframe tbody tr th {\n",
       "        vertical-align: top;\n",
       "    }\n",
       "\n",
       "    .dataframe thead th {\n",
       "        text-align: right;\n",
       "    }\n",
       "</style>\n",
       "<table border=\"1\" class=\"dataframe\">\n",
       "  <thead>\n",
       "    <tr style=\"text-align: right;\">\n",
       "      <th></th>\n",
       "      <th>location_id</th>\n",
       "      <th>event_id</th>\n",
       "      <th>athlete_id</th>\n",
       "      <th>result_id</th>\n",
       "    </tr>\n",
       "  </thead>\n",
       "  <tbody>\n",
       "    <tr>\n",
       "      <th>0</th>\n",
       "      <td>0</td>\n",
       "      <td>0</td>\n",
       "      <td>0</td>\n",
       "      <td>0</td>\n",
       "    </tr>\n",
       "    <tr>\n",
       "      <th>1</th>\n",
       "      <td>0</td>\n",
       "      <td>0</td>\n",
       "      <td>1</td>\n",
       "      <td>1</td>\n",
       "    </tr>\n",
       "    <tr>\n",
       "      <th>2</th>\n",
       "      <td>0</td>\n",
       "      <td>1</td>\n",
       "      <td>2</td>\n",
       "      <td>2</td>\n",
       "    </tr>\n",
       "    <tr>\n",
       "      <th>3</th>\n",
       "      <td>0</td>\n",
       "      <td>1</td>\n",
       "      <td>3</td>\n",
       "      <td>0</td>\n",
       "    </tr>\n",
       "    <tr>\n",
       "      <th>4</th>\n",
       "      <td>0</td>\n",
       "      <td>1</td>\n",
       "      <td>4</td>\n",
       "      <td>1</td>\n",
       "    </tr>\n",
       "  </tbody>\n",
       "</table>\n",
       "</div>"
      ],
      "text/plain": [
       "   location_id  event_id  athlete_id  result_id\n",
       "0            0         0           0          0\n",
       "1            0         0           1          1\n",
       "2            0         1           2          2\n",
       "3            0         1           3          0\n",
       "4            0         1           4          1"
      ]
     },
     "execution_count": 3,
     "metadata": {},
     "output_type": "execute_result"
    }
   ],
   "source": [
    "data_path = os.path.join(os.pardir, os.pardir, 'data')\n",
    "path = os.path.join(data_path, 'olympics_join_table.csv')\n",
    "join_table = pd.read_csv(path)\n",
    "join_table.head()"
   ]
  },
  {
   "cell_type": "markdown",
   "metadata": {},
   "source": [
    "This table, on its own, is not very useful. The ids in this table reference data in other tables and can be used for merging datasets.\n",
    "\n",
    "**Below is a visualization of how these data are structured.**\n",
    "\n",
    "![Schema of olympics dataset](../../static/olympics_schema.png)\n",
    "\n",
    "The idea is that we can use this join table merge all of the connecting tables into a single dataset!\n",
    "\n",
    "<u>Below, we import the `locations`, `events`, `athletes`, and `results` tables.</u>"
   ]
  },
  {
   "cell_type": "code",
   "execution_count": 4,
   "metadata": {
    "ExecuteTime": {
     "end_time": "2020-12-01T21:50:04.731298Z",
     "start_time": "2020-12-01T21:50:04.689607Z"
    }
   },
   "outputs": [
    {
     "data": {
      "text/html": [
       "<table style=\"display:inline\"><tr><td style=\"text-align:center\">locations</td><td style=\"text-align:center\">events</td><td style=\"text-align:center\">athletes</td><td style=\"text-align:center\">results</td></tr><tr><td style=\"vertical-align:top\"> <table style=\"display:inline\" border=\"1\" class=\"dataframe\">\n",
       "  <thead>\n",
       "    <tr style=\"text-align: right;\">\n",
       "      <th></th>\n",
       "      <th>location_id</th>\n",
       "      <th>Year</th>\n",
       "      <th>City</th>\n",
       "    </tr>\n",
       "  </thead>\n",
       "  <tbody>\n",
       "    <tr>\n",
       "      <th>0</th>\n",
       "      <td>0</td>\n",
       "      <td>1896</td>\n",
       "      <td>Athens</td>\n",
       "    </tr>\n",
       "    <tr>\n",
       "      <th>1</th>\n",
       "      <td>1</td>\n",
       "      <td>1900</td>\n",
       "      <td>Paris</td>\n",
       "    </tr>\n",
       "    <tr>\n",
       "      <th>2</th>\n",
       "      <td>2</td>\n",
       "      <td>1904</td>\n",
       "      <td>St Louis</td>\n",
       "    </tr>\n",
       "  </tbody>\n",
       "</table style=\"display:inline\"></td><td style=\"vertical-align:top\"> <table style=\"display:inline\" border=\"1\" class=\"dataframe\">\n",
       "  <thead>\n",
       "    <tr style=\"text-align: right;\">\n",
       "      <th></th>\n",
       "      <th>event_id</th>\n",
       "      <th>Sport</th>\n",
       "      <th>Discipline</th>\n",
       "      <th>Event</th>\n",
       "    </tr>\n",
       "  </thead>\n",
       "  <tbody>\n",
       "    <tr>\n",
       "      <th>0</th>\n",
       "      <td>0</td>\n",
       "      <td>Aquatics</td>\n",
       "      <td>Swimming</td>\n",
       "      <td>100M Freestyle</td>\n",
       "    </tr>\n",
       "    <tr>\n",
       "      <th>1</th>\n",
       "      <td>1</td>\n",
       "      <td>Aquatics</td>\n",
       "      <td>Swimming</td>\n",
       "      <td>100M Freestyle For Sailors</td>\n",
       "    </tr>\n",
       "    <tr>\n",
       "      <th>2</th>\n",
       "      <td>2</td>\n",
       "      <td>Aquatics</td>\n",
       "      <td>Swimming</td>\n",
       "      <td>1200M Freestyle</td>\n",
       "    </tr>\n",
       "  </tbody>\n",
       "</table style=\"display:inline\"></td><td style=\"vertical-align:top\"> <table style=\"display:inline\" border=\"1\" class=\"dataframe\">\n",
       "  <thead>\n",
       "    <tr style=\"text-align: right;\">\n",
       "      <th></th>\n",
       "      <th>athlete_id</th>\n",
       "      <th>Athlete</th>\n",
       "      <th>Country</th>\n",
       "      <th>Gender</th>\n",
       "    </tr>\n",
       "  </thead>\n",
       "  <tbody>\n",
       "    <tr>\n",
       "      <th>0</th>\n",
       "      <td>0</td>\n",
       "      <td>HAJOS, Alfred</td>\n",
       "      <td>HUN</td>\n",
       "      <td>Men</td>\n",
       "    </tr>\n",
       "    <tr>\n",
       "      <th>1</th>\n",
       "      <td>1</td>\n",
       "      <td>HERSCHMANN, Otto</td>\n",
       "      <td>AUT</td>\n",
       "      <td>Men</td>\n",
       "    </tr>\n",
       "    <tr>\n",
       "      <th>2</th>\n",
       "      <td>2</td>\n",
       "      <td>DRIVAS, Dimitrios</td>\n",
       "      <td>GRE</td>\n",
       "      <td>Men</td>\n",
       "    </tr>\n",
       "  </tbody>\n",
       "</table style=\"display:inline\"></td><td style=\"vertical-align:top\"> <table style=\"display:inline\" border=\"1\" class=\"dataframe\">\n",
       "  <thead>\n",
       "    <tr style=\"text-align: right;\">\n",
       "      <th></th>\n",
       "      <th>result_id</th>\n",
       "      <th>Medal</th>\n",
       "    </tr>\n",
       "  </thead>\n",
       "  <tbody>\n",
       "    <tr>\n",
       "      <th>0</th>\n",
       "      <td>0</td>\n",
       "      <td>Gold</td>\n",
       "    </tr>\n",
       "    <tr>\n",
       "      <th>1</th>\n",
       "      <td>1</td>\n",
       "      <td>Silver</td>\n",
       "    </tr>\n",
       "    <tr>\n",
       "      <th>2</th>\n",
       "      <td>2</td>\n",
       "      <td>Bronze</td>\n",
       "    </tr>\n",
       "  </tbody>\n",
       "</table style=\"display:inline\"></td></tr></table style=\"display:inline\">"
      ]
     },
     "metadata": {},
     "output_type": "display_data"
    }
   ],
   "source": [
    "locations = pd.read_csv(os.path.join(data_path, 'olympics_locations.csv'))\n",
    "events = pd.read_csv(os.path.join(data_path, 'olympics_events.csv'))\n",
    "athletes = pd.read_csv(os.path.join(data_path,'olympics_athletes.csv'))\n",
    "results = pd.read_csv(os.path.join(data_path, 'olympics_results.csv'))\n",
    "dataframes = [locations.head(3), events.head(3), athletes.head(3), results.head(3)]\n",
    "names=['locations', 'events','athletes', 'results']\n",
    "helpers.side_by_side(dataframes, names)"
   ]
  },
  {
   "cell_type": "markdown",
   "metadata": {},
   "source": [
    "### Task 1\n",
    "\n",
    "- Using the join table, merge all of the olympics datasets into a single table. \n",
    "- Save the merged table as the variable `olympics`.\n",
    "- Drop the id columns"
   ]
  },
  {
   "cell_type": "code",
   "execution_count": 5,
   "metadata": {},
   "outputs": [],
   "source": [
    "# Your code here\n",
    "\n",
    "olympic = join_table.merge(locations, on = 'location_id')\\\n",
    ".merge(events, on = 'event_id')\\\n",
    ".merge(athletes, on = 'athlete_id')\\\n",
    ".merge(results, on = 'result_id')\\\n",
    ".drop(['location_id', 'event_id', 'athlete_id', 'result_id'], axis = 1) #axis equals one because we're dropping a column\n"
   ]
  },
  {
   "cell_type": "markdown",
   "metadata": {},
   "source": [
    "### Task 2\n",
    "\n",
    "Using the `.groupby` method, create a dataframe called `number_of_medals` that counts the number of gold, silver, and bronze medals each country earned for a given year. \n",
    "\n",
    "The dataframe should look like this:\n",
    "\n",
    "|  | Country|Year|Medal|Count|\n",
    "|--|--------|----|-----|-----|\n",
    "|0 | AFG|2008|Bronze|1|\n",
    "|1|AFG|2012|Bronze|1|\n",
    "|2|AHO|1988|Silver|1|"
   ]
  },
  {
   "cell_type": "code",
   "execution_count": 6,
   "metadata": {},
   "outputs": [],
   "source": [
    "# Your code here\n",
    "\n",
    "number_of_medals = olympic.groupby(['Country','Year','Medal']).count().reset_index() #restindex removes multi-index\n",
    "number_of_medals = number_of_medals.drop(['Sport', 'Discipline', 'Event', 'Athlete', 'Gender'], axis=1)\n",
    "number_of_medals.rename({'City': 'Count'}, axis=1, inplace=True)\n",
    "\n",
    "#groupby aggregates based on a shared quality, tell pandas how we want to combine it (sum, average) aka what we'd like to do with it"
   ]
  },
  {
   "cell_type": "code",
   "execution_count": 7,
   "metadata": {},
   "outputs": [
    {
     "data": {
      "text/html": [
       "<div>\n",
       "<style scoped>\n",
       "    .dataframe tbody tr th:only-of-type {\n",
       "        vertical-align: middle;\n",
       "    }\n",
       "\n",
       "    .dataframe tbody tr th {\n",
       "        vertical-align: top;\n",
       "    }\n",
       "\n",
       "    .dataframe thead th {\n",
       "        text-align: right;\n",
       "    }\n",
       "</style>\n",
       "<table border=\"1\" class=\"dataframe\">\n",
       "  <thead>\n",
       "    <tr style=\"text-align: right;\">\n",
       "      <th></th>\n",
       "      <th>Country</th>\n",
       "      <th>Year</th>\n",
       "      <th>Medal</th>\n",
       "      <th>Count</th>\n",
       "    </tr>\n",
       "  </thead>\n",
       "  <tbody>\n",
       "    <tr>\n",
       "      <th>0</th>\n",
       "      <td>AFG</td>\n",
       "      <td>2008</td>\n",
       "      <td>Bronze</td>\n",
       "      <td>1</td>\n",
       "    </tr>\n",
       "    <tr>\n",
       "      <th>1</th>\n",
       "      <td>AFG</td>\n",
       "      <td>2012</td>\n",
       "      <td>Bronze</td>\n",
       "      <td>1</td>\n",
       "    </tr>\n",
       "    <tr>\n",
       "      <th>2</th>\n",
       "      <td>AHO</td>\n",
       "      <td>1988</td>\n",
       "      <td>Silver</td>\n",
       "      <td>1</td>\n",
       "    </tr>\n",
       "    <tr>\n",
       "      <th>3</th>\n",
       "      <td>ALG</td>\n",
       "      <td>1984</td>\n",
       "      <td>Bronze</td>\n",
       "      <td>2</td>\n",
       "    </tr>\n",
       "    <tr>\n",
       "      <th>4</th>\n",
       "      <td>ALG</td>\n",
       "      <td>1992</td>\n",
       "      <td>Bronze</td>\n",
       "      <td>1</td>\n",
       "    </tr>\n",
       "  </tbody>\n",
       "</table>\n",
       "</div>"
      ],
      "text/plain": [
       "  Country  Year   Medal  Count\n",
       "0     AFG  2008  Bronze      1\n",
       "1     AFG  2012  Bronze      1\n",
       "2     AHO  1988  Silver      1\n",
       "3     ALG  1984  Bronze      2\n",
       "4     ALG  1992  Bronze      1"
      ]
     },
     "execution_count": 7,
     "metadata": {},
     "output_type": "execute_result"
    }
   ],
   "source": [
    "number_of_medals.head()"
   ]
  },
  {
   "cell_type": "markdown",
   "metadata": {},
   "source": [
    "Let's calculate the average number medals each country tends to earn. Let's take a look at the distribution of number of medals earned for all counties so we can idenify which calculation is best suited for observing the average for these data. "
   ]
  },
  {
   "cell_type": "code",
   "execution_count": 8,
   "metadata": {
    "ExecuteTime": {
     "end_time": "2020-12-01T20:05:42.220333Z",
     "start_time": "2020-12-01T20:05:41.952478Z"
    }
   },
   "outputs": [
    {
     "data": {
      "image/png": "[encoded data removed]",
      "text/plain": [
       "<Figure size 1080x432 with 1 Axes>"
      ]
     },
     "metadata": {
      "needs_background": "light"
     },
     "output_type": "display_data"
    }
   ],
   "source": [
    "number_of_medals['Count'].hist(figsize=(15,6));\n",
    "plt.title('Number of Medals Earned by Medal Type, Country, and Year')\n",
    "plt.show()"
   ]
  },
  {
   "cell_type": "markdown",
   "metadata": {},
   "source": [
    "Based on this visualization, it doesn't make sense to use the mean for these data. It looks like there are a few years certain countries earned an unusually high number of medals. To avoid these outliers overly impacting the average, we will calculate the median instead. "
   ]
  },
  {
   "cell_type": "markdown",
   "metadata": {},
   "source": [
    "### Task 4\n",
    "\n",
    "In the cell(s) below, using groupby to calculate the median number of medals a country earns across all years and sort in descending order to return the 5 countries with the highest median Gold Medal Count.\n",
    "\n",
    "The dataframe should look like this:\n",
    "\n",
    "|  | Country|Medal|Count|\n",
    "|--|--------|----|-----|\n",
    "|101| EUN|Gold|92.0|\n",
    "|327|AFG|Gold|78.5|\n",
    "|117|AHO|Gold|75.0|"
   ]
  },
  {
   "cell_type": "code",
   "execution_count": 9,
   "metadata": {},
   "outputs": [
    {
     "data": {
      "text/html": [
       "<div>\n",
       "<style scoped>\n",
       "    .dataframe tbody tr th:only-of-type {\n",
       "        vertical-align: middle;\n",
       "    }\n",
       "\n",
       "    .dataframe tbody tr th {\n",
       "        vertical-align: top;\n",
       "    }\n",
       "\n",
       "    .dataframe thead th {\n",
       "        text-align: right;\n",
       "    }\n",
       "</style>\n",
       "<table border=\"1\" class=\"dataframe\">\n",
       "  <thead>\n",
       "    <tr style=\"text-align: right;\">\n",
       "      <th></th>\n",
       "      <th>Country</th>\n",
       "      <th>Medal</th>\n",
       "      <th>Count</th>\n",
       "    </tr>\n",
       "  </thead>\n",
       "  <tbody>\n",
       "    <tr>\n",
       "      <th>101</th>\n",
       "      <td>EUN</td>\n",
       "      <td>Gold</td>\n",
       "      <td>92.0</td>\n",
       "    </tr>\n",
       "    <tr>\n",
       "      <th>327</th>\n",
       "      <td>USA</td>\n",
       "      <td>Gold</td>\n",
       "      <td>78.5</td>\n",
       "    </tr>\n",
       "    <tr>\n",
       "      <th>117</th>\n",
       "      <td>GDR</td>\n",
       "      <td>Gold</td>\n",
       "      <td>75.0</td>\n",
       "    </tr>\n",
       "    <tr>\n",
       "      <th>321</th>\n",
       "      <td>URS</td>\n",
       "      <td>Gold</td>\n",
       "      <td>68.0</td>\n",
       "    </tr>\n",
       "    <tr>\n",
       "      <th>259</th>\n",
       "      <td>RUS</td>\n",
       "      <td>Gold</td>\n",
       "      <td>47.0</td>\n",
       "    </tr>\n",
       "  </tbody>\n",
       "</table>\n",
       "</div>"
      ],
      "text/plain": [
       "    Country Medal  Count\n",
       "101     EUN  Gold   92.0\n",
       "327     USA  Gold   78.5\n",
       "117     GDR  Gold   75.0\n",
       "321     URS  Gold   68.0\n",
       "259     RUS  Gold   47.0"
      ]
     },
     "execution_count": 9,
     "metadata": {},
     "output_type": "execute_result"
    }
   ],
   "source": [
    "# Your code here\n",
    "\n",
    "\n",
    "median_medals = number_of_medals.groupby(['Country', 'Medal']).median().reset_index()\n",
    "median_medals = median_medals.drop(['Year'], axis=1)\n",
    "median_medals[median_medals.Medal == 'Gold'].sort_values('Count',ascending=False).head(5)"
   ]
  },
  {
   "cell_type": "markdown",
   "metadata": {
    "ExecuteTime": {
     "end_time": "2020-12-01T19:24:16.263737Z",
     "start_time": "2020-12-01T19:24:16.229267Z"
    }
   },
   "source": [
    "### Task 4\n",
    "\n",
    "Create a pivot table to identify which Athlete has the most Gold Medals. "
   ]
  },
  {
   "cell_type": "code",
   "execution_count": 12,
   "metadata": {},
   "outputs": [
    {
     "data": {
      "text/plain": [
       "PHELPS, Michael            18\n",
       "SPITZ, Mark                 9\n",
       "LEWIS, Carl                 9\n",
       "LATYNINA, Larisa            9\n",
       "NURMI, Paavo                9\n",
       "                           ..\n",
       "ROBERTSON, Arthur James     1\n",
       "IMISON, Rachel              1\n",
       "PLYUKFELDER, Rudolf         1\n",
       "PRIBANIC, Miroslav          1\n",
       "VINGQVIST, Karl Gustaf      1\n",
       "Name: Gold, Length: 8287, dtype: int64"
      ]
     },
     "execution_count": 12,
     "metadata": {},
     "output_type": "execute_result"
    }
   ],
   "source": [
    "# Your code here\n",
    "\n",
    "olympic.pivot(columns='Medal', values = 'Athlete').Gold.value_counts()"
   ]
  },
  {
   "cell_type": "markdown",
   "metadata": {},
   "source": [
    "# Breakout Room Tasks\n",
    "\n",
    "Below we import two datasets:\n",
    "1. The New York Times COVID-19 County Dataset from the [Nytimes Github](https://github.com/nytimes/covid-19-data). \n",
    "    - This dataset is updated daily with cases and death figures, at the county level, for every county in the United States and offers a rare micro level view of the pandemic. \n",
    "    - This dataset is saved with the variable `df`.\n",
    "\n",
    "2. County Population Data from the 2019 Census.\n",
    "    - This dataset is saved with the variable `pop`.\n",
    "\n",
    "Please complete the below tasks with your group."
   ]
  },
  {
   "cell_type": "code",
   "execution_count": 13,
   "metadata": {
    "ExecuteTime": {
     "end_time": "2020-12-01T20:27:12.382758Z",
     "start_time": "2020-12-01T20:27:10.877084Z"
    }
   },
   "outputs": [
    {
     "data": {
      "text/html": [
       "<table style=\"display:inline\"><tr><td style=\"text-align:center\">Nytimes Dataset</td><td style=\"text-align:center\">Population Dataset</td></tr><tr><td style=\"vertical-align:top\"> <table style=\"display:inline\" border=\"1\" class=\"dataframe\">\n",
       "  <thead>\n",
       "    <tr style=\"text-align: right;\">\n",
       "      <th></th>\n",
       "      <th>date</th>\n",
       "      <th>county</th>\n",
       "      <th>state</th>\n",
       "      <th>fips</th>\n",
       "      <th>cases</th>\n",
       "      <th>deaths</th>\n",
       "    </tr>\n",
       "  </thead>\n",
       "  <tbody>\n",
       "    <tr>\n",
       "      <th>0</th>\n",
       "      <td>2020-01-21</td>\n",
       "      <td>Snohomish</td>\n",
       "      <td>Washington</td>\n",
       "      <td>53061.0</td>\n",
       "      <td>1</td>\n",
       "      <td>0.0</td>\n",
       "    </tr>\n",
       "    <tr>\n",
       "      <th>1</th>\n",
       "      <td>2020-01-22</td>\n",
       "      <td>Snohomish</td>\n",
       "      <td>Washington</td>\n",
       "      <td>53061.0</td>\n",
       "      <td>1</td>\n",
       "      <td>0.0</td>\n",
       "    </tr>\n",
       "  </tbody>\n",
       "</table style=\"display:inline\"></td><td style=\"vertical-align:top\"> <table style=\"display:inline\" border=\"1\" class=\"dataframe\">\n",
       "  <thead>\n",
       "    <tr style=\"text-align: right;\">\n",
       "      <th></th>\n",
       "      <th>pop</th>\n",
       "      <th>state</th>\n",
       "      <th>county</th>\n",
       "    </tr>\n",
       "  </thead>\n",
       "  <tbody>\n",
       "    <tr>\n",
       "      <th>0</th>\n",
       "      <td>4198</td>\n",
       "      <td>35</td>\n",
       "      <td>23</td>\n",
       "    </tr>\n",
       "    <tr>\n",
       "      <th>1</th>\n",
       "      <td>672391</td>\n",
       "      <td>34</td>\n",
       "      <td>17</td>\n",
       "    </tr>\n",
       "  </tbody>\n",
       "</table style=\"display:inline\"></td></tr></table style=\"display:inline\">"
      ]
     },
     "metadata": {},
     "output_type": "display_data"
    }
   ],
   "source": [
    "# Import Datasets\n",
    "df = pd.read_csv('https://raw.githubusercontent.com/nytimes/covid-19-data/master/us-counties.csv')\n",
    "pop = pd.read_csv(os.path.join(data_path, 'us-county-2019-population.csv'))\n",
    "helpers.side_by_side([df.head(2), pop.head(2)], ['Nytimes Dataset', 'Population Dataset'])"
   ]
  },
  {
   "cell_type": "markdown",
   "metadata": {},
   "source": [
    "### Task 5\n",
    "1. Drop nulls values for the fips column in the nytimes dataset"
   ]
  },
  {
   "cell_type": "code",
   "execution_count": 16,
   "metadata": {},
   "outputs": [
    {
     "name": "stdout",
     "output_type": "stream",
     "text": [
      "<class 'pandas.core.frame.DataFrame'>\n",
      "RangeIndex: 810173 entries, 0 to 810172\n",
      "Data columns (total 6 columns):\n",
      "date      810173 non-null object\n",
      "county    810173 non-null object\n",
      "state     810173 non-null object\n",
      "fips      802497 non-null float64\n",
      "cases     810173 non-null int64\n",
      "deaths    793206 non-null float64\n",
      "dtypes: float64(2), int64(1), object(3)\n",
      "memory usage: 37.1+ MB\n"
     ]
    }
   ],
   "source": [
    "df.info() #because fips will serve as join, we want to clean it up"
   ]
  },
  {
   "cell_type": "code",
   "execution_count": 17,
   "metadata": {},
   "outputs": [],
   "source": [
    "df.dropna(subset=['fips'], inplace=True)"
   ]
  },
  {
   "cell_type": "code",
   "execution_count": 18,
   "metadata": {},
   "outputs": [
    {
     "name": "stdout",
     "output_type": "stream",
     "text": [
      "<class 'pandas.core.frame.DataFrame'>\n",
      "Int64Index: 802497 entries, 0 to 810172\n",
      "Data columns (total 6 columns):\n",
      "date      802497 non-null object\n",
      "county    802497 non-null object\n",
      "state     802497 non-null object\n",
      "fips      802497 non-null float64\n",
      "cases     802497 non-null int64\n",
      "deaths    785530 non-null float64\n",
      "dtypes: float64(2), int64(1), object(3)\n",
      "memory usage: 42.9+ MB\n"
     ]
    }
   ],
   "source": [
    "df.info()"
   ]
  },
  {
   "cell_type": "markdown",
   "metadata": {
    "ExecuteTime": {
     "end_time": "2020-12-01T04:19:51.523692Z",
     "start_time": "2020-12-01T04:19:51.516794Z"
    }
   },
   "source": [
    "### Task 6\n",
    "\"fips\" are used for encoding geographic regions. For our purposes, fips can serve as our join key. \n",
    "\n",
    "<u>In the cell below</u> \n",
    "\n",
    "- Create a `'fips'` columns for the population dataset by merging the `'state'` and `'county'` columns.\n",
    "\n",
    "Example:\n",
    "\n",
    "If the state value is 35 and the county value is 100, the resulting fip code will be 35100.\n",
    "\n",
    "### Take note!\n",
    "> To create the fips code, the country code must always be three digits. If a county code is less than 100, a 0 will need to be added to the beginning of the county code. If a county code is less than 10, two zeroes will need to be added to the begining of the county code. \n",
    "\n",
    "Example:\n",
    "\n",
    "If the state code is 35 and the county code is 23, the resulting fip code will be 35023.\n",
    "\n",
    "If the state code is 35 and the county code is 9, the resulting fip code will 35009."
   ]
  },
  {
   "cell_type": "code",
   "execution_count": 25,
   "metadata": {},
   "outputs": [],
   "source": [
    "# Your code here\n",
    "\n",
    "#Quick route, Step 1: pop.county.astype(str).str.zfill(3)\n",
    "\n",
    "#Quick route, Step 2: pop.state.astype(str) + pop.county.astype(str).str.zfill(3)\n",
    "\n",
    "pop['fips'] = pop.state.astype(str) + pop.county.astype(str).str.zfill(3) #Quick route, Step 3\n"
   ]
  },
  {
   "cell_type": "code",
   "execution_count": 26,
   "metadata": {},
   "outputs": [
    {
     "data": {
      "text/html": [
       "<div>\n",
       "<style scoped>\n",
       "    .dataframe tbody tr th:only-of-type {\n",
       "        vertical-align: middle;\n",
       "    }\n",
       "\n",
       "    .dataframe tbody tr th {\n",
       "        vertical-align: top;\n",
       "    }\n",
       "\n",
       "    .dataframe thead th {\n",
       "        text-align: right;\n",
       "    }\n",
       "</style>\n",
       "<table border=\"1\" class=\"dataframe\">\n",
       "  <thead>\n",
       "    <tr style=\"text-align: right;\">\n",
       "      <th></th>\n",
       "      <th>pop</th>\n",
       "      <th>state</th>\n",
       "      <th>county</th>\n",
       "      <th>fips</th>\n",
       "    </tr>\n",
       "  </thead>\n",
       "  <tbody>\n",
       "    <tr>\n",
       "      <th>0</th>\n",
       "      <td>4198</td>\n",
       "      <td>35</td>\n",
       "      <td>23</td>\n",
       "      <td>35023</td>\n",
       "    </tr>\n",
       "    <tr>\n",
       "      <th>1</th>\n",
       "      <td>672391</td>\n",
       "      <td>34</td>\n",
       "      <td>17</td>\n",
       "      <td>34017</td>\n",
       "    </tr>\n",
       "    <tr>\n",
       "      <th>2</th>\n",
       "      <td>124371</td>\n",
       "      <td>34</td>\n",
       "      <td>19</td>\n",
       "      <td>34019</td>\n",
       "    </tr>\n",
       "    <tr>\n",
       "      <th>3</th>\n",
       "      <td>491845</td>\n",
       "      <td>34</td>\n",
       "      <td>27</td>\n",
       "      <td>34027</td>\n",
       "    </tr>\n",
       "    <tr>\n",
       "      <th>4</th>\n",
       "      <td>71367</td>\n",
       "      <td>35</td>\n",
       "      <td>31</td>\n",
       "      <td>35031</td>\n",
       "    </tr>\n",
       "  </tbody>\n",
       "</table>\n",
       "</div>"
      ],
      "text/plain": [
       "      pop  state  county   fips\n",
       "0    4198     35      23  35023\n",
       "1  672391     34      17  34017\n",
       "2  124371     34      19  34019\n",
       "3  491845     34      27  34027\n",
       "4   71367     35      31  35031"
      ]
     },
     "execution_count": 26,
     "metadata": {},
     "output_type": "execute_result"
    }
   ],
   "source": [
    "pop.head()"
   ]
  },
  {
   "cell_type": "markdown",
   "metadata": {},
   "source": [
    "### Task 7\n",
    "\n",
    "<u>In the cell below</u>\n",
    "- Merge the nytimes covid dataset and the population dataset.\n",
    "\n",
    "#### Hint\n",
    "\n",
    "Make sure the datatypes of your join columns match!"
   ]
  },
  {
   "cell_type": "code",
   "execution_count": 27,
   "metadata": {
    "scrolled": true
   },
   "outputs": [
    {
     "name": "stdout",
     "output_type": "stream",
     "text": [
      "<class 'pandas.core.frame.DataFrame'>\n",
      "Int64Index: 802497 entries, 0 to 810172\n",
      "Data columns (total 7 columns):\n",
      "date      802497 non-null object\n",
      "county    802497 non-null object\n",
      "state     802497 non-null object\n",
      "fips      802497 non-null float64\n",
      "cases     802497 non-null int64\n",
      "deaths    785530 non-null float64\n",
      "flips     802497 non-null object\n",
      "dtypes: float64(2), int64(1), object(4)\n",
      "memory usage: 49.0+ MB\n"
     ]
    }
   ],
   "source": [
    "df.info()"
   ]
  },
  {
   "cell_type": "code",
   "execution_count": 28,
   "metadata": {},
   "outputs": [
    {
     "name": "stdout",
     "output_type": "stream",
     "text": [
      "<class 'pandas.core.frame.DataFrame'>\n",
      "RangeIndex: 3220 entries, 0 to 3219\n",
      "Data columns (total 4 columns):\n",
      "pop       3220 non-null int64\n",
      "state     3220 non-null int64\n",
      "county    3220 non-null int64\n",
      "fips      3220 non-null object\n",
      "dtypes: int64(3), object(1)\n",
      "memory usage: 100.8+ KB\n"
     ]
    }
   ],
   "source": [
    "pop.info() #fips is our join, but the type differs across data sets and type change to string doesn't sync them"
   ]
  },
  {
   "cell_type": "code",
   "execution_count": 34,
   "metadata": {},
   "outputs": [],
   "source": [
    "df = df.drop(['flips'], axis=1) #after my error creating a new column 'flips'"
   ]
  },
  {
   "cell_type": "code",
   "execution_count": 39,
   "metadata": {},
   "outputs": [],
   "source": [
    "# Your code here\n",
    "df['fips'] = df.fips.astype(int).astype(str) #int syncs the two sets and then type can be changed"
   ]
  },
  {
   "cell_type": "code",
   "execution_count": 42,
   "metadata": {},
   "outputs": [
    {
     "data": {
      "text/html": [
       "<div>\n",
       "<style scoped>\n",
       "    .dataframe tbody tr th:only-of-type {\n",
       "        vertical-align: middle;\n",
       "    }\n",
       "\n",
       "    .dataframe tbody tr th {\n",
       "        vertical-align: top;\n",
       "    }\n",
       "\n",
       "    .dataframe thead th {\n",
       "        text-align: right;\n",
       "    }\n",
       "</style>\n",
       "<table border=\"1\" class=\"dataframe\">\n",
       "  <thead>\n",
       "    <tr style=\"text-align: right;\">\n",
       "      <th></th>\n",
       "      <th>date</th>\n",
       "      <th>county</th>\n",
       "      <th>state</th>\n",
       "      <th>fips</th>\n",
       "      <th>cases</th>\n",
       "      <th>deaths</th>\n",
       "      <th>pop</th>\n",
       "    </tr>\n",
       "  </thead>\n",
       "  <tbody>\n",
       "    <tr>\n",
       "      <th>0</th>\n",
       "      <td>2020-01-21</td>\n",
       "      <td>Snohomish</td>\n",
       "      <td>Washington</td>\n",
       "      <td>53061</td>\n",
       "      <td>1</td>\n",
       "      <td>0.0</td>\n",
       "      <td>822083</td>\n",
       "    </tr>\n",
       "    <tr>\n",
       "      <th>1</th>\n",
       "      <td>2020-01-22</td>\n",
       "      <td>Snohomish</td>\n",
       "      <td>Washington</td>\n",
       "      <td>53061</td>\n",
       "      <td>1</td>\n",
       "      <td>0.0</td>\n",
       "      <td>822083</td>\n",
       "    </tr>\n",
       "    <tr>\n",
       "      <th>2</th>\n",
       "      <td>2020-01-23</td>\n",
       "      <td>Snohomish</td>\n",
       "      <td>Washington</td>\n",
       "      <td>53061</td>\n",
       "      <td>1</td>\n",
       "      <td>0.0</td>\n",
       "      <td>822083</td>\n",
       "    </tr>\n",
       "    <tr>\n",
       "      <th>3</th>\n",
       "      <td>2020-01-24</td>\n",
       "      <td>Snohomish</td>\n",
       "      <td>Washington</td>\n",
       "      <td>53061</td>\n",
       "      <td>1</td>\n",
       "      <td>0.0</td>\n",
       "      <td>822083</td>\n",
       "    </tr>\n",
       "    <tr>\n",
       "      <th>4</th>\n",
       "      <td>2020-01-25</td>\n",
       "      <td>Snohomish</td>\n",
       "      <td>Washington</td>\n",
       "      <td>53061</td>\n",
       "      <td>1</td>\n",
       "      <td>0.0</td>\n",
       "      <td>822083</td>\n",
       "    </tr>\n",
       "  </tbody>\n",
       "</table>\n",
       "</div>"
      ],
      "text/plain": [
       "         date     county       state   fips  cases  deaths     pop\n",
       "0  2020-01-21  Snohomish  Washington  53061      1     0.0  822083\n",
       "1  2020-01-22  Snohomish  Washington  53061      1     0.0  822083\n",
       "2  2020-01-23  Snohomish  Washington  53061      1     0.0  822083\n",
       "3  2020-01-24  Snohomish  Washington  53061      1     0.0  822083\n",
       "4  2020-01-25  Snohomish  Washington  53061      1     0.0  822083"
      ]
     },
     "execution_count": 42,
     "metadata": {},
     "output_type": "execute_result"
    }
   ],
   "source": [
    "df = df.merge(pop[['fips', 'pop']], on='fips')\n",
    "df.head()"
   ]
  },
  {
   "cell_type": "code",
   "execution_count": 43,
   "metadata": {
    "scrolled": false
   },
   "outputs": [
    {
     "name": "stdout",
     "output_type": "stream",
     "text": [
      "<class 'pandas.core.frame.DataFrame'>\n",
      "Int64Index: 801460 entries, 0 to 801459\n",
      "Data columns (total 7 columns):\n",
      "date      801460 non-null object\n",
      "county    801460 non-null object\n",
      "state     801460 non-null object\n",
      "fips      801460 non-null object\n",
      "cases     801460 non-null int64\n",
      "deaths    784493 non-null float64\n",
      "pop       801460 non-null int64\n",
      "dtypes: float64(1), int64(2), object(4)\n",
      "memory usage: 48.9+ MB\n"
     ]
    }
   ],
   "source": [
    "df.info()"
   ]
  },
  {
   "cell_type": "code",
   "execution_count": 44,
   "metadata": {
    "scrolled": true
   },
   "outputs": [
    {
     "name": "stdout",
     "output_type": "stream",
     "text": [
      "<class 'pandas.core.frame.DataFrame'>\n",
      "RangeIndex: 3220 entries, 0 to 3219\n",
      "Data columns (total 4 columns):\n",
      "pop       3220 non-null int64\n",
      "state     3220 non-null int64\n",
      "county    3220 non-null int64\n",
      "fips      3220 non-null object\n",
      "dtypes: int64(3), object(1)\n",
      "memory usage: 100.8+ KB\n"
     ]
    }
   ],
   "source": [
    "pop.info()"
   ]
  },
  {
   "cell_type": "markdown",
   "metadata": {},
   "source": [
    "### Task 8\n",
    "\n",
    "Some population values have been randomly replaced with -9999."
   ]
  },
  {
   "cell_type": "code",
   "execution_count": 45,
   "metadata": {
    "ExecuteTime": {
     "end_time": "2020-12-01T20:45:51.362088Z",
     "start_time": "2020-12-01T20:45:51.154111Z"
    }
   },
   "outputs": [
    {
     "data": {
      "image/png": "[encoded data removed]",
      "text/plain": [
       "<Figure size 432x288 with 1 Axes>"
      ]
     },
     "metadata": {
      "needs_background": "light"
     },
     "output_type": "display_data"
    }
   ],
   "source": [
    "il = df[df.state == 'Illinois']\n",
    "\n",
    "il_counties = il.drop_duplicates(subset=['county'])\n",
    "\n",
    "il_counties[il_counties['pop'] < 75000]['pop'].hist()\n",
    "\n",
    "plt.title('Distribution of Illinois County Population')\n",
    "plt.show()"
   ]
  },
  {
   "cell_type": "markdown",
   "metadata": {
    "ExecuteTime": {
     "end_time": "2020-12-01T20:46:07.936316Z",
     "start_time": "2020-12-01T20:46:07.933235Z"
    }
   },
   "source": [
    "Please replace these values with the average."
   ]
  },
  {
   "cell_type": "code",
   "execution_count": 49,
   "metadata": {},
   "outputs": [
    {
     "data": {
      "text/html": [
       "<div>\n",
       "<style scoped>\n",
       "    .dataframe tbody tr th:only-of-type {\n",
       "        vertical-align: middle;\n",
       "    }\n",
       "\n",
       "    .dataframe tbody tr th {\n",
       "        vertical-align: top;\n",
       "    }\n",
       "\n",
       "    .dataframe thead th {\n",
       "        text-align: right;\n",
       "    }\n",
       "</style>\n",
       "<table border=\"1\" class=\"dataframe\">\n",
       "  <thead>\n",
       "    <tr style=\"text-align: right;\">\n",
       "      <th></th>\n",
       "      <th>cases</th>\n",
       "      <th>deaths</th>\n",
       "      <th>pop</th>\n",
       "    </tr>\n",
       "  </thead>\n",
       "  <tbody>\n",
       "    <tr>\n",
       "      <th>count</th>\n",
       "      <td>801460.000000</td>\n",
       "      <td>784493.000000</td>\n",
       "      <td>8.014600e+05</td>\n",
       "    </tr>\n",
       "    <tr>\n",
       "      <th>mean</th>\n",
       "      <td>1563.767402</td>\n",
       "      <td>42.645728</td>\n",
       "      <td>1.091443e+05</td>\n",
       "    </tr>\n",
       "    <tr>\n",
       "      <th>std</th>\n",
       "      <td>7546.017449</td>\n",
       "      <td>209.247156</td>\n",
       "      <td>3.508465e+05</td>\n",
       "    </tr>\n",
       "    <tr>\n",
       "      <th>min</th>\n",
       "      <td>1.000000</td>\n",
       "      <td>0.000000</td>\n",
       "      <td>-9.999000e+03</td>\n",
       "    </tr>\n",
       "    <tr>\n",
       "      <th>25%</th>\n",
       "      <td>30.000000</td>\n",
       "      <td>0.000000</td>\n",
       "      <td>1.219600e+04</td>\n",
       "    </tr>\n",
       "    <tr>\n",
       "      <th>50%</th>\n",
       "      <td>181.000000</td>\n",
       "      <td>3.000000</td>\n",
       "      <td>2.781200e+04</td>\n",
       "    </tr>\n",
       "    <tr>\n",
       "      <th>75%</th>\n",
       "      <td>798.000000</td>\n",
       "      <td>18.000000</td>\n",
       "      <td>7.299900e+04</td>\n",
       "    </tr>\n",
       "    <tr>\n",
       "      <th>max</th>\n",
       "      <td>466459.000000</td>\n",
       "      <td>8000.000000</td>\n",
       "      <td>1.003911e+07</td>\n",
       "    </tr>\n",
       "  </tbody>\n",
       "</table>\n",
       "</div>"
      ],
      "text/plain": [
       "               cases         deaths           pop\n",
       "count  801460.000000  784493.000000  8.014600e+05\n",
       "mean     1563.767402      42.645728  1.091443e+05\n",
       "std      7546.017449     209.247156  3.508465e+05\n",
       "min         1.000000       0.000000 -9.999000e+03\n",
       "25%        30.000000       0.000000  1.219600e+04\n",
       "50%       181.000000       3.000000  2.781200e+04\n",
       "75%       798.000000      18.000000  7.299900e+04\n",
       "max    466459.000000    8000.000000  1.003911e+07"
      ]
     },
     "execution_count": 49,
     "metadata": {},
     "output_type": "execute_result"
    }
   ],
   "source": [
    "df.describe()"
   ]
  },
  {
   "cell_type": "code",
   "execution_count": 50,
   "metadata": {
    "ExecuteTime": {
     "end_time": "2020-12-01T20:46:17.063532Z",
     "start_time": "2020-12-01T20:46:17.061215Z"
    }
   },
   "outputs": [],
   "source": [
    "# Your code here\n",
    "df.replace(to_replace=-9999, value=df['pop'].median(), inplace=True) \n",
    "#ensure another column doesn't have this value as well w describe"
   ]
  },
  {
   "cell_type": "markdown",
   "metadata": {},
   "source": [
    "### Task 9"
   ]
  },
  {
   "cell_type": "markdown",
   "metadata": {},
   "source": [
    "<u>In the cell below, create a `'cases_percapita'` column using the '`cases'` and `'pop'` columns.</u>"
   ]
  },
  {
   "cell_type": "code",
   "execution_count": 51,
   "metadata": {},
   "outputs": [],
   "source": [
    "# Your code here\n",
    "df['cases_percapita'] = df.cases/df['pop']"
   ]
  },
  {
   "cell_type": "markdown",
   "metadata": {},
   "source": [
    "### Task 10\n",
    "\n",
    "Using the `.groupby` method, create a dataframe called `'state'` that calulates the total number of cases for a given state."
   ]
  },
  {
   "cell_type": "code",
   "execution_count": 60,
   "metadata": {},
   "outputs": [],
   "source": [
    "# Your code here\n",
    "# in reality we'd probably want a more specific data set in order to grant more accuracy\n",
    "\n",
    "state = df[df.date == df.date.max()].groupby('state').sum()[['cases']]"
   ]
  },
  {
   "cell_type": "markdown",
   "metadata": {},
   "source": [
    "### Task 11\n",
    "\n",
    "Using the `.groupby` method, create a new dataframe called `state_bi_weekly` that calculates the total number of cases within the state for a 2 week period.\n",
    "\n",
    "**Hint**\n",
    "\n",
    "You will first need change the date column to a datetime datatype and set the date column as the index.\n",
    "\n",
    "This can be done with \n",
    "\n",
    "```df.index = pd.to_datetime(df.date)```\n",
    "\n",
    "> When using groupby with a datetime index you can use [pd.grouper](https://pandas.pydata.org/pandas-docs/stable/reference/api/pandas.Grouper.html)\n",
    "\n",
    "> Set the `freq` argument for `pd.Grouper` to `'SM'`."
   ]
  },
  {
   "cell_type": "code",
   "execution_count": 64,
   "metadata": {},
   "outputs": [
    {
     "data": {
      "text/html": [
       "<div>\n",
       "<style scoped>\n",
       "    .dataframe tbody tr th:only-of-type {\n",
       "        vertical-align: middle;\n",
       "    }\n",
       "\n",
       "    .dataframe tbody tr th {\n",
       "        vertical-align: top;\n",
       "    }\n",
       "\n",
       "    .dataframe thead th {\n",
       "        text-align: right;\n",
       "    }\n",
       "</style>\n",
       "<table border=\"1\" class=\"dataframe\">\n",
       "  <thead>\n",
       "    <tr style=\"text-align: right;\">\n",
       "      <th></th>\n",
       "      <th>state</th>\n",
       "      <th>date</th>\n",
       "      <th>cases</th>\n",
       "      <th>deaths</th>\n",
       "      <th>pop</th>\n",
       "      <th>cases_percapita</th>\n",
       "    </tr>\n",
       "  </thead>\n",
       "  <tbody>\n",
       "    <tr>\n",
       "      <th>0</th>\n",
       "      <td>Alabama</td>\n",
       "      <td>2020-02-29</td>\n",
       "      <td>18</td>\n",
       "      <td>0.0</td>\n",
       "      <td>2772310</td>\n",
       "      <td>0.000085</td>\n",
       "    </tr>\n",
       "    <tr>\n",
       "      <th>1</th>\n",
       "      <td>Alabama</td>\n",
       "      <td>2020-03-15</td>\n",
       "      <td>5112</td>\n",
       "      <td>28.0</td>\n",
       "      <td>55478852</td>\n",
       "      <td>0.047621</td>\n",
       "    </tr>\n",
       "    <tr>\n",
       "      <th>2</th>\n",
       "      <td>Alabama</td>\n",
       "      <td>2020-03-31</td>\n",
       "      <td>35533</td>\n",
       "      <td>947.0</td>\n",
       "      <td>71458993</td>\n",
       "      <td>0.504955</td>\n",
       "    </tr>\n",
       "    <tr>\n",
       "      <th>3</th>\n",
       "      <td>Alabama</td>\n",
       "      <td>2020-04-15</td>\n",
       "      <td>83564</td>\n",
       "      <td>2839.0</td>\n",
       "      <td>72169770</td>\n",
       "      <td>1.409249</td>\n",
       "    </tr>\n",
       "    <tr>\n",
       "      <th>4</th>\n",
       "      <td>Alabama</td>\n",
       "      <td>2020-04-30</td>\n",
       "      <td>135518</td>\n",
       "      <td>5391.0</td>\n",
       "      <td>72169770</td>\n",
       "      <td>2.508496</td>\n",
       "    </tr>\n",
       "    <tr>\n",
       "      <th>...</th>\n",
       "      <td>...</td>\n",
       "      <td>...</td>\n",
       "      <td>...</td>\n",
       "      <td>...</td>\n",
       "      <td>...</td>\n",
       "      <td>...</td>\n",
       "    </tr>\n",
       "    <tr>\n",
       "      <th>998</th>\n",
       "      <td>Wyoming</td>\n",
       "      <td>2020-09-30</td>\n",
       "      <td>104848</td>\n",
       "      <td>805.0</td>\n",
       "      <td>8681385</td>\n",
       "      <td>4.013534</td>\n",
       "    </tr>\n",
       "    <tr>\n",
       "      <th>999</th>\n",
       "      <td>Wyoming</td>\n",
       "      <td>2020-10-15</td>\n",
       "      <td>167040</td>\n",
       "      <td>1084.0</td>\n",
       "      <td>9260144</td>\n",
       "      <td>6.266662</td>\n",
       "    </tr>\n",
       "    <tr>\n",
       "      <th>1000</th>\n",
       "      <td>Wyoming</td>\n",
       "      <td>2020-10-31</td>\n",
       "      <td>256899</td>\n",
       "      <td>1654.0</td>\n",
       "      <td>8681385</td>\n",
       "      <td>9.377576</td>\n",
       "    </tr>\n",
       "    <tr>\n",
       "      <th>1001</th>\n",
       "      <td>Wyoming</td>\n",
       "      <td>2020-11-15</td>\n",
       "      <td>421395</td>\n",
       "      <td>2781.0</td>\n",
       "      <td>8681385</td>\n",
       "      <td>15.295687</td>\n",
       "    </tr>\n",
       "    <tr>\n",
       "      <th>1002</th>\n",
       "      <td>Wyoming</td>\n",
       "      <td>2020-11-30</td>\n",
       "      <td>319150</td>\n",
       "      <td>2263.0</td>\n",
       "      <td>5208831</td>\n",
       "      <td>11.618315</td>\n",
       "    </tr>\n",
       "  </tbody>\n",
       "</table>\n",
       "<p>1003 rows × 6 columns</p>\n",
       "</div>"
      ],
      "text/plain": [
       "        state       date   cases  deaths       pop  cases_percapita\n",
       "0     Alabama 2020-02-29      18     0.0   2772310         0.000085\n",
       "1     Alabama 2020-03-15    5112    28.0  55478852         0.047621\n",
       "2     Alabama 2020-03-31   35533   947.0  71458993         0.504955\n",
       "3     Alabama 2020-04-15   83564  2839.0  72169770         1.409249\n",
       "4     Alabama 2020-04-30  135518  5391.0  72169770         2.508496\n",
       "...       ...        ...     ...     ...       ...              ...\n",
       "998   Wyoming 2020-09-30  104848   805.0   8681385         4.013534\n",
       "999   Wyoming 2020-10-15  167040  1084.0   9260144         6.266662\n",
       "1000  Wyoming 2020-10-31  256899  1654.0   8681385         9.377576\n",
       "1001  Wyoming 2020-11-15  421395  2781.0   8681385        15.295687\n",
       "1002  Wyoming 2020-11-30  319150  2263.0   5208831        11.618315\n",
       "\n",
       "[1003 rows x 6 columns]"
      ]
     },
     "execution_count": 64,
     "metadata": {},
     "output_type": "execute_result"
    }
   ],
   "source": [
    "# Your code here\n",
    "\n",
    "df.index = pd.to_datetime(df.date)\n",
    "state_bi_weekly = df.groupby(['state', pd.Grouper(freq='SM')]).sum().reset_index() #reset takes away nesting\n",
    "state_bi_weekly"
   ]
  },
  {
   "cell_type": "markdown",
   "metadata": {},
   "source": [
    "### Task 12\n",
    "\n",
    "Please identify the names of the states that the top 5 lines in the below line chart represent. "
   ]
  },
  {
   "cell_type": "code",
   "execution_count": 65,
   "metadata": {
    "ExecuteTime": {
     "end_time": "2020-12-01T21:35:20.546170Z",
     "start_time": "2020-12-01T21:35:20.156842Z"
    }
   },
   "outputs": [
    {
     "data": {
      "image/png": "[encoded data removed]",
      "text/plain": [
       "<Figure size 720x576 with 1 Axes>"
      ]
     },
     "metadata": {
      "needs_background": "light"
     },
     "output_type": "display_data"
    }
   ],
   "source": [
    "state_bi_weekly.index = pd.to_datetime(state_bi_weekly.date)\n",
    "state_bi_weekly.pivot(columns = 'state', values='cases').iloc[:-1].plot(legend = False, figsize=(10,8))\n",
    "plt.title('Bi Weekly Cases by State')\n",
    "plt.show()"
   ]
  },
  {
   "cell_type": "code",
   "execution_count": 70,
   "metadata": {},
   "outputs": [
    {
     "data": {
      "text/plain": [
       "Index(['California', 'Texas', 'Florida', 'Illinois', 'Georgia'], dtype='object', name='state')"
      ]
     },
     "execution_count": 70,
     "metadata": {},
     "output_type": "execute_result"
    }
   ],
   "source": [
    "# Your code here\n",
    "\n",
    "# list(state_bi_weekly.sort_values('cases', ascending=False).state[:5]) original intent showed duplicates\n",
    "state_bi_weekly.pivot(columns = 'state', values='cases').T.sort_values('2020-11-30', ascending=False).index[:5]"
   ]
  }
 ],
 "metadata": {
  "kernelspec": {
   "display_name": "Python 3",
   "language": "python",
   "name": "python3"
  },
  "language_info": {
   "codemirror_mode": {
    "name": "ipython",
    "version": 3
   },
   "file_extension": ".py",
   "mimetype": "text/x-python",
   "name": "python",
   "nbconvert_exporter": "python",
   "pygments_lexer": "ipython3",
   "version": "3.6.9"
  },
  "toc": {
   "base_numbering": 1,
   "nav_menu": {},
   "number_sections": false,
   "sideBar": true,
   "skip_h1_title": false,
   "title_cell": "Table of Contents",
   "title_sidebar": "Contents",
   "toc_cell": false,
   "toc_position": {},
   "toc_section_display": true,
   "toc_window_display": false
  }
 },
 "nbformat": 4,
 "nbformat_minor": 2
}
