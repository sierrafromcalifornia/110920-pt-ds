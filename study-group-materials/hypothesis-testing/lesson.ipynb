{
 "cells": [
  {
   "cell_type": "markdown",
   "metadata": {},
   "source": [
    "# Hypothesis Testing"
   ]
  },
  {
   "cell_type": "markdown",
   "metadata": {},
   "source": [
    "# Agenda\n",
    "\n",
    "1. Establish the basic framework and vocabulary for hypothesis testing\n",
    "2. Define Null and Alternative Hypothesis\n",
    "3. Define p-value, alpha, Type 1 and Type 2 Errors\n",
    "4. Define and perform Z-tests\n",
    "5. Define and perform T-tests: 1 sample and 2 sample"
   ]
  },
  {
   "cell_type": "code",
   "execution_count": 1,
   "metadata": {
    "ExecuteTime": {
     "end_time": "2021-01-21T14:49:35.129436Z",
     "start_time": "2021-01-21T14:49:35.126796Z"
    }
   },
   "outputs": [],
   "source": [
    "import numpy as np\n",
    "from scipy import stats"
   ]
  },
  {
   "cell_type": "markdown",
   "metadata": {},
   "source": [
    "# Let's begin with code, work through a computational version of hypothesis testing"
   ]
  },
  {
   "cell_type": "markdown",
   "metadata": {},
   "source": [
    "Let's work with the normal distribution, since it's so useful. Suppose we are told that African elephants have weights distributed normally around a mean of 9000 lbs., with a standard deviation of 900 lbs. Pachyderm Adventures has recently measured the weights of 40 African elephants in Gabon and has calculated their average weight at 8637 lbs. They claim that these statistics on the Gabonese elephants are significant. Let's find out!"
   ]
  },
  {
   "cell_type": "code",
   "execution_count": 2,
   "metadata": {
    "ExecuteTime": {
     "end_time": "2021-01-21T14:49:37.080172Z",
     "start_time": "2021-01-21T14:49:37.077236Z"
    }
   },
   "outputs": [],
   "source": [
    "np.random.seed(42)\n",
    "# Let's simulate a sample, using numpy's random.normal function:\n",
    "random_sample = np.random.normal(9000,900,40)"
   ]
  },
  {
   "cell_type": "markdown",
   "metadata": {},
   "source": [
    "## Refresher on CLT\n",
    "\n",
    "<img src=\"./img/sampling-dist.jpg\" width=\"500\" class=\"center\">\n",
    "Remember the CLT states that as a sample size $n$ increases, the sampling distribution from a random sample size of $n$ will more closely approximate a normal distribution.  \n",
    "\n",
    "<img src=\"./img/Normal-Distribution.png\" width=\"500\" class=\"center\">\n"
   ]
  },
  {
   "cell_type": "code",
   "execution_count": 3,
   "metadata": {
    "ExecuteTime": {
     "end_time": "2021-01-21T14:49:49.094024Z",
     "start_time": "2021-01-21T14:49:49.075751Z"
    }
   },
   "outputs": [],
   "source": [
    "# So let's take the means of 1000 samples and store them in a list\n",
    "np.random.seed(42)\n",
    "sample_means = []\n",
    "for _ in range(1000):\n",
    "    sample_mean = np.random.normal(9000,900,40).mean()\n",
    "    sample_means.append(sample_mean)"
   ]
  },
  {
   "cell_type": "markdown",
   "metadata": {
    "ExecuteTime": {
     "end_time": "2021-01-21T14:45:07.803718Z",
     "start_time": "2021-01-21T14:45:07.619942Z"
    }
   },
   "source": [
    "Now plot the sampling distribution"
   ]
  },
  {
   "cell_type": "code",
   "execution_count": 8,
   "metadata": {
    "ExecuteTime": {
     "end_time": "2021-01-21T14:49:50.871210Z",
     "start_time": "2021-01-21T14:49:50.673947Z"
    }
   },
   "outputs": [
    {
     "data": {
      "image/png": "[encoded data removed]",
      "text/plain": [
       "<Figure size 432x288 with 1 Axes>"
      ]
     },
     "metadata": {
      "needs_background": "light"
     },
     "output_type": "display_data"
    }
   ],
   "source": [
    "import matplotlib.pyplot as plt\n",
    "fig, ax = plt.subplots()\n",
    "ax.hist(sample_means, bins=20);"
   ]
  },
  {
   "cell_type": "markdown",
   "metadata": {
    "ExecuteTime": {
     "end_time": "2021-01-21T20:29:08.410908Z",
     "start_time": "2021-01-21T20:29:08.408773Z"
    }
   },
   "source": [
    "Now, let's count the number of times the randomly samples' means has a value less than or equal to the mean of our Gabonese sample."
   ]
  },
  {
   "cell_type": "code",
   "execution_count": 9,
   "metadata": {},
   "outputs": [
    {
     "name": "stdout",
     "output_type": "stream",
     "text": [
      "9\n"
     ]
    }
   ],
   "source": [
    "# Your code here\n",
    "less_than_sample_count = 0\n",
    "for mean in sample_means:\n",
    "    if mean <= 8637:\n",
    "        less_than_sample_count += 1\n",
    "\n",
    "print(less_than_sample_count)"
   ]
  },
  {
   "cell_type": "code",
   "execution_count": 10,
   "metadata": {
    "ExecuteTime": {
     "end_time": "2021-01-21T14:50:37.288204Z",
     "start_time": "2021-01-21T14:50:37.284970Z"
    }
   },
   "outputs": [
    {
     "data": {
      "text/plain": [
       "0.009"
      ]
     },
     "execution_count": 10,
     "metadata": {},
     "output_type": "execute_result"
    }
   ],
   "source": [
    "# The probability of finding a value less than or equal to our sample statistic is:\n",
    "less_than_sample_count/len(sample_means)"
   ]
  },
  {
   "cell_type": "markdown",
   "metadata": {},
   "source": [
    "P values represent - what proportion of the distribution is up to a certain value within that normal distribution"
   ]
  },
  {
   "cell_type": "markdown",
   "metadata": {},
   "source": [
    "Now let's calculate the z-score analytically.\n",
    "Remember the formula for z-score:  \n",
    "\n",
    "\n",
    "$z = \\large\\dfrac{{\\bar{x}} - \\mu_{0}}{\\dfrac{\\sigma}{\\sqrt{n}}}$"
   ]
  },
  {
   "cell_type": "code",
   "execution_count": 12,
   "metadata": {
    "ExecuteTime": {
     "end_time": "2021-01-21T14:52:05.359780Z",
     "start_time": "2021-01-21T14:52:05.355710Z"
    }
   },
   "outputs": [
    {
     "data": {
      "text/plain": [
       "-2.550903979202493"
      ]
     },
     "execution_count": 12,
     "metadata": {},
     "output_type": "execute_result"
    }
   ],
   "source": [
    "# convert that z-score to a probability\n",
    "z_score = (8637 - 9000)/(900/np.sqrt(40))\n",
    "z_score"
   ]
  },
  {
   "cell_type": "markdown",
   "metadata": {},
   "source": [
    "Z score shows within a z distribution, how many standard deviations is this mean deviated from the expected mean.\n",
    "\n",
    "When dealing with z-score that is negative, we're pointing to left side of normal distribution."
   ]
  },
  {
   "cell_type": "code",
   "execution_count": 14,
   "metadata": {
    "ExecuteTime": {
     "end_time": "2021-01-21T14:52:19.355405Z",
     "start_time": "2021-01-21T14:52:19.074632Z"
    }
   },
   "outputs": [
    {
     "data": {
      "text/plain": [
       "0.005372196151815369"
      ]
     },
     "execution_count": 14,
     "metadata": {},
     "output_type": "execute_result"
    }
   ],
   "source": [
    "# calculate our p value using cummulative density function\n",
    "from scipy import stats\n",
    "stats.norm.cdf(z_score)\n",
    "\n",
    "# sometimes you'll see 1 - stats.norm.cdf(z_score)"
   ]
  },
  {
   "cell_type": "markdown",
   "metadata": {},
   "source": [
    "We're interested in finding the percentage of data that falls outside of wherever that z-score falls, aka the tails of that distribution.\n",
    "If we're aiming to go to the right side, we'd do 1- because we're isolating what portion is on the right side."
   ]
  },
  {
   "cell_type": "markdown",
   "metadata": {},
   "source": [
    "# Now let's add the vocabulary and framework to create fullfledged hypothesis tests"
   ]
  },
  {
   "cell_type": "markdown",
   "metadata": {},
   "source": [
    "## Scenario\n",
    "\n",
    "The Donut Fairy is a new gourmet donut shop. They want to increase sales at their store so they decide to give out some coupons.  They give forty of their customers a 3 dollar off coupon. On average, with no coupon, a Donut Fairy customer spends 13.5 dollars a visit, with a standard deviation of 3.5 dollars. They find that the 40 customers they gave a coupon spend on average 17 dollars with a standard deviation of 4. They would like to know whether this **increased** expenditure is a result of offering the coupon rather than chance occurrence.\n"
   ]
  },
  {
   "cell_type": "markdown",
   "metadata": {},
   "source": [
    "Notes: AKA what is the likelihood/odds that we can attribute this sample to random chance? Rather then having other causation behind what's causing this sample to look different then rest of population."
   ]
  },
  {
   "cell_type": "markdown",
   "metadata": {},
   "source": [
    "# 1: Establish the basic framework and assumptions for hypothesis testing"
   ]
  },
  {
   "cell_type": "markdown",
   "metadata": {},
   "source": [
    "### High Level Hypothesis Testing\n",
    "1. Start with a Scientific Question (yes/no)\n",
    "\n",
    "2. Take the skeptical stance (Null hypothesis) - to help us get into place of neutrality\n",
    "\n",
    "3. State the complement (Alternative) - hypothesis we think could be true that we're testing for.\n",
    "\n",
    "4. Create a model of the situation Assuming the Null Hypothesis is True!\n",
    "\n",
    "5. Decide how surprised you would need to be in order to change your mind"
   ]
  },
  {
   "cell_type": "markdown",
   "metadata": {},
   "source": [
    "### Hypothesis Testing Steps"
   ]
  },
  {
   "cell_type": "markdown",
   "metadata": {},
   "source": [
    "1. Set up null and alternative hypotheses\n",
    "\n",
    "2. Specify the appropriate statistical test\n",
    "\n",
    "3. Choose a significance level (alpha or a-value)\n",
    "\n",
    "4. Determine the critical value of test statistic\n",
    "\n",
    "5. Calculate the observed value of the test statistic and the p-value.\n",
    "\n",
    "6. Make a decision (reject or fail to reject) regarding the Null Hypothesis by comparing the observed value of the test-statistic with critical value."
   ]
  },
  {
   "cell_type": "markdown",
   "metadata": {},
   "source": [
    "### 1: Setup Null and Alternative Hypotheses\n"
   ]
  },
  {
   "cell_type": "markdown",
   "metadata": {},
   "source": [
    "### The Null Hypothesis\n",
    "\n",
    "Generally speaking, the null hypothesis is \"There is not difference\".\n",
    "\n",
    "We would state this for a one-tail test as something like, \n",
    "> \"the mean of our sample is not greater than the mean of the overall population\""
   ]
  },
  {
   "cell_type": "markdown",
   "metadata": {},
   "source": [
    "If we're testing the function of a new drug, then the null hypothesis will say that the drug has _no effect_ on patients, or anyway no effect relative to relief of the malady the drug was designed to combat. "
   ]
  },
  {
   "cell_type": "markdown",
   "metadata": {},
   "source": [
    "### The Alternative hypothesis"
   ]
  },
  {
   "cell_type": "markdown",
   "metadata": {},
   "source": [
    "If we're testing whether Peeps cause dementia, then the null hypothesis will say that there is _no correlation_ between Peeps consumption and rate of dementia development.\n",
    "\n",
    "Alternatively, the alternative hypothesis would state that there is a correlation between peeps consumption and rate of dementia development. "
   ]
  },
  {
   "cell_type": "markdown",
   "metadata": {},
   "source": [
    "![peeps](https://media.giphy.com/media/j3kh0AAZfeNP2/giphy.gif)"
   ]
  },
  {
   "cell_type": "markdown",
   "metadata": {},
   "source": [
    "![](./img/summary_one_two.jpg)"
   ]
  },
  {
   "cell_type": "markdown",
   "metadata": {},
   "source": [
    "## Practice: Write the hypotheses\n",
    "\n",
    "<img src=\"img/talking.jpeg\" width=\"60\" align='left'>\n",
    "\n",
    "</br>\n",
    "\n",
    "With a classmate Slack out the null and alternative hypotheses for The Donut Fairy example in your own words."
   ]
  },
  {
   "cell_type": "markdown",
   "metadata": {},
   "source": [
    "### Step 2: Specify the type of test "
   ]
  },
  {
   "cell_type": "markdown",
   "metadata": {},
   "source": [
    "### How do we know whether we need to use a z-test or a t-test? \n",
    "\n",
    "<img src=\"img/z_or_t_test.png\" width=\"500\">"
   ]
  },
  {
   "cell_type": "code",
   "execution_count": null,
   "metadata": {},
   "outputs": [],
   "source": [
    "# What type of test should we use?\n",
    "# z-test"
   ]
  },
  {
   "cell_type": "markdown",
   "metadata": {},
   "source": [
    "## Step 3: Choosing a significance level\n",
    "\n",
    "### How Unlikely Is Too Unlikely?\n",
    "\n",
    "### $Alpha: \\alpha$\n",
    "\n",
    "In order to test our hypothesis we will need a way to decide if we should reject the null hypothesis.  The way we do this is by setting the $\\alpha$ value, otherwise known as the significance level before we conduct our analysis.  The $\\alpha$ value is the probability of rejecting the null hypothesis when it is true.  For example an $\\alpha$ value of 0.05 indicates that there is a 5% risk of rejecting the null hypothesis when it fact it is true.  \n",
    "\n",
    "Note:  We can choose our alpha value based on how important it is to be accurate in our decision making. It is common to have alpha values of .10, .05, or .01 but you can set any value.\n",
    "\n",
    "<img src=\"./img/alpha_regions.jpg\" width=800  class=\"center\">\n",
    "\n",
    "### Since it is a common alpha level and we don't have a particularly risky decision to make we will use an alpha level of 0.05."
   ]
  },
  {
   "cell_type": "markdown",
   "metadata": {},
   "source": [
    "## Step 4: Determine the critical value of test statistic\n",
    "\n",
    "For our donut example, we have to find the zscore associated with an $\\alpha$ of .05\n",
    "\n",
    "To do so, we can use stats.norm.ppf(), or a z-table."
   ]
  },
  {
   "cell_type": "code",
   "execution_count": 16,
   "metadata": {},
   "outputs": [
    {
     "data": {
      "text/plain": [
       "1.6448536269514722"
      ]
     },
     "execution_count": 16,
     "metadata": {},
     "output_type": "execute_result"
    }
   ],
   "source": [
    "# code here\n",
    "z_critical = stats.norm.ppf(.95) # one right tail test\n",
    "z_critical"
   ]
  },
  {
   "cell_type": "markdown",
   "metadata": {},
   "source": [
    "Note: In order for us to deem a value significant, the z-score for that value needs to fall beyond this value."
   ]
  },
  {
   "cell_type": "markdown",
   "metadata": {},
   "source": [
    "# Step 5: Calculating the observed test value and our p-value"
   ]
  },
  {
   "cell_type": "markdown",
   "metadata": {},
   "source": [
    "The basic idea of a p-value is the probability the you would obtain this value in your sample, or larger, if the null hypothesis is true of the population. \n",
    "\n",
    "<img src=\"./img/one_tailed.png\" width=800  class=\"center\">\n"
   ]
  },
  {
   "cell_type": "markdown",
   "metadata": {},
   "source": [
    "# Let's calculate our observed zscore\n",
    "\n",
    "\n",
    "$z = \\large\\dfrac{{\\bar{x}} - \\mu_{0}}{\\dfrac{\\sigma}{\\sqrt{n}}}$\n"
   ]
  },
  {
   "cell_type": "code",
   "execution_count": 17,
   "metadata": {},
   "outputs": [
    {
     "data": {
      "text/plain": [
       "6.324555320336759"
      ]
     },
     "execution_count": 17,
     "metadata": {},
     "output_type": "execute_result"
    }
   ],
   "source": [
    "# Code\n",
    "z = (17-13.5)/(3.5/np.sqrt(40))\n",
    "z"
   ]
  },
  {
   "cell_type": "code",
   "execution_count": 19,
   "metadata": {},
   "outputs": [
    {
     "data": {
      "text/plain": [
       "1.269814253745949e-10"
      ]
     },
     "execution_count": 19,
     "metadata": {},
     "output_type": "execute_result"
    }
   ],
   "source": [
    "# Now calculate p-value using  stats.norm.cdf()\n",
    "1 - stats.norm.cdf(z)"
   ]
  },
  {
   "cell_type": "markdown",
   "metadata": {},
   "source": [
    "Note above that the decimal value needs to be moved ten times."
   ]
  },
  {
   "cell_type": "markdown",
   "metadata": {},
   "source": [
    "# Step 6: Making A Decision!\n",
    "\n",
    "\n",
    "Once we have our observed test value we can compare it to our alpha value to make a decision regarding our hypothesis.  In step 4 we determined that the critical z-statistic was $\\pm$ 1.645 and our critical p-value was 0.05.  Our observed t-statistic was 6.32 and observed p-value of 1.269814253745949e-10 are more extreme than the critical values, falling in the region of rejection.  Thus we are able to reject the null hypothesis that the sales did not differ depending on the type of coupon the customers received.\n",
    "\n",
    "\n",
    "<img src=\"img/pval_1.jpg\" width=500  class=\"center\">\n",
    "\n",
    "\n",
    "If $p$ observed $\\lt \\alpha$, we reject the null hypothesis.:\n",
    "\n",
    "If $p$ observed $\\geq \\alpha$, we fail to reject the null hypothesis.\n",
    "\n",
    "> **We do not accept the alternative hypothesis, we only reject or fail to reject the null hypothesis in favor of the alternative.**\n",
    "\n",
    "* We do not throw out failed experiments! \n",
    "* We say \"this methodology, with this data, does not produce significant results\" \n",
    "    * Maybe we need more data!"
   ]
  },
  {
   "cell_type": "markdown",
   "metadata": {},
   "source": [
    "\n",
    "## Type 1 Errors (False Positives) and Type 2 Errors (False Negatives)\n",
    "\n",
    "Observing the presence of some factor (i.e. counter to the null hypothesis) when in fact it is not there (i.e. the null hypothesis is true) is called a \"false positive\". Failing to observe the presence of some factor (i.e. in accord with the null hypothesis) when in fact it is there (i.e. the null hypothesis is false) is called a \"false negative\".\n",
    "\n",
    "![](./img/decisions.jpg)"
   ]
  },
  {
   "cell_type": "markdown",
   "metadata": {},
   "source": [
    "# T-tests"
   ]
  },
  {
   "cell_type": "markdown",
   "metadata": {},
   "source": [
    "According to the **Central Limit Theorem**, the sampling distribution of a statistic, like the sample mean, will follow a normal distribution _as long as the sample size is sufficiently large_. \n",
    "\n",
    "__What if we don't have large sample sizes?__\n",
    "\n",
    "When we do not know the population standard deviation or we have a small sample size, the sampling distribution of the sample statistic will follow a t-distribution.  \n",
    "* Smaller sample sizes have larger variance, and t-distributions account for that by having heavier tails than the normal distribution.\n",
    "* t-distributions are parameterized by degrees of freedom, fewer degrees of freedom fatter tails. Also converges to a normal distribution as df >> 0\n",
    "\n",
    "<img src=\"./img/distributions1.png\" width=600  class=\"center\">\n"
   ]
  },
  {
   "cell_type": "markdown",
   "metadata": {},
   "source": [
    "Let's reimagine the Donut Fairy scenario above.  Now, instead of 40 people, the Donut Fairy owner only gives out $10 coupons to 20 people.\n",
    "\n",
    "\n",
    "The Donut Fairy is a new gourmet donut shop. They want to increase sales at their store so they decide to give out some coupons.  They give **20** of their customers a 3 dollar off coupon. On average, with no coupon, a Donut Fairy customer spends 13.5 dollars a visit, with a standard deviation of 3.5 dollars. They find that the **20** customers they gave a coupon spend on average 17 dollars with a standard deviation of 4. They would like to know whether this increased expenditure is a result of offering the coupon rather than chance occurrence.\n"
   ]
  },
  {
   "cell_type": "markdown",
   "metadata": {},
   "source": [
    "# Steps \n",
    "\n",
    "1. Set up null and alternative hypotheses\n",
    "\n",
    "2. Specify the appropriate statistical test\n",
    "\n",
    "3. Choose a significance level (alpha)\n",
    "\n",
    "4. Determine the critical value of test statistic\n",
    "\n",
    "5. Calculate the observed value of the test statistic and the p-value.\n",
    "\n",
    "6. Make a decision (reject or fail to reject) regarding the Null Hypothesis by comparing the observed value of the test-statistic with critical value."
   ]
  },
  {
   "cell_type": "code",
   "execution_count": null,
   "metadata": {},
   "outputs": [],
   "source": [
    "#1 - bring in terminology of scenario\n",
    "# H0 = Customer with coupon spends same amount or less as customer without a coupon\n",
    "# H1 = Customer with coupon spends more then a customer without a coupon"
   ]
  },
  {
   "cell_type": "code",
   "execution_count": null,
   "metadata": {},
   "outputs": [],
   "source": [
    "#2\n",
    "# We'll use a t-test because while we have the population standard deviation, we don't have >=30 samples\n",
    "# right-tailed t-test\n",
    "# one sample (comparing sample of data to some parameters) or two sample (comparing two samples together)"
   ]
  },
  {
   "cell_type": "code",
   "execution_count": 29,
   "metadata": {},
   "outputs": [],
   "source": [
    "#3\n",
    "alpha = .05"
   ]
  },
  {
   "cell_type": "code",
   "execution_count": 25,
   "metadata": {},
   "outputs": [],
   "source": [
    "# 4 Determine the t-critical value using stats.t.ppf()\n",
    "critical_t = stats.t.ppf(.95, 20-1)"
   ]
  },
  {
   "cell_type": "code",
   "execution_count": 23,
   "metadata": {},
   "outputs": [
    {
     "name": "stdout",
     "output_type": "stream",
     "text": [
      "3.81403657559809\n"
     ]
    },
    {
     "data": {
      "text/plain": [
       "0.0005858130880024293"
      ]
     },
     "execution_count": 23,
     "metadata": {},
     "output_type": "execute_result"
    }
   ],
   "source": [
    "#5 Determine the sample test statistic and corresponding pvalue\n",
    "t = (17-13.5)/(4/np.sqrt(19))\n",
    "print(t)\n",
    "p_val = 1 - stats.t.cdf(t, 19)\n",
    "p_val"
   ]
  },
  {
   "cell_type": "code",
   "execution_count": 27,
   "metadata": {},
   "outputs": [
    {
     "data": {
      "text/plain": [
       "True"
      ]
     },
     "execution_count": 27,
     "metadata": {},
     "output_type": "execute_result"
    }
   ],
   "source": [
    "# is t value greater then t critical\n",
    "t > critical_t"
   ]
  },
  {
   "cell_type": "code",
   "execution_count": 30,
   "metadata": {},
   "outputs": [
    {
     "data": {
      "text/plain": [
       "True"
      ]
     },
     "execution_count": 30,
     "metadata": {},
     "output_type": "execute_result"
    }
   ],
   "source": [
    "# is p value less than our alpha\n",
    "p_val <= alpha"
   ]
  },
  {
   "cell_type": "markdown",
   "metadata": {},
   "source": [
    "Now, we know that there is significant evidence to reject the null hypothesis."
   ]
  },
  {
   "cell_type": "markdown",
   "metadata": {},
   "source": [
    "\n",
    "\n",
    "* For small sample sizes or samples with unknown population standard deviation, the test statistic of the sample mean is given by the **t-statistic**, \n",
    "$$ t = \\frac{\\bar{x} - \\mu}{s/\\sqrt{n}} $$ Here, $s$ is the sample standard deviation, which is used to estimate the population standard deviation, and $\\mu$ is the population mean.  \n",
    "\n",
    "* Our hypothesis test tries to answer the question of how likely we are to observe a t-statistic as extreme as our sample's given the null hypothesis that the sample and population have the same mean, given a significance threshold of $\\alpha$. This is a one-sample t-test."
   ]
  },
  {
   "cell_type": "code",
   "execution_count": null,
   "metadata": {},
   "outputs": [],
   "source": [
    "#6 Make a decision (reject or fail to reject) regarding the Null Hypothesis by comparing the observed value of the test-statistic with critical value."
   ]
  },
  {
   "cell_type": "code",
   "execution_count": null,
   "metadata": {},
   "outputs": [],
   "source": [
    "# Your code here"
   ]
  },
  {
   "cell_type": "markdown",
   "metadata": {},
   "source": [
    "Most often, you will have access to the values of the sample.  If you have access to those values, we can feed them into the stats ttest_1samp function \n",
    "\n",
    "Consider the following array associated with the purchases of the 20 Donut Fairy customers given 3 dollar coupons."
   ]
  },
  {
   "cell_type": "code",
   "execution_count": null,
   "metadata": {
    "ExecuteTime": {
     "end_time": "2021-01-21T20:23:06.993953Z",
     "start_time": "2021-01-21T20:23:06.990723Z"
    }
   },
   "outputs": [],
   "source": [
    "coupon_purchase_amount = [11, 17, 15, 19, 15, 17, 17, 10, 18, 13, 11, 12, 16, 18, 16, 10, 15, 15, 14, 10]"
   ]
  },
  {
   "cell_type": "code",
   "execution_count": null,
   "metadata": {
    "ExecuteTime": {
     "end_time": "2021-01-21T20:24:10.658647Z",
     "start_time": "2021-01-21T20:24:10.656488Z"
    }
   },
   "outputs": [],
   "source": [
    "# Pass array into stats.ttest_1samp() along with the known population mean\n"
   ]
  },
  {
   "cell_type": "code",
   "execution_count": null,
   "metadata": {
    "ExecuteTime": {
     "end_time": "2021-01-21T20:23:57.112408Z",
     "start_time": "2021-01-21T20:23:57.108130Z"
    }
   },
   "outputs": [],
   "source": [
    "# check\n",
    "test_stat = (np.mean(coupon_purchase_amount) - 13.5)/(np.std(coupon_purchase_amount, ddof=1)/np.sqrt(len(coupon_purchase_amount)))\n",
    "test_stat"
   ]
  },
  {
   "cell_type": "markdown",
   "metadata": {},
   "source": [
    "\n",
    "\n",
    "## Two-sample t-tests \n",
    "\n",
    "Sometimes, we are interested in determining whether two population means are equal. In this case, we use two-sample t-tests.\n",
    "\n",
    "There are two types of two-sample t-tests: **paired** and **independent** (unpaired) tests. \n",
    "\n",
    "What's the difference?  \n",
    "\n",
    "**Paired tests**: How is a sample affected by a certain treatment? The individuals in the sample remain the same and you compare how they change after treatment. \n",
    "\n",
    "**Independent tests**: When we compare two different, unrelated samples to each other, we use an independent (or unpaired) two-sample t-test."
   ]
  },
  {
   "cell_type": "markdown",
   "metadata": {},
   "source": [
    "## Scenario\n",
    "\n",
    "The Donut Fairy is a new gourmet donut shop. They want to increase sales at their store so they decide to give out some coupons.  They give twenty of their customers a 50% off coupon and an additional 20 people a 10 dollars off coupon.  After a month The Donut Fairy had gathered the following data regarding the purchase amounts corresponding to the two coupons. \n",
    "\n",
    "```\n",
    "# ad1 - 50% off coupon\n",
    "ad_1=[22, 16, 26, 29, 14, 10, 23, 20, 17, 19, 27, 22, 15, 21, 24, 9, 29, 22, 19, 16]\n",
    "\n",
    "#ad2 - 10 dollars off coupon\n",
    "ad_2=[12, 14, 11, 22, 13, 17, 15, 20, 15, 13, 15, 14, 12, 14, 15, 16, 17, 14, 21, 10]\n",
    "```\n",
    "\n",
    "The Donut Fairy is now wondering how sure they can be that the difference between the average sales were a result of difference in coupon types rather than chance occurrence.\n"
   ]
  },
  {
   "cell_type": "markdown",
   "metadata": {},
   "source": [
    "<img src=\"./img/coupon1.png\" width=\"300\"> <img src=\"./img/coupon2.png\" width=\"300\"> "
   ]
  },
  {
   "cell_type": "markdown",
   "metadata": {},
   "source": [
    "# Steps "
   ]
  },
  {
   "cell_type": "markdown",
   "metadata": {},
   "source": [
    "1. Set up null and alternative hypotheses"
   ]
  },
  {
   "cell_type": "code",
   "execution_count": null,
   "metadata": {},
   "outputs": [],
   "source": [
    "# Your answer here"
   ]
  },
  {
   "cell_type": "markdown",
   "metadata": {},
   "source": [
    "2. Specify the appropriate statistical test\n"
   ]
  },
  {
   "cell_type": "code",
   "execution_count": null,
   "metadata": {},
   "outputs": [],
   "source": [
    "# Your answer"
   ]
  },
  {
   "cell_type": "markdown",
   "metadata": {},
   "source": [
    "3. Choose a significance level (alpha)"
   ]
  },
  {
   "cell_type": "code",
   "execution_count": null,
   "metadata": {},
   "outputs": [],
   "source": [
    "# Your answer here"
   ]
  },
  {
   "cell_type": "markdown",
   "metadata": {},
   "source": [
    "4. Determine the critical value of test statistic\n",
    "5. Calculate the observed value of the test statistic and the p-value."
   ]
  },
  {
   "cell_type": "code",
   "execution_count": null,
   "metadata": {},
   "outputs": [],
   "source": [
    "\n",
    "# ad1 - 50% off coupon\n",
    "ad_1=[22, 16, 26, 29, 14, 10, 23, 20, 17, 19, 27, 22, 15, 21, 24, 9, 29, 22, 19, 16]\n",
    "\n",
    "#ad2 - 10 dollars off coupon\n",
    "ad_2=[12, 14, 11, 22, 13, 17, 15, 20, 15, 13, 15, 14, 12, 14, 15, 16, 17, 14, 21, 10]\n",
    "result = stats.ttest_ind(ad_1, ad_2, equal_var=False)\n",
    "\n",
    "result"
   ]
  },
  {
   "cell_type": "markdown",
   "metadata": {},
   "source": [
    "6. Make a decision (reject or fail to reject) regarding the Null Hypothesis by comparing the observed value of the test-statistic with critical value."
   ]
  },
  {
   "cell_type": "code",
   "execution_count": null,
   "metadata": {},
   "outputs": [],
   "source": [
    "# Your code here"
   ]
  },
  {
   "cell_type": "markdown",
   "metadata": {
    "slideshow": {
     "slide_type": "slide"
    }
   },
   "source": [
    "# Summary \n",
    "\n",
    "Key Takeaways:\n",
    "\n",
    "* A statistical hypothesis test is a method for testing a hypothesis about a parameter in a population using data measured in a sample. \n",
    "* Hypothesis tests consist of a null hypothesis and an alternative hypothesis.\n",
    "* We test a hypothesis by determining the chance of obtaining a sample statistic if the null hypothesis regarding the population parameter is true. \n",
    "* One-sample z-tests and one-sample t-tests are hypothesis tests for the population mean $\\mu$. \n",
    "* We use a one-sample z-test for the population mean when the population standard deviation is known and the sample size is sufficiently large. We use a one-sample t-test for the population mean when the population standard deviation is unknown or when the sample size is small. \n",
    "* Two-sample t-tests are hypothesis tests for differences in two population means. "
   ]
  }
 ],
 "metadata": {
  "kernelspec": {
   "display_name": "Python 3",
   "language": "python",
   "name": "python3"
  },
  "language_info": {
   "codemirror_mode": {
    "name": "ipython",
    "version": 3
   },
   "file_extension": ".py",
   "mimetype": "text/x-python",
   "name": "python",
   "nbconvert_exporter": "python",
   "pygments_lexer": "ipython3",
   "version": "3.6.12"
  },
  "toc": {
   "base_numbering": 1,
   "nav_menu": {},
   "number_sections": false,
   "sideBar": true,
   "skip_h1_title": false,
   "title_cell": "Table of Contents",
   "title_sidebar": "Contents",
   "toc_cell": false,
   "toc_position": {},
   "toc_section_display": true,
   "toc_window_display": false
  }
 },
 "nbformat": 4,
 "nbformat_minor": 4
}
